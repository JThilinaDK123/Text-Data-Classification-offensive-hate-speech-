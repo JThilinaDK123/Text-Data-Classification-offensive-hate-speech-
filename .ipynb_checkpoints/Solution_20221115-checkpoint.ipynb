{
 "cells": [
  {
   "cell_type": "markdown",
   "id": "UKMH4dtGsKhs",
   "metadata": {
    "id": "UKMH4dtGsKhs"
   },
   "source": [
    "# ***Text Analytics***\n",
    "\n",
    "**Name:** LIYANA ARACHCHIGE THILINA JAYASINGHE\n",
    "\n",
    "**RGU Number:** 2236770\n",
    "\n",
    "**IIT Number:** 20221115"
   ]
  },
  {
   "cell_type": "code",
   "execution_count": 2,
   "id": "9lpx-4BuoXmY",
   "metadata": {
    "colab": {
     "base_uri": "https://localhost:8080/"
    },
    "executionInfo": {
     "elapsed": 21037,
     "status": "ok",
     "timestamp": 1690026719429,
     "user": {
      "displayName": "Thilina Jayasinghe",
      "userId": "04972212134470764724"
     },
     "user_tz": -330
    },
    "id": "9lpx-4BuoXmY",
    "outputId": "ac3e0646-e476-4fd8-8b4f-5f6001275397"
   },
   "outputs": [
    {
     "name": "stdout",
     "output_type": "stream",
     "text": [
      "Mounted at /content/drive\n"
     ]
    }
   ],
   "source": [
    "#importdrive\n",
    "from google.colab import drive\n",
    "drive.mount('/content/drive')"
   ]
  },
  {
   "cell_type": "markdown",
   "id": "plRMn_oMzFcT",
   "metadata": {
    "id": "plRMn_oMzFcT"
   },
   "source": [
    "### ***Prerequisites :***"
   ]
  },
  {
   "cell_type": "markdown",
   "id": "8h0ppJGOzKQO",
   "metadata": {
    "id": "8h0ppJGOzKQO"
   },
   "source": [
    "Since, twitter has some limitation on data scraping I used selenium to scrape news articles directly from their websites. For that, I have selected 10 srilankan news sites and scraped the news artciles using following python scripts.\n",
    "\n",
    "***Scripts that use to scape the data :*** https://drive.google.com/drive/folders/1B5pwsl9Nfv1FQkR0zLQukp8QQms-vdsg?usp=sharing\n",
    "\n",
    "Then I have merged all the scraped data into one csv file.\n",
    "\n",
    "***Final csv file with news articles:*** https://drive.google.com/file/d/1HcnBFCdvMcaZVx_Xct-fODTf22XtzuP7/view?usp=sharing"
   ]
  },
  {
   "cell_type": "markdown",
   "id": "RfMiK6yValm1",
   "metadata": {
    "id": "RfMiK6yValm1"
   },
   "source": [
    "### ***Import the libraries***"
   ]
  },
  {
   "cell_type": "code",
   "execution_count": 3,
   "id": "mCa8BnbooiAw",
   "metadata": {
    "colab": {
     "base_uri": "https://localhost:8080/"
    },
    "executionInfo": {
     "elapsed": 7094,
     "status": "ok",
     "timestamp": 1690026726521,
     "user": {
      "displayName": "Thilina Jayasinghe",
      "userId": "04972212134470764724"
     },
     "user_tz": -330
    },
    "id": "mCa8BnbooiAw",
    "outputId": "5550d9a6-66d4-4617-abf1-95019aa6aa91"
   },
   "outputs": [
    {
     "name": "stderr",
     "output_type": "stream",
     "text": [
      "[nltk_data] Downloading package punkt to /root/nltk_data...\n",
      "[nltk_data]   Unzipping tokenizers/punkt.zip.\n",
      "[nltk_data] Downloading package stopwords to /root/nltk_data...\n",
      "[nltk_data]   Unzipping corpora/stopwords.zip.\n",
      "[nltk_data] Downloading package wordnet to /root/nltk_data...\n",
      "[nltk_data] Downloading package averaged_perceptron_tagger to\n",
      "[nltk_data]     /root/nltk_data...\n",
      "[nltk_data]   Unzipping taggers/averaged_perceptron_tagger.zip.\n"
     ]
    },
    {
     "data": {
      "text/plain": [
       "True"
      ]
     },
     "execution_count": 3,
     "metadata": {},
     "output_type": "execute_result"
    }
   ],
   "source": [
    "import pandas as pd\n",
    "from nltk.tokenize import word_tokenize\n",
    "from nltk.corpus import stopwords\n",
    "from tqdm import tqdm\n",
    "import re\n",
    "import string\n",
    "from nltk.corpus import stopwords\n",
    "from nltk.stem import WordNetLemmatizer\n",
    "from sklearn.model_selection import train_test_split\n",
    "import nltk\n",
    "import gensim\n",
    "from sklearn import metrics\n",
    "from wordcloud import WordCloud\n",
    "import matplotlib.pyplot as plt\n",
    "import numpy as np\n",
    "from sklearn.naive_bayes import MultinomialNB\n",
    "from sklearn.linear_model import SGDClassifier\n",
    "from sklearn.metrics import confusion_matrix\n",
    "from sklearn.preprocessing import LabelEncoder\n",
    "import xgboost as xgb\n",
    "from sklearn.metrics import accuracy_score\n",
    "from collections import Counter\n",
    "from nltk import FreqDist\n",
    "import itertools\n",
    "from sklearn.utils import class_weight\n",
    "import matplotlib.pyplot as plt\n",
    "from sklearn.ensemble import AdaBoostClassifier\n",
    "from sklearn.tree import DecisionTreeClassifier\n",
    "from sklearn.model_selection import GridSearchCV\n",
    "from imblearn.over_sampling import SMOTE\n",
    "from sklearn.feature_extraction.text import CountVectorizer\n",
    "\n",
    "from gensim.models import Word2Vec\n",
    "from tensorflow.keras.preprocessing.text import Tokenizer\n",
    "from tensorflow.keras.preprocessing.sequence import pad_sequences\n",
    "from keras.utils import to_categorical\n",
    "from keras.models import Sequential\n",
    "from keras.layers import Embedding, Dense, Flatten\n",
    "from sklearn.model_selection import train_test_split\n",
    "from sklearn.metrics import accuracy_score, confusion_matrix, classification_report\n",
    "import tensorflow as tf\n",
    "from tensorflow import keras\n",
    "from tensorflow.keras.layers import Embedding, Conv1D, GlobalMaxPooling1D, Dense, Dropout\n",
    "from tensorflow.keras.models import Sequential\n",
    "from tensorflow.keras.preprocessing.sequence import pad_sequences\n",
    "from tensorflow.keras.preprocessing.text import Tokenizer\n",
    "\n",
    "import nltk\n",
    "nltk.download('punkt')\n",
    "nltk.download('stopwords')\n",
    "nltk.download('wordnet')\n",
    "nltk.download('averaged_perceptron_tagger')"
   ]
  },
  {
   "cell_type": "code",
   "execution_count": 4,
   "id": "j4Z9_59EuvqI",
   "metadata": {
    "colab": {
     "base_uri": "https://localhost:8080/"
    },
    "executionInfo": {
     "elapsed": 5064,
     "status": "ok",
     "timestamp": 1690026731582,
     "user": {
      "displayName": "Thilina Jayasinghe",
      "userId": "04972212134470764724"
     },
     "user_tz": -330
    },
    "id": "j4Z9_59EuvqI",
    "outputId": "268deb46-ebb5-4d81-83c7-6154c70c7f14"
   },
   "outputs": [
    {
     "name": "stdout",
     "output_type": "stream",
     "text": [
      "Collecting ipynb\n",
      "  Downloading ipynb-0.5.1-py3-none-any.whl (6.9 kB)\n",
      "Installing collected packages: ipynb\n",
      "Successfully installed ipynb-0.5.1\n"
     ]
    }
   ],
   "source": [
    "pip install ipynb"
   ]
  },
  {
   "cell_type": "markdown",
   "id": "QXob0uz-auuD",
   "metadata": {
    "id": "QXob0uz-auuD"
   },
   "source": [
    "### ***Export neccesary python files***"
   ]
  },
  {
   "cell_type": "code",
   "execution_count": 5,
   "id": "PpmswmtvGyrM",
   "metadata": {
    "executionInfo": {
     "elapsed": 1468,
     "status": "ok",
     "timestamp": 1690026733044,
     "user": {
      "displayName": "Thilina Jayasinghe",
      "userId": "04972212134470764724"
     },
     "user_tz": -330
    },
    "id": "PpmswmtvGyrM"
   },
   "outputs": [],
   "source": [
    "%run '/content/drive/MyDrive/Text-analytics/Analysis/normalization_new.py'"
   ]
  },
  {
   "cell_type": "code",
   "execution_count": 6,
   "id": "4Xw7VJRrG0xk",
   "metadata": {
    "executionInfo": {
     "elapsed": 663,
     "status": "ok",
     "timestamp": 1690026733704,
     "user": {
      "displayName": "Thilina Jayasinghe",
      "userId": "04972212134470764724"
     },
     "user_tz": -330
    },
    "id": "4Xw7VJRrG0xk"
   },
   "outputs": [],
   "source": [
    "%run '/content/drive/MyDrive/Text-analytics/Analysis/feature_extractors.py'"
   ]
  },
  {
   "cell_type": "markdown",
   "id": "g56UdA1ObYfy",
   "metadata": {
    "id": "g56UdA1ObYfy"
   },
   "source": [
    "# **Question - (a)**"
   ]
  },
  {
   "cell_type": "markdown",
   "id": "hSX--ysybASq",
   "metadata": {
    "id": "hSX--ysybASq"
   },
   "source": [
    "### ***Load the dataset***"
   ]
  },
  {
   "cell_type": "code",
   "execution_count": 7,
   "id": "57b12f1f",
   "metadata": {
    "executionInfo": {
     "elapsed": 1447,
     "status": "ok",
     "timestamp": 1690026735149,
     "user": {
      "displayName": "Thilina Jayasinghe",
      "userId": "04972212134470764724"
     },
     "user_tz": -330
    },
    "id": "57b12f1f"
   },
   "outputs": [],
   "source": [
    "data_path = '/content/drive/MyDrive/Text-analytics/Analysis/news_articles.csv'\n",
    "dataset = pd.read_csv(data_path)"
   ]
  },
  {
   "cell_type": "code",
   "execution_count": 8,
   "id": "0Htk69udorIU",
   "metadata": {
    "colab": {
     "base_uri": "https://localhost:8080/",
     "height": 424
    },
    "executionInfo": {
     "elapsed": 4,
     "status": "ok",
     "timestamp": 1690026735150,
     "user": {
      "displayName": "Thilina Jayasinghe",
      "userId": "04972212134470764724"
     },
     "user_tz": -330
    },
    "id": "0Htk69udorIU",
    "outputId": "a2520335-8bf7-4c92-aca2-55ea00a69368"
   },
   "outputs": [
    {
     "data": {
      "text/html": [
       "\n",
       "\n",
       "  <div id=\"df-7764f8dd-f5e2-443e-be05-8eca4a9b87cd\">\n",
       "    <div class=\"colab-df-container\">\n",
       "      <div>\n",
       "<style scoped>\n",
       "    .dataframe tbody tr th:only-of-type {\n",
       "        vertical-align: middle;\n",
       "    }\n",
       "\n",
       "    .dataframe tbody tr th {\n",
       "        vertical-align: top;\n",
       "    }\n",
       "\n",
       "    .dataframe thead th {\n",
       "        text-align: right;\n",
       "    }\n",
       "</style>\n",
       "<table border=\"1\" class=\"dataframe\">\n",
       "  <thead>\n",
       "    <tr style=\"text-align: right;\">\n",
       "      <th></th>\n",
       "      <th>title</th>\n",
       "      <th>article</th>\n",
       "      <th>news_agency</th>\n",
       "    </tr>\n",
       "  </thead>\n",
       "  <tbody>\n",
       "    <tr>\n",
       "      <th>0</th>\n",
       "      <td>GR resignation letter expected today  Daily FT</td>\n",
       "      <td>President Gotabaya Rajapaksa will send his le...</td>\n",
       "      <td>Daily_FT</td>\n",
       "    </tr>\n",
       "    <tr>\n",
       "      <th>1</th>\n",
       "      <td>EPFETF funds  Domestic Debt Optimization  BOC ...</td>\n",
       "      <td>The Sri Lanka Banks Association has emphasized...</td>\n",
       "      <td>Newswire</td>\n",
       "    </tr>\n",
       "    <tr>\n",
       "      <th>2</th>\n",
       "      <td>Free entry to Dehiwala Zoo for children</td>\n",
       "      <td>Entry to the Dehiwala Zoological Garden will ...</td>\n",
       "      <td>News_Radio</td>\n",
       "    </tr>\n",
       "    <tr>\n",
       "      <th>3</th>\n",
       "      <td>Port City Daily FT Xmas concert  Daily FT</td>\n",
       "      <td>Port City Colombo Xmas Concert with the De La...</td>\n",
       "      <td>Daily_FT</td>\n",
       "    </tr>\n",
       "    <tr>\n",
       "      <th>4</th>\n",
       "      <td>LIOC slashes fuel prices</td>\n",
       "      <td>Lanka Indian Oil Company LIOC has slashed the ...</td>\n",
       "      <td>LankanewsWeb.net</td>\n",
       "    </tr>\n",
       "    <tr>\n",
       "      <th>...</th>\n",
       "      <td>...</td>\n",
       "      <td>...</td>\n",
       "      <td>...</td>\n",
       "    </tr>\n",
       "    <tr>\n",
       "      <th>21206</th>\n",
       "      <td>LG Election Timeframe granted to accept postal...</td>\n",
       "      <td>The timeframe granted to accept postal voting...</td>\n",
       "      <td>News_Radio</td>\n",
       "    </tr>\n",
       "    <tr>\n",
       "      <th>21207</th>\n",
       "      <td>Former TRCSL Chief asserts privatizing telecom...</td>\n",
       "      <td>Former DirectorGeneral of the Telecommunicati...</td>\n",
       "      <td>News_Radio</td>\n",
       "    </tr>\n",
       "    <tr>\n",
       "      <th>21208</th>\n",
       "      <td>FIFA suspends Sri Lanka Football  NewsWire</td>\n",
       "      <td>Football Federation of Sri Lanka FFSL has been...</td>\n",
       "      <td>Newswire</td>\n",
       "    </tr>\n",
       "    <tr>\n",
       "      <th>21209</th>\n",
       "      <td>Sri Lankas first Agrivoltaic power plant opens...</td>\n",
       "      <td>Solar Universe Vavunathivu Solar PV Park  a 1...</td>\n",
       "      <td>Daily_FT</td>\n",
       "    </tr>\n",
       "    <tr>\n",
       "      <th>21210</th>\n",
       "      <td>May achieves monthly arrivals target regardles...</td>\n",
       "      <td>Despite it being an offpeak month, May achiev...</td>\n",
       "      <td>Daily_FT</td>\n",
       "    </tr>\n",
       "  </tbody>\n",
       "</table>\n",
       "<p>21211 rows × 3 columns</p>\n",
       "</div>\n",
       "      <button class=\"colab-df-convert\" onclick=\"convertToInteractive('df-7764f8dd-f5e2-443e-be05-8eca4a9b87cd')\"\n",
       "              title=\"Convert this dataframe to an interactive table.\"\n",
       "              style=\"display:none;\">\n",
       "\n",
       "  <svg xmlns=\"http://www.w3.org/2000/svg\" height=\"24px\"viewBox=\"0 0 24 24\"\n",
       "       width=\"24px\">\n",
       "    <path d=\"M0 0h24v24H0V0z\" fill=\"none\"/>\n",
       "    <path d=\"M18.56 5.44l.94 2.06.94-2.06 2.06-.94-2.06-.94-.94-2.06-.94 2.06-2.06.94zm-11 1L8.5 8.5l.94-2.06 2.06-.94-2.06-.94L8.5 2.5l-.94 2.06-2.06.94zm10 10l.94 2.06.94-2.06 2.06-.94-2.06-.94-.94-2.06-.94 2.06-2.06.94z\"/><path d=\"M17.41 7.96l-1.37-1.37c-.4-.4-.92-.59-1.43-.59-.52 0-1.04.2-1.43.59L10.3 9.45l-7.72 7.72c-.78.78-.78 2.05 0 2.83L4 21.41c.39.39.9.59 1.41.59.51 0 1.02-.2 1.41-.59l7.78-7.78 2.81-2.81c.8-.78.8-2.07 0-2.86zM5.41 20L4 18.59l7.72-7.72 1.47 1.35L5.41 20z\"/>\n",
       "  </svg>\n",
       "      </button>\n",
       "\n",
       "\n",
       "\n",
       "    <div id=\"df-52cd0f61-8a9b-405f-af51-39e612b3e89d\">\n",
       "      <button class=\"colab-df-quickchart\" onclick=\"quickchart('df-52cd0f61-8a9b-405f-af51-39e612b3e89d')\"\n",
       "              title=\"Suggest charts.\"\n",
       "              style=\"display:none;\">\n",
       "\n",
       "<svg xmlns=\"http://www.w3.org/2000/svg\" height=\"24px\"viewBox=\"0 0 24 24\"\n",
       "     width=\"24px\">\n",
       "    <g>\n",
       "        <path d=\"M19 3H5c-1.1 0-2 .9-2 2v14c0 1.1.9 2 2 2h14c1.1 0 2-.9 2-2V5c0-1.1-.9-2-2-2zM9 17H7v-7h2v7zm4 0h-2V7h2v10zm4 0h-2v-4h2v4z\"/>\n",
       "    </g>\n",
       "</svg>\n",
       "      </button>\n",
       "    </div>\n",
       "\n",
       "<style>\n",
       "  .colab-df-quickchart {\n",
       "    background-color: #E8F0FE;\n",
       "    border: none;\n",
       "    border-radius: 50%;\n",
       "    cursor: pointer;\n",
       "    display: none;\n",
       "    fill: #1967D2;\n",
       "    height: 32px;\n",
       "    padding: 0 0 0 0;\n",
       "    width: 32px;\n",
       "  }\n",
       "\n",
       "  .colab-df-quickchart:hover {\n",
       "    background-color: #E2EBFA;\n",
       "    box-shadow: 0px 1px 2px rgba(60, 64, 67, 0.3), 0px 1px 3px 1px rgba(60, 64, 67, 0.15);\n",
       "    fill: #174EA6;\n",
       "  }\n",
       "\n",
       "  [theme=dark] .colab-df-quickchart {\n",
       "    background-color: #3B4455;\n",
       "    fill: #D2E3FC;\n",
       "  }\n",
       "\n",
       "  [theme=dark] .colab-df-quickchart:hover {\n",
       "    background-color: #434B5C;\n",
       "    box-shadow: 0px 1px 3px 1px rgba(0, 0, 0, 0.15);\n",
       "    filter: drop-shadow(0px 1px 2px rgba(0, 0, 0, 0.3));\n",
       "    fill: #FFFFFF;\n",
       "  }\n",
       "</style>\n",
       "\n",
       "    <script>\n",
       "      async function quickchart(key) {\n",
       "        const containerElement = document.querySelector('#' + key);\n",
       "        const charts = await google.colab.kernel.invokeFunction(\n",
       "            'suggestCharts', [key], {});\n",
       "      }\n",
       "    </script>\n",
       "\n",
       "      <script>\n",
       "\n",
       "function displayQuickchartButton(domScope) {\n",
       "  let quickchartButtonEl =\n",
       "    domScope.querySelector('#df-52cd0f61-8a9b-405f-af51-39e612b3e89d button.colab-df-quickchart');\n",
       "  quickchartButtonEl.style.display =\n",
       "    google.colab.kernel.accessAllowed ? 'block' : 'none';\n",
       "}\n",
       "\n",
       "        displayQuickchartButton(document);\n",
       "      </script>\n",
       "      <style>\n",
       "    .colab-df-container {\n",
       "      display:flex;\n",
       "      flex-wrap:wrap;\n",
       "      gap: 12px;\n",
       "    }\n",
       "\n",
       "    .colab-df-convert {\n",
       "      background-color: #E8F0FE;\n",
       "      border: none;\n",
       "      border-radius: 50%;\n",
       "      cursor: pointer;\n",
       "      display: none;\n",
       "      fill: #1967D2;\n",
       "      height: 32px;\n",
       "      padding: 0 0 0 0;\n",
       "      width: 32px;\n",
       "    }\n",
       "\n",
       "    .colab-df-convert:hover {\n",
       "      background-color: #E2EBFA;\n",
       "      box-shadow: 0px 1px 2px rgba(60, 64, 67, 0.3), 0px 1px 3px 1px rgba(60, 64, 67, 0.15);\n",
       "      fill: #174EA6;\n",
       "    }\n",
       "\n",
       "    [theme=dark] .colab-df-convert {\n",
       "      background-color: #3B4455;\n",
       "      fill: #D2E3FC;\n",
       "    }\n",
       "\n",
       "    [theme=dark] .colab-df-convert:hover {\n",
       "      background-color: #434B5C;\n",
       "      box-shadow: 0px 1px 3px 1px rgba(0, 0, 0, 0.15);\n",
       "      filter: drop-shadow(0px 1px 2px rgba(0, 0, 0, 0.3));\n",
       "      fill: #FFFFFF;\n",
       "    }\n",
       "  </style>\n",
       "\n",
       "      <script>\n",
       "        const buttonEl =\n",
       "          document.querySelector('#df-7764f8dd-f5e2-443e-be05-8eca4a9b87cd button.colab-df-convert');\n",
       "        buttonEl.style.display =\n",
       "          google.colab.kernel.accessAllowed ? 'block' : 'none';\n",
       "\n",
       "        async function convertToInteractive(key) {\n",
       "          const element = document.querySelector('#df-7764f8dd-f5e2-443e-be05-8eca4a9b87cd');\n",
       "          const dataTable =\n",
       "            await google.colab.kernel.invokeFunction('convertToInteractive',\n",
       "                                                     [key], {});\n",
       "          if (!dataTable) return;\n",
       "\n",
       "          const docLinkHtml = 'Like what you see? Visit the ' +\n",
       "            '<a target=\"_blank\" href=https://colab.research.google.com/notebooks/data_table.ipynb>data table notebook</a>'\n",
       "            + ' to learn more about interactive tables.';\n",
       "          element.innerHTML = '';\n",
       "          dataTable['output_type'] = 'display_data';\n",
       "          await google.colab.output.renderOutput(dataTable, element);\n",
       "          const docLink = document.createElement('div');\n",
       "          docLink.innerHTML = docLinkHtml;\n",
       "          element.appendChild(docLink);\n",
       "        }\n",
       "      </script>\n",
       "    </div>\n",
       "  </div>\n"
      ],
      "text/plain": [
       "                                                   title  \\\n",
       "0         GR resignation letter expected today  Daily FT   \n",
       "1      EPFETF funds  Domestic Debt Optimization  BOC ...   \n",
       "2              Free entry to Dehiwala Zoo for children     \n",
       "3              Port City Daily FT Xmas concert  Daily FT   \n",
       "4                             LIOC slashes fuel prices     \n",
       "...                                                  ...   \n",
       "21206  LG Election Timeframe granted to accept postal...   \n",
       "21207  Former TRCSL Chief asserts privatizing telecom...   \n",
       "21208         FIFA suspends Sri Lanka Football  NewsWire   \n",
       "21209  Sri Lankas first Agrivoltaic power plant opens...   \n",
       "21210  May achieves monthly arrivals target regardles...   \n",
       "\n",
       "                                                 article       news_agency  \n",
       "0       President Gotabaya Rajapaksa will send his le...          Daily_FT  \n",
       "1      The Sri Lanka Banks Association has emphasized...          Newswire  \n",
       "2       Entry to the Dehiwala Zoological Garden will ...        News_Radio  \n",
       "3       Port City Colombo Xmas Concert with the De La...          Daily_FT  \n",
       "4      Lanka Indian Oil Company LIOC has slashed the ...  LankanewsWeb.net  \n",
       "...                                                  ...               ...  \n",
       "21206   The timeframe granted to accept postal voting...        News_Radio  \n",
       "21207   Former DirectorGeneral of the Telecommunicati...        News_Radio  \n",
       "21208  Football Federation of Sri Lanka FFSL has been...          Newswire  \n",
       "21209   Solar Universe Vavunathivu Solar PV Park  a 1...          Daily_FT  \n",
       "21210   Despite it being an offpeak month, May achiev...          Daily_FT  \n",
       "\n",
       "[21211 rows x 3 columns]"
      ]
     },
     "execution_count": 8,
     "metadata": {},
     "output_type": "execute_result"
    }
   ],
   "source": [
    "dataset"
   ]
  },
  {
   "cell_type": "markdown",
   "id": "uIRUHUXwIpyH",
   "metadata": {
    "id": "uIRUHUXwIpyH"
   },
   "source": [
    "### ***Clean the dataset***\n"
   ]
  },
  {
   "cell_type": "markdown",
   "id": "W_AaF6RWIyKJ",
   "metadata": {
    "id": "W_AaF6RWIyKJ"
   },
   "source": [
    "\n",
    "Here, we import two python scripts to do this cleaning part and the feature extractions. They are,\n",
    "\n",
    "\n",
    "1.   normalization.py - Use for data cleaning part\n",
    "2.   feature_extractors.py - Use for feature extractions\n",
    "\n",
    "Data cleaning steps:\n",
    "\n",
    "\n",
    "*   Lowercasing\n",
    "\n",
    "\n",
    "*   Remove URL's and emails\n",
    "\n",
    "\n",
    "*   Tokenization\n",
    "\n",
    "*   Removal of Punctuation\n",
    "\n",
    "*   Stop Word Removal\n",
    "\n",
    "*   Lemmatization\n",
    "*   Removal of Special Characters or Numbers\n",
    "\n",
    "\n",
    "*   Remove one letter token\n",
    "\n",
    "\n",
    "*   Check the number of duplicate records\n",
    "\n",
    "*   Check for the missing values\n",
    "\n",
    "\n",
    "\n",
    "\n",
    "\n",
    "\n",
    "\n",
    "\n",
    "\n"
   ]
  },
  {
   "cell_type": "code",
   "execution_count": 9,
   "id": "j0BoWsZAbkcz",
   "metadata": {
    "executionInfo": {
     "elapsed": 435333,
     "status": "ok",
     "timestamp": 1690027170480,
     "user": {
      "displayName": "Thilina Jayasinghe",
      "userId": "04972212134470764724"
     },
     "user_tz": -330
    },
    "id": "j0BoWsZAbkcz"
   },
   "outputs": [],
   "source": [
    "norm_train_corpus = normalize_corpus(dataset['article'])"
   ]
  },
  {
   "cell_type": "code",
   "execution_count": 10,
   "id": "eLiLTzxZbtui",
   "metadata": {
    "executionInfo": {
     "elapsed": 3,
     "status": "ok",
     "timestamp": 1690027170480,
     "user": {
      "displayName": "Thilina Jayasinghe",
      "userId": "04972212134470764724"
     },
     "user_tz": -330
    },
    "id": "eLiLTzxZbtui"
   },
   "outputs": [],
   "source": [
    "dataset['normalized_text'] = norm_train_corpus"
   ]
  },
  {
   "cell_type": "code",
   "execution_count": 11,
   "id": "3l8PXn8UeQnr",
   "metadata": {
    "executionInfo": {
     "elapsed": 13150,
     "status": "ok",
     "timestamp": 1690027183628,
     "user": {
      "displayName": "Thilina Jayasinghe",
      "userId": "04972212134470764724"
     },
     "user_tz": -330
    },
    "id": "3l8PXn8UeQnr"
   },
   "outputs": [],
   "source": [
    "dataset['tokenized_text'] = dataset['normalized_text'].apply(word_tokenize)"
   ]
  },
  {
   "cell_type": "code",
   "execution_count": 12,
   "id": "Lm-59LqNi6cS",
   "metadata": {
    "executionInfo": {
     "elapsed": 2113,
     "status": "ok",
     "timestamp": 1690027185718,
     "user": {
      "displayName": "Thilina Jayasinghe",
      "userId": "04972212134470764724"
     },
     "user_tz": -330
    },
    "id": "Lm-59LqNi6cS"
   },
   "outputs": [],
   "source": [
    "dataset['tokenized_text'] = dataset['tokenized_text'].apply(lambda tokens: [re.sub(r'[^A-Za-z]', '', token) for token in tokens])"
   ]
  },
  {
   "cell_type": "code",
   "execution_count": 13,
   "id": "a89yguyYewxg",
   "metadata": {
    "executionInfo": {
     "elapsed": 645,
     "status": "ok",
     "timestamp": 1690027186360,
     "user": {
      "displayName": "Thilina Jayasinghe",
      "userId": "04972212134470764724"
     },
     "user_tz": -330
    },
    "id": "a89yguyYewxg"
   },
   "outputs": [],
   "source": [
    "## Remove empty strings from the article column\n",
    "dataset['tokenized_text'] = [[word for word in article if word != ''] for article in dataset['tokenized_text']]"
   ]
  },
  {
   "cell_type": "code",
   "execution_count": 14,
   "id": "54Wa2dJ7d9Z2",
   "metadata": {
    "executionInfo": {
     "elapsed": 4,
     "status": "ok",
     "timestamp": 1690027186360,
     "user": {
      "displayName": "Thilina Jayasinghe",
      "userId": "04972212134470764724"
     },
     "user_tz": -330
    },
    "id": "54Wa2dJ7d9Z2"
   },
   "outputs": [],
   "source": [
    "# Remove One letter token\n",
    "dataset['tokenized_text'] = dataset['tokenized_text'].apply(lambda tokens: [token for token in tokens if len(token) > 1])"
   ]
  },
  {
   "cell_type": "code",
   "execution_count": 15,
   "id": "MZG-oHzRiHKM",
   "metadata": {
    "executionInfo": {
     "elapsed": 3,
     "status": "ok",
     "timestamp": 1690027186360,
     "user": {
      "displayName": "Thilina Jayasinghe",
      "userId": "04972212134470764724"
     },
     "user_tz": -330
    },
    "id": "MZG-oHzRiHKM"
   },
   "outputs": [],
   "source": [
    "def remove_words_with_numbers(text):\n",
    "    # Regular expression pattern to match words mixed with numbers\n",
    "    pattern = r'\\b\\w*\\d\\w*\\b'\n",
    "    return re.sub(pattern, '', text)"
   ]
  },
  {
   "cell_type": "code",
   "execution_count": 16,
   "id": "N22RRm0PciqE",
   "metadata": {
    "executionInfo": {
     "elapsed": 4,
     "status": "ok",
     "timestamp": 1690027186361,
     "user": {
      "displayName": "Thilina Jayasinghe",
      "userId": "04972212134470764724"
     },
     "user_tz": -330
    },
    "id": "N22RRm0PciqE"
   },
   "outputs": [],
   "source": [
    "dataset['normalized_text_new'] = dataset['tokenized_text'].apply(lambda x: ' '.join(map(str, x)))"
   ]
  },
  {
   "cell_type": "code",
   "execution_count": 17,
   "id": "vgRF98uriIlD",
   "metadata": {
    "executionInfo": {
     "elapsed": 1316,
     "status": "ok",
     "timestamp": 1690027187673,
     "user": {
      "displayName": "Thilina Jayasinghe",
      "userId": "04972212134470764724"
     },
     "user_tz": -330
    },
    "id": "vgRF98uriIlD"
   },
   "outputs": [],
   "source": [
    "dataset['normalized_text_new'] = dataset['normalized_text_new'].apply(remove_words_with_numbers)"
   ]
  },
  {
   "cell_type": "code",
   "execution_count": 18,
   "id": "kIItEOD0J9j9",
   "metadata": {
    "colab": {
     "base_uri": "https://localhost:8080/"
    },
    "executionInfo": {
     "elapsed": 11,
     "status": "ok",
     "timestamp": 1690027187673,
     "user": {
      "displayName": "Thilina Jayasinghe",
      "userId": "04972212134470764724"
     },
     "user_tz": -330
    },
    "id": "kIItEOD0J9j9",
    "outputId": "7afc4a2b-a279-465e-9259-1128f63684b2"
   },
   "outputs": [
    {
     "data": {
      "text/plain": [
       "title                  0\n",
       "article                0\n",
       "news_agency            0\n",
       "normalized_text        0\n",
       "tokenized_text         0\n",
       "normalized_text_new    0\n",
       "dtype: int64"
      ]
     },
     "execution_count": 18,
     "metadata": {},
     "output_type": "execute_result"
    }
   ],
   "source": [
    "## Check whether there any missing rows or not\n",
    "dataset.isna().sum() ## No missing values in the dataset"
   ]
  },
  {
   "cell_type": "code",
   "execution_count": 19,
   "id": "7WS_JTYAJ9p6",
   "metadata": {
    "colab": {
     "base_uri": "https://localhost:8080/"
    },
    "executionInfo": {
     "elapsed": 11,
     "status": "ok",
     "timestamp": 1690027187673,
     "user": {
      "displayName": "Thilina Jayasinghe",
      "userId": "04972212134470764724"
     },
     "user_tz": -330
    },
    "id": "7WS_JTYAJ9p6",
    "outputId": "3011802b-b47b-4d7e-b70b-bc53481b6d48"
   },
   "outputs": [
    {
     "data": {
      "text/plain": [
       "167"
      ]
     },
     "execution_count": 19,
     "metadata": {},
     "output_type": "execute_result"
    }
   ],
   "source": [
    "## Check for the duplicates\n",
    "dataset['normalized_text_new'].duplicated().sum()"
   ]
  },
  {
   "cell_type": "code",
   "execution_count": 20,
   "id": "b8HPHOHnL3uQ",
   "metadata": {
    "executionInfo": {
     "elapsed": 10,
     "status": "ok",
     "timestamp": 1690027187674,
     "user": {
      "displayName": "Thilina Jayasinghe",
      "userId": "04972212134470764724"
     },
     "user_tz": -330
    },
    "id": "b8HPHOHnL3uQ"
   },
   "outputs": [],
   "source": [
    "## Drop all the duplicates\n",
    "dataset.drop_duplicates(subset = ['normalized_text_new'], inplace=True)"
   ]
  },
  {
   "cell_type": "code",
   "execution_count": 21,
   "id": "j3TJfV_oMMbF",
   "metadata": {
    "colab": {
     "base_uri": "https://localhost:8080/",
     "height": 659
    },
    "executionInfo": {
     "elapsed": 431,
     "status": "ok",
     "timestamp": 1690027188095,
     "user": {
      "displayName": "Thilina Jayasinghe",
      "userId": "04972212134470764724"
     },
     "user_tz": -330
    },
    "id": "j3TJfV_oMMbF",
    "outputId": "ac9c1788-f8e2-4631-b8fd-475df10f9734"
   },
   "outputs": [
    {
     "data": {
      "text/html": [
       "\n",
       "\n",
       "  <div id=\"df-65dc4abf-763f-4ed0-a9f1-d8fa05084b9d\">\n",
       "    <div class=\"colab-df-container\">\n",
       "      <div>\n",
       "<style scoped>\n",
       "    .dataframe tbody tr th:only-of-type {\n",
       "        vertical-align: middle;\n",
       "    }\n",
       "\n",
       "    .dataframe tbody tr th {\n",
       "        vertical-align: top;\n",
       "    }\n",
       "\n",
       "    .dataframe thead th {\n",
       "        text-align: right;\n",
       "    }\n",
       "</style>\n",
       "<table border=\"1\" class=\"dataframe\">\n",
       "  <thead>\n",
       "    <tr style=\"text-align: right;\">\n",
       "      <th></th>\n",
       "      <th>title</th>\n",
       "      <th>article</th>\n",
       "      <th>news_agency</th>\n",
       "      <th>normalized_text</th>\n",
       "      <th>tokenized_text</th>\n",
       "      <th>normalized_text_new</th>\n",
       "    </tr>\n",
       "  </thead>\n",
       "  <tbody>\n",
       "    <tr>\n",
       "      <th>0</th>\n",
       "      <td>GR resignation letter expected today  Daily FT</td>\n",
       "      <td>President Gotabaya Rajapaksa will send his le...</td>\n",
       "      <td>Daily_FT</td>\n",
       "      <td>president gotabaya rajapaksa send letter resig...</td>\n",
       "      <td>[president, gotabaya, rajapaksa, send, letter,...</td>\n",
       "      <td>president gotabaya rajapaksa send letter resig...</td>\n",
       "    </tr>\n",
       "    <tr>\n",
       "      <th>1</th>\n",
       "      <td>EPFETF funds  Domestic Debt Optimization  BOC ...</td>\n",
       "      <td>The Sri Lanka Banks Association has emphasized...</td>\n",
       "      <td>Newswire</td>\n",
       "      <td>sri lanka bank association emphasize optimize ...</td>\n",
       "      <td>[sri, lanka, bank, association, emphasize, opt...</td>\n",
       "      <td>sri lanka bank association emphasize optimize ...</td>\n",
       "    </tr>\n",
       "    <tr>\n",
       "      <th>2</th>\n",
       "      <td>Free entry to Dehiwala Zoo for children</td>\n",
       "      <td>Entry to the Dehiwala Zoological Garden will ...</td>\n",
       "      <td>News_Radio</td>\n",
       "      <td>entry dehiwala zoological garden free charge c...</td>\n",
       "      <td>[entry, dehiwala, zoological, garden, free, ch...</td>\n",
       "      <td>entry dehiwala zoological garden free charge c...</td>\n",
       "    </tr>\n",
       "    <tr>\n",
       "      <th>3</th>\n",
       "      <td>Port City Daily FT Xmas concert  Daily FT</td>\n",
       "      <td>Port City Colombo Xmas Concert with the De La...</td>\n",
       "      <td>Daily_FT</td>\n",
       "      <td>port city colombo xmas concert de lanerolle br...</td>\n",
       "      <td>[port, city, colombo, xmas, concert, de, laner...</td>\n",
       "      <td>port city colombo xmas concert de lanerolle br...</td>\n",
       "    </tr>\n",
       "    <tr>\n",
       "      <th>4</th>\n",
       "      <td>LIOC slashes fuel prices</td>\n",
       "      <td>Lanka Indian Oil Company LIOC has slashed the ...</td>\n",
       "      <td>LankanewsWeb.net</td>\n",
       "      <td>lanka indian oil company lioc slash price fuel...</td>\n",
       "      <td>[lanka, indian, oil, company, lioc, slash, pri...</td>\n",
       "      <td>lanka indian oil company lioc slash price fuel...</td>\n",
       "    </tr>\n",
       "    <tr>\n",
       "      <th>...</th>\n",
       "      <td>...</td>\n",
       "      <td>...</td>\n",
       "      <td>...</td>\n",
       "      <td>...</td>\n",
       "      <td>...</td>\n",
       "      <td>...</td>\n",
       "    </tr>\n",
       "    <tr>\n",
       "      <th>21206</th>\n",
       "      <td>LG Election Timeframe granted to accept postal...</td>\n",
       "      <td>The timeframe granted to accept postal voting...</td>\n",
       "      <td>News_Radio</td>\n",
       "      <td>timeframe grant accept postal voting applicati...</td>\n",
       "      <td>[timeframe, grant, accept, postal, voting, app...</td>\n",
       "      <td>timeframe grant accept postal voting applicati...</td>\n",
       "    </tr>\n",
       "    <tr>\n",
       "      <th>21207</th>\n",
       "      <td>Former TRCSL Chief asserts privatizing telecom...</td>\n",
       "      <td>Former DirectorGeneral of the Telecommunicati...</td>\n",
       "      <td>News_Radio</td>\n",
       "      <td>former directorgeneral telecommunication regul...</td>\n",
       "      <td>[former, directorgeneral, telecommunication, r...</td>\n",
       "      <td>former directorgeneral telecommunication regul...</td>\n",
       "    </tr>\n",
       "    <tr>\n",
       "      <th>21208</th>\n",
       "      <td>FIFA suspends Sri Lanka Football  NewsWire</td>\n",
       "      <td>Football Federation of Sri Lanka FFSL has been...</td>\n",
       "      <td>Newswire</td>\n",
       "      <td>football federation sri lanka ffsl suspend fif...</td>\n",
       "      <td>[football, federation, sri, lanka, ffsl, suspe...</td>\n",
       "      <td>football federation sri lanka ffsl suspend fif...</td>\n",
       "    </tr>\n",
       "    <tr>\n",
       "      <th>21209</th>\n",
       "      <td>Sri Lankas first Agrivoltaic power plant opens...</td>\n",
       "      <td>Solar Universe Vavunathivu Solar PV Park  a 1...</td>\n",
       "      <td>Daily_FT</td>\n",
       "      <td>solar universe vavunathivu solar pv park 10mw ...</td>\n",
       "      <td>[solar, universe, vavunathivu, solar, pv, park...</td>\n",
       "      <td>solar universe vavunathivu solar pv park mw gr...</td>\n",
       "    </tr>\n",
       "    <tr>\n",
       "      <th>21210</th>\n",
       "      <td>May achieves monthly arrivals target regardles...</td>\n",
       "      <td>Despite it being an offpeak month, May achiev...</td>\n",
       "      <td>Daily_FT</td>\n",
       "      <td>despite offpeak month may achieve monthly arri...</td>\n",
       "      <td>[despite, offpeak, month, may, achieve, monthl...</td>\n",
       "      <td>despite offpeak month may achieve monthly arri...</td>\n",
       "    </tr>\n",
       "  </tbody>\n",
       "</table>\n",
       "<p>21044 rows × 6 columns</p>\n",
       "</div>\n",
       "      <button class=\"colab-df-convert\" onclick=\"convertToInteractive('df-65dc4abf-763f-4ed0-a9f1-d8fa05084b9d')\"\n",
       "              title=\"Convert this dataframe to an interactive table.\"\n",
       "              style=\"display:none;\">\n",
       "\n",
       "  <svg xmlns=\"http://www.w3.org/2000/svg\" height=\"24px\"viewBox=\"0 0 24 24\"\n",
       "       width=\"24px\">\n",
       "    <path d=\"M0 0h24v24H0V0z\" fill=\"none\"/>\n",
       "    <path d=\"M18.56 5.44l.94 2.06.94-2.06 2.06-.94-2.06-.94-.94-2.06-.94 2.06-2.06.94zm-11 1L8.5 8.5l.94-2.06 2.06-.94-2.06-.94L8.5 2.5l-.94 2.06-2.06.94zm10 10l.94 2.06.94-2.06 2.06-.94-2.06-.94-.94-2.06-.94 2.06-2.06.94z\"/><path d=\"M17.41 7.96l-1.37-1.37c-.4-.4-.92-.59-1.43-.59-.52 0-1.04.2-1.43.59L10.3 9.45l-7.72 7.72c-.78.78-.78 2.05 0 2.83L4 21.41c.39.39.9.59 1.41.59.51 0 1.02-.2 1.41-.59l7.78-7.78 2.81-2.81c.8-.78.8-2.07 0-2.86zM5.41 20L4 18.59l7.72-7.72 1.47 1.35L5.41 20z\"/>\n",
       "  </svg>\n",
       "      </button>\n",
       "\n",
       "\n",
       "\n",
       "    <div id=\"df-7e1321db-f8a2-4f8c-b15a-6744c565b2d0\">\n",
       "      <button class=\"colab-df-quickchart\" onclick=\"quickchart('df-7e1321db-f8a2-4f8c-b15a-6744c565b2d0')\"\n",
       "              title=\"Suggest charts.\"\n",
       "              style=\"display:none;\">\n",
       "\n",
       "<svg xmlns=\"http://www.w3.org/2000/svg\" height=\"24px\"viewBox=\"0 0 24 24\"\n",
       "     width=\"24px\">\n",
       "    <g>\n",
       "        <path d=\"M19 3H5c-1.1 0-2 .9-2 2v14c0 1.1.9 2 2 2h14c1.1 0 2-.9 2-2V5c0-1.1-.9-2-2-2zM9 17H7v-7h2v7zm4 0h-2V7h2v10zm4 0h-2v-4h2v4z\"/>\n",
       "    </g>\n",
       "</svg>\n",
       "      </button>\n",
       "    </div>\n",
       "\n",
       "<style>\n",
       "  .colab-df-quickchart {\n",
       "    background-color: #E8F0FE;\n",
       "    border: none;\n",
       "    border-radius: 50%;\n",
       "    cursor: pointer;\n",
       "    display: none;\n",
       "    fill: #1967D2;\n",
       "    height: 32px;\n",
       "    padding: 0 0 0 0;\n",
       "    width: 32px;\n",
       "  }\n",
       "\n",
       "  .colab-df-quickchart:hover {\n",
       "    background-color: #E2EBFA;\n",
       "    box-shadow: 0px 1px 2px rgba(60, 64, 67, 0.3), 0px 1px 3px 1px rgba(60, 64, 67, 0.15);\n",
       "    fill: #174EA6;\n",
       "  }\n",
       "\n",
       "  [theme=dark] .colab-df-quickchart {\n",
       "    background-color: #3B4455;\n",
       "    fill: #D2E3FC;\n",
       "  }\n",
       "\n",
       "  [theme=dark] .colab-df-quickchart:hover {\n",
       "    background-color: #434B5C;\n",
       "    box-shadow: 0px 1px 3px 1px rgba(0, 0, 0, 0.15);\n",
       "    filter: drop-shadow(0px 1px 2px rgba(0, 0, 0, 0.3));\n",
       "    fill: #FFFFFF;\n",
       "  }\n",
       "</style>\n",
       "\n",
       "    <script>\n",
       "      async function quickchart(key) {\n",
       "        const containerElement = document.querySelector('#' + key);\n",
       "        const charts = await google.colab.kernel.invokeFunction(\n",
       "            'suggestCharts', [key], {});\n",
       "      }\n",
       "    </script>\n",
       "\n",
       "      <script>\n",
       "\n",
       "function displayQuickchartButton(domScope) {\n",
       "  let quickchartButtonEl =\n",
       "    domScope.querySelector('#df-7e1321db-f8a2-4f8c-b15a-6744c565b2d0 button.colab-df-quickchart');\n",
       "  quickchartButtonEl.style.display =\n",
       "    google.colab.kernel.accessAllowed ? 'block' : 'none';\n",
       "}\n",
       "\n",
       "        displayQuickchartButton(document);\n",
       "      </script>\n",
       "      <style>\n",
       "    .colab-df-container {\n",
       "      display:flex;\n",
       "      flex-wrap:wrap;\n",
       "      gap: 12px;\n",
       "    }\n",
       "\n",
       "    .colab-df-convert {\n",
       "      background-color: #E8F0FE;\n",
       "      border: none;\n",
       "      border-radius: 50%;\n",
       "      cursor: pointer;\n",
       "      display: none;\n",
       "      fill: #1967D2;\n",
       "      height: 32px;\n",
       "      padding: 0 0 0 0;\n",
       "      width: 32px;\n",
       "    }\n",
       "\n",
       "    .colab-df-convert:hover {\n",
       "      background-color: #E2EBFA;\n",
       "      box-shadow: 0px 1px 2px rgba(60, 64, 67, 0.3), 0px 1px 3px 1px rgba(60, 64, 67, 0.15);\n",
       "      fill: #174EA6;\n",
       "    }\n",
       "\n",
       "    [theme=dark] .colab-df-convert {\n",
       "      background-color: #3B4455;\n",
       "      fill: #D2E3FC;\n",
       "    }\n",
       "\n",
       "    [theme=dark] .colab-df-convert:hover {\n",
       "      background-color: #434B5C;\n",
       "      box-shadow: 0px 1px 3px 1px rgba(0, 0, 0, 0.15);\n",
       "      filter: drop-shadow(0px 1px 2px rgba(0, 0, 0, 0.3));\n",
       "      fill: #FFFFFF;\n",
       "    }\n",
       "  </style>\n",
       "\n",
       "      <script>\n",
       "        const buttonEl =\n",
       "          document.querySelector('#df-65dc4abf-763f-4ed0-a9f1-d8fa05084b9d button.colab-df-convert');\n",
       "        buttonEl.style.display =\n",
       "          google.colab.kernel.accessAllowed ? 'block' : 'none';\n",
       "\n",
       "        async function convertToInteractive(key) {\n",
       "          const element = document.querySelector('#df-65dc4abf-763f-4ed0-a9f1-d8fa05084b9d');\n",
       "          const dataTable =\n",
       "            await google.colab.kernel.invokeFunction('convertToInteractive',\n",
       "                                                     [key], {});\n",
       "          if (!dataTable) return;\n",
       "\n",
       "          const docLinkHtml = 'Like what you see? Visit the ' +\n",
       "            '<a target=\"_blank\" href=https://colab.research.google.com/notebooks/data_table.ipynb>data table notebook</a>'\n",
       "            + ' to learn more about interactive tables.';\n",
       "          element.innerHTML = '';\n",
       "          dataTable['output_type'] = 'display_data';\n",
       "          await google.colab.output.renderOutput(dataTable, element);\n",
       "          const docLink = document.createElement('div');\n",
       "          docLink.innerHTML = docLinkHtml;\n",
       "          element.appendChild(docLink);\n",
       "        }\n",
       "      </script>\n",
       "    </div>\n",
       "  </div>\n"
      ],
      "text/plain": [
       "                                                   title  \\\n",
       "0         GR resignation letter expected today  Daily FT   \n",
       "1      EPFETF funds  Domestic Debt Optimization  BOC ...   \n",
       "2              Free entry to Dehiwala Zoo for children     \n",
       "3              Port City Daily FT Xmas concert  Daily FT   \n",
       "4                             LIOC slashes fuel prices     \n",
       "...                                                  ...   \n",
       "21206  LG Election Timeframe granted to accept postal...   \n",
       "21207  Former TRCSL Chief asserts privatizing telecom...   \n",
       "21208         FIFA suspends Sri Lanka Football  NewsWire   \n",
       "21209  Sri Lankas first Agrivoltaic power plant opens...   \n",
       "21210  May achieves monthly arrivals target regardles...   \n",
       "\n",
       "                                                 article       news_agency  \\\n",
       "0       President Gotabaya Rajapaksa will send his le...          Daily_FT   \n",
       "1      The Sri Lanka Banks Association has emphasized...          Newswire   \n",
       "2       Entry to the Dehiwala Zoological Garden will ...        News_Radio   \n",
       "3       Port City Colombo Xmas Concert with the De La...          Daily_FT   \n",
       "4      Lanka Indian Oil Company LIOC has slashed the ...  LankanewsWeb.net   \n",
       "...                                                  ...               ...   \n",
       "21206   The timeframe granted to accept postal voting...        News_Radio   \n",
       "21207   Former DirectorGeneral of the Telecommunicati...        News_Radio   \n",
       "21208  Football Federation of Sri Lanka FFSL has been...          Newswire   \n",
       "21209   Solar Universe Vavunathivu Solar PV Park  a 1...          Daily_FT   \n",
       "21210   Despite it being an offpeak month, May achiev...          Daily_FT   \n",
       "\n",
       "                                         normalized_text  \\\n",
       "0      president gotabaya rajapaksa send letter resig...   \n",
       "1      sri lanka bank association emphasize optimize ...   \n",
       "2      entry dehiwala zoological garden free charge c...   \n",
       "3      port city colombo xmas concert de lanerolle br...   \n",
       "4      lanka indian oil company lioc slash price fuel...   \n",
       "...                                                  ...   \n",
       "21206  timeframe grant accept postal voting applicati...   \n",
       "21207  former directorgeneral telecommunication regul...   \n",
       "21208  football federation sri lanka ffsl suspend fif...   \n",
       "21209  solar universe vavunathivu solar pv park 10mw ...   \n",
       "21210  despite offpeak month may achieve monthly arri...   \n",
       "\n",
       "                                          tokenized_text  \\\n",
       "0      [president, gotabaya, rajapaksa, send, letter,...   \n",
       "1      [sri, lanka, bank, association, emphasize, opt...   \n",
       "2      [entry, dehiwala, zoological, garden, free, ch...   \n",
       "3      [port, city, colombo, xmas, concert, de, laner...   \n",
       "4      [lanka, indian, oil, company, lioc, slash, pri...   \n",
       "...                                                  ...   \n",
       "21206  [timeframe, grant, accept, postal, voting, app...   \n",
       "21207  [former, directorgeneral, telecommunication, r...   \n",
       "21208  [football, federation, sri, lanka, ffsl, suspe...   \n",
       "21209  [solar, universe, vavunathivu, solar, pv, park...   \n",
       "21210  [despite, offpeak, month, may, achieve, monthl...   \n",
       "\n",
       "                                     normalized_text_new  \n",
       "0      president gotabaya rajapaksa send letter resig...  \n",
       "1      sri lanka bank association emphasize optimize ...  \n",
       "2      entry dehiwala zoological garden free charge c...  \n",
       "3      port city colombo xmas concert de lanerolle br...  \n",
       "4      lanka indian oil company lioc slash price fuel...  \n",
       "...                                                  ...  \n",
       "21206  timeframe grant accept postal voting applicati...  \n",
       "21207  former directorgeneral telecommunication regul...  \n",
       "21208  football federation sri lanka ffsl suspend fif...  \n",
       "21209  solar universe vavunathivu solar pv park mw gr...  \n",
       "21210  despite offpeak month may achieve monthly arri...  \n",
       "\n",
       "[21044 rows x 6 columns]"
      ]
     },
     "execution_count": 21,
     "metadata": {},
     "output_type": "execute_result"
    }
   ],
   "source": [
    "dataset"
   ]
  },
  {
   "cell_type": "code",
   "execution_count": 22,
   "id": "cc76GtM7JIFG",
   "metadata": {
    "executionInfo": {
     "elapsed": 5463,
     "status": "ok",
     "timestamp": 1690027193557,
     "user": {
      "displayName": "Thilina Jayasinghe",
      "userId": "04972212134470764724"
     },
     "user_tz": -330
    },
    "id": "cc76GtM7JIFG"
   },
   "outputs": [],
   "source": [
    "file_path = '/content/drive/MyDrive/Text-analytics/Analysis/final_cleaned_ds.csv'\n",
    "\n",
    "# Write the DataFrame to a CSV file\n",
    "dataset.to_csv(file_path, index=False)"
   ]
  },
  {
   "cell_type": "markdown",
   "id": "cmOPmEENb8H3",
   "metadata": {
    "id": "cmOPmEENb8H3"
   },
   "source": [
    "### *Word Frequency Analysis*"
   ]
  },
  {
   "cell_type": "code",
   "execution_count": 22,
   "id": "GgSIUK9Vb0N3",
   "metadata": {
    "colab": {
     "base_uri": "https://localhost:8080/"
    },
    "executionInfo": {
     "elapsed": 1044,
     "status": "ok",
     "timestamp": 1690019856153,
     "user": {
      "displayName": "Thilina Jayasinghe",
      "userId": "04972212134470764724"
     },
     "user_tz": -330
    },
    "id": "GgSIUK9Vb0N3",
    "outputId": "0f871519-b9d5-4783-95e9-0b90d7935ec5"
   },
   "outputs": [
    {
     "name": "stdout",
     "output_type": "stream",
     "text": [
      "sri: 46560\n",
      "lanka: 33725\n",
      "minister: 18405\n",
      "president: 17570\n",
      "country: 16511\n",
      "government: 16364\n",
      "state: 12401\n",
      "year: 12215\n",
      "people: 9794\n",
      "police: 8415\n"
     ]
    }
   ],
   "source": [
    "# Flatten the list of articles into a single list\n",
    "articles = [word for sublist in dataset['tokenized_text'] for word in sublist]\n",
    "\n",
    "# Count the frequency of each word\n",
    "word_frequency = Counter(articles)\n",
    "\n",
    "# Get the top 10 most common words\n",
    "top_words = word_frequency.most_common(10)\n",
    "\n",
    "# Print the top 10 words and their frequencies\n",
    "for word, frequency in top_words:\n",
    "    print(f\"{word}: {frequency}\")"
   ]
  },
  {
   "cell_type": "code",
   "execution_count": 23,
   "id": "2Mjk6oIPcGyh",
   "metadata": {
    "colab": {
     "base_uri": "https://localhost:8080/",
     "height": 543
    },
    "executionInfo": {
     "elapsed": 2655,
     "status": "ok",
     "timestamp": 1690019858806,
     "user": {
      "displayName": "Thilina Jayasinghe",
      "userId": "04972212134470764724"
     },
     "user_tz": -330
    },
    "id": "2Mjk6oIPcGyh",
    "outputId": "68863b6a-910b-441b-9a1a-4f88fc105259"
   },
   "outputs": [
    {
     "data": {
      "image/png": "[encoded data removed]",
      "text/plain": [
       "<Figure size 1000x500 with 1 Axes>"
      ]
     },
     "metadata": {},
     "output_type": "display_data"
    }
   ],
   "source": [
    "# Flatten the list of articles\n",
    "flattened_list = list(itertools.chain.from_iterable(dataset['tokenized_text']))\n",
    "\n",
    "# Calculate word frequency\n",
    "freq_dist = FreqDist(flattened_list)\n",
    "\n",
    "# Select top n words\n",
    "top_words = freq_dist.most_common(10)\n",
    "\n",
    "# Extract words and frequencies\n",
    "words, frequencies = zip(*top_words)\n",
    "\n",
    "# Plot bar chart\n",
    "plt.figure(figsize=(10, 5))\n",
    "plt.bar(words, frequencies)\n",
    "plt.xlabel('Words')\n",
    "plt.ylabel('Frequency')\n",
    "plt.title('Top 10 Most Common Words')\n",
    "plt.xticks(rotation=45)\n",
    "plt.show()\n"
   ]
  },
  {
   "cell_type": "markdown",
   "id": "JamODw6YfuXu",
   "metadata": {
    "id": "JamODw6YfuXu"
   },
   "source": [
    "### *Document length Analysis*"
   ]
  },
  {
   "cell_type": "code",
   "execution_count": 24,
   "id": "4si3OytCgcC_",
   "metadata": {
    "colab": {
     "base_uri": "https://localhost:8080/"
    },
    "executionInfo": {
     "elapsed": 10,
     "status": "ok",
     "timestamp": 1690019858807,
     "user": {
      "displayName": "Thilina Jayasinghe",
      "userId": "04972212134470764724"
     },
     "user_tz": -330
    },
    "id": "4si3OytCgcC_",
    "outputId": "904acfbf-521d-4c77-ba47-23e4709d9011"
   },
   "outputs": [
    {
     "name": "stdout",
     "output_type": "stream",
     "text": [
      "count    21044.000000\n",
      "mean       140.595134\n",
      "std        167.315117\n",
      "min          0.000000\n",
      "25%         52.000000\n",
      "50%         89.000000\n",
      "75%        164.000000\n",
      "max       2843.000000\n",
      "Name: tokenized_text, dtype: float64\n"
     ]
    }
   ],
   "source": [
    "# Compute the length of each document\n",
    "document_lengths = dataset['tokenized_text'].apply(len)\n",
    "\n",
    "# Get descriptive statistics of document lengths\n",
    "print(document_lengths.describe())\n"
   ]
  },
  {
   "cell_type": "markdown",
   "id": "Y55Wrr1WgBsh",
   "metadata": {
    "id": "Y55Wrr1WgBsh"
   },
   "source": [
    "# **Question - (b)**"
   ]
  },
  {
   "cell_type": "markdown",
   "id": "1_gCjbSMgwvq",
   "metadata": {
    "id": "1_gCjbSMgwvq"
   },
   "source": [
    "**Get the unique tokens**"
   ]
  },
  {
   "cell_type": "code",
   "execution_count": 25,
   "id": "41ZFpSc41mlx",
   "metadata": {
    "colab": {
     "base_uri": "https://localhost:8080/"
    },
    "executionInfo": {
     "elapsed": 1088,
     "status": "ok",
     "timestamp": 1690019859890,
     "user": {
      "displayName": "Thilina Jayasinghe",
      "userId": "04972212134470764724"
     },
     "user_tz": -330
    },
    "id": "41ZFpSc41mlx",
    "outputId": "67ef054c-ec0b-43dc-bc16-a04ddd5bda04"
   },
   "outputs": [
    {
     "name": "stdout",
     "output_type": "stream",
     "text": [
      "Dimensions of the Article Collection:\n",
      "Total Tokens: 2957605\n",
      "Unique Tokens: 63230\n",
      "---\n"
     ]
    }
   ],
   "source": [
    "# Tokenize the dataset into words\n",
    "all_tokens = [token for article in dataset['tokenized_text'] for token in article]\n",
    "\n",
    "# Remove stopwords\n",
    "stop_words = set(nltk.corpus.stopwords.words('english'))\n",
    "\n",
    "# Filter tokens and count them\n",
    "filtered_tokens = [token for token in all_tokens if token.lower() not in stop_words]\n",
    "token_counter = Counter(filtered_tokens)\n",
    "\n",
    "# Calculate dimensions\n",
    "total_tokens = len(filtered_tokens)\n",
    "unique_tokens = len(token_counter)\n",
    "\n",
    "# Print the dimensions\n",
    "print(\"Dimensions of the Article Collection:\")\n",
    "print(f\"Total Tokens: {total_tokens}\")\n",
    "print(f\"Unique Tokens: {unique_tokens}\")\n",
    "print('---')\n"
   ]
  },
  {
   "cell_type": "markdown",
   "id": "vKK0-5qrgrTy",
   "metadata": {
    "id": "vKK0-5qrgrTy"
   },
   "source": [
    "**Get the unique tokens (news agency-wise)**"
   ]
  },
  {
   "cell_type": "code",
   "execution_count": 26,
   "id": "tj-LjuK91xSY",
   "metadata": {
    "colab": {
     "base_uri": "https://localhost:8080/"
    },
    "executionInfo": {
     "elapsed": 16593,
     "status": "ok",
     "timestamp": 1690019876479,
     "user": {
      "displayName": "Thilina Jayasinghe",
      "userId": "04972212134470764724"
     },
     "user_tz": -330
    },
    "id": "tj-LjuK91xSY",
    "outputId": "559a0e2c-be34-49dc-d700-97b40e016770"
   },
   "outputs": [
    {
     "name": "stdout",
     "output_type": "stream",
     "text": [
      "Asian_Mirror:\n",
      "Total Tokens: 72347\n",
      "Unique Tokens: 8640\n",
      "---\n",
      "Daily_FT:\n",
      "Total Tokens: 550450\n",
      "Unique Tokens: 24243\n",
      "---\n",
      "Groundviews:\n",
      "Total Tokens: 98256\n",
      "Unique Tokens: 11779\n",
      "---\n",
      "LankanewsWeb.net:\n",
      "Total Tokens: 531815\n",
      "Unique Tokens: 26960\n",
      "---\n",
      "News_Radio:\n",
      "Total Tokens: 708194\n",
      "Unique Tokens: 20781\n",
      "---\n",
      "Newswire:\n",
      "Total Tokens: 682102\n",
      "Unique Tokens: 30892\n",
      "---\n",
      "Siyatha:\n",
      "Total Tokens: 421\n",
      "Unique Tokens: 174\n",
      "---\n",
      "Sri_Lanka_Brief:\n",
      "Total Tokens: 126152\n",
      "Unique Tokens: 12461\n",
      "---\n",
      "Tamil_Gaurdian:\n",
      "Total Tokens: 182768\n",
      "Unique Tokens: 14797\n",
      "---\n",
      "The_Island:\n",
      "Total Tokens: 5100\n",
      "Unique Tokens: 1875\n",
      "---\n"
     ]
    }
   ],
   "source": [
    "# Tokenize the entire dataset into words\n",
    "all_tokens = [token for article in dataset['tokenized_text'] for token in article]\n",
    "\n",
    "# Remove stopwords\n",
    "stop_words = set(nltk.corpus.stopwords.words('english'))\n",
    "\n",
    "# Calculate dimensions for each news agency\n",
    "for agency, group in dataset.groupby('news_agency'):\n",
    "    # Combine all articles of the news agency into a single string\n",
    "    agency_articles = ' '.join([' '.join(article) for article in group['tokenized_text']])\n",
    "\n",
    "    # Tokenize the string into words\n",
    "    agency_tokens = nltk.word_tokenize(agency_articles)\n",
    "\n",
    "    # Filter tokens and count them\n",
    "    filtered_tokens = [token for token in agency_tokens if token.lower() not in stop_words]\n",
    "    token_counter = Counter(filtered_tokens)\n",
    "\n",
    "    # Calculate dimensions\n",
    "    total_tokens = len(filtered_tokens)\n",
    "    unique_tokens = len(token_counter)\n",
    "\n",
    "    # Print the dimensions for the current news agency\n",
    "    print(f\"{agency}:\")\n",
    "    print(f\"Total Tokens: {total_tokens}\")\n",
    "    print(f\"Unique Tokens: {unique_tokens}\")\n",
    "    print('---')\n"
   ]
  },
  {
   "cell_type": "markdown",
   "id": "GmfVzIHbiVV6",
   "metadata": {
    "id": "GmfVzIHbiVV6"
   },
   "source": [
    "# **Question - (c and d)**"
   ]
  },
  {
   "cell_type": "markdown",
   "id": "SA1TEJ3DbHHr",
   "metadata": {
    "id": "SA1TEJ3DbHHr"
   },
   "source": [
    "### ***Training, Test Sets***"
   ]
  },
  {
   "cell_type": "code",
   "execution_count": 27,
   "id": "abc82f0b",
   "metadata": {
    "executionInfo": {
     "elapsed": 35,
     "status": "ok",
     "timestamp": 1690019876480,
     "user": {
      "displayName": "Thilina Jayasinghe",
      "userId": "04972212134470764724"
     },
     "user_tz": -330
    },
    "id": "abc82f0b"
   },
   "outputs": [],
   "source": [
    "# Divide the data into training and testing sets\n",
    "def prepare_datasets_train_test(corpus, labels, test_data_proportion=0.2):\n",
    "    train_X, test_X, train_Y, test_Y = train_test_split(corpus, labels,\n",
    "                                                        test_size=0.20, random_state=42)\n",
    "    return train_X, test_X, train_Y, test_Y"
   ]
  },
  {
   "cell_type": "code",
   "execution_count": 28,
   "id": "484d4072",
   "metadata": {
    "executionInfo": {
     "elapsed": 33,
     "status": "ok",
     "timestamp": 1690019876480,
     "user": {
      "displayName": "Thilina Jayasinghe",
      "userId": "04972212134470764724"
     },
     "user_tz": -330
    },
    "id": "484d4072"
   },
   "outputs": [],
   "source": [
    "# We also remove empty documents since they would just add noise\n",
    "def remove_empty_docs(corpus, labels):\n",
    "    filtered_corpus = []\n",
    "    filtered_labels = []\n",
    "    for doc, label in zip(corpus, labels):\n",
    "        if doc.strip():\n",
    "            filtered_corpus.append(doc)\n",
    "            filtered_labels.append(label)\n",
    "\n",
    "    return filtered_corpus, filtered_labels"
   ]
  },
  {
   "cell_type": "code",
   "execution_count": 29,
   "id": "a3bea492",
   "metadata": {
    "executionInfo": {
     "elapsed": 33,
     "status": "ok",
     "timestamp": 1690019876480,
     "user": {
      "displayName": "Thilina Jayasinghe",
      "userId": "04972212134470764724"
     },
     "user_tz": -330
    },
    "id": "a3bea492"
   },
   "outputs": [],
   "source": [
    "corpus, labels = dataset['normalized_text_new'], dataset['news_agency']\n",
    "corpus, labels = remove_empty_docs(corpus, labels)"
   ]
  },
  {
   "cell_type": "code",
   "execution_count": 30,
   "id": "aa3b8d7f",
   "metadata": {
    "colab": {
     "base_uri": "https://localhost:8080/"
    },
    "executionInfo": {
     "elapsed": 33,
     "status": "ok",
     "timestamp": 1690019876481,
     "user": {
      "displayName": "Thilina Jayasinghe",
      "userId": "04972212134470764724"
     },
     "user_tz": -330
    },
    "id": "aa3b8d7f",
    "outputId": "0959c260-ec8c-430e-ba98-c514e0d086a3"
   },
   "outputs": [
    {
     "name": "stdout",
     "output_type": "stream",
     "text": [
      "Sample document: borelle sirisumana thero buddhist monk whose name long ago swarm across social medium headline due selfproclamation disciple possess high self margaphala path enlightenment arrest criminal investigation department cid connection probe thilini priyamali accord police spokesman nihal thalduwa thera arrest base finding probe priyamali businesswoman arrest connection grand financial scandal miap\n",
      "Class label: LankanewsWeb.net\n"
     ]
    }
   ],
   "source": [
    "# Display an example newsgroup posting\n",
    "print('Sample document:', corpus[10])\n",
    "print('Class label:',labels[10])"
   ]
  },
  {
   "cell_type": "code",
   "execution_count": 31,
   "id": "7c84f503",
   "metadata": {
    "executionInfo": {
     "elapsed": 29,
     "status": "ok",
     "timestamp": 1690019876481,
     "user": {
      "displayName": "Thilina Jayasinghe",
      "userId": "04972212134470764724"
     },
     "user_tz": -330
    },
    "id": "7c84f503"
   },
   "outputs": [],
   "source": [
    "train_corpus, test_corpus, train_labels, test_labels = prepare_datasets_train_test(corpus,\n",
    "                                                                        labels,\n",
    "                                                                        test_data_proportion=0.2)"
   ]
  },
  {
   "cell_type": "markdown",
   "id": "8B4tkXxxMwjy",
   "metadata": {
    "id": "8B4tkXxxMwjy"
   },
   "source": [
    "### ***Handling class imbalance***"
   ]
  },
  {
   "cell_type": "code",
   "execution_count": 32,
   "id": "bkzbsZtuxz3g",
   "metadata": {
    "colab": {
     "base_uri": "https://localhost:8080/",
     "height": 424
    },
    "executionInfo": {
     "elapsed": 28,
     "status": "ok",
     "timestamp": 1690019876481,
     "user": {
      "displayName": "Thilina Jayasinghe",
      "userId": "04972212134470764724"
     },
     "user_tz": -330
    },
    "id": "bkzbsZtuxz3g",
    "outputId": "234a7d89-3e27-4528-9e91-c40395379d34"
   },
   "outputs": [
    {
     "data": {
      "text/html": [
       "\n",
       "\n",
       "  <div id=\"df-a0688084-2525-4350-b7b7-22bafa2e7670\">\n",
       "    <div class=\"colab-df-container\">\n",
       "      <div>\n",
       "<style scoped>\n",
       "    .dataframe tbody tr th:only-of-type {\n",
       "        vertical-align: middle;\n",
       "    }\n",
       "\n",
       "    .dataframe tbody tr th {\n",
       "        vertical-align: top;\n",
       "    }\n",
       "\n",
       "    .dataframe thead th {\n",
       "        text-align: right;\n",
       "    }\n",
       "</style>\n",
       "<table border=\"1\" class=\"dataframe\">\n",
       "  <thead>\n",
       "    <tr style=\"text-align: right;\">\n",
       "      <th></th>\n",
       "      <th>Text</th>\n",
       "      <th>Label</th>\n",
       "    </tr>\n",
       "  </thead>\n",
       "  <tbody>\n",
       "    <tr>\n",
       "      <th>0</th>\n",
       "      <td>Groundviews</td>\n",
       "      <td>Groundviews</td>\n",
       "    </tr>\n",
       "    <tr>\n",
       "      <th>1</th>\n",
       "      <td>News_Radio</td>\n",
       "      <td>News_Radio</td>\n",
       "    </tr>\n",
       "    <tr>\n",
       "      <th>2</th>\n",
       "      <td>Newswire</td>\n",
       "      <td>Newswire</td>\n",
       "    </tr>\n",
       "    <tr>\n",
       "      <th>3</th>\n",
       "      <td>Newswire</td>\n",
       "      <td>Newswire</td>\n",
       "    </tr>\n",
       "    <tr>\n",
       "      <th>4</th>\n",
       "      <td>News_Radio</td>\n",
       "      <td>News_Radio</td>\n",
       "    </tr>\n",
       "    <tr>\n",
       "      <th>...</th>\n",
       "      <td>...</td>\n",
       "      <td>...</td>\n",
       "    </tr>\n",
       "    <tr>\n",
       "      <th>16829</th>\n",
       "      <td>News_Radio</td>\n",
       "      <td>News_Radio</td>\n",
       "    </tr>\n",
       "    <tr>\n",
       "      <th>16830</th>\n",
       "      <td>Newswire</td>\n",
       "      <td>Newswire</td>\n",
       "    </tr>\n",
       "    <tr>\n",
       "      <th>16831</th>\n",
       "      <td>Newswire</td>\n",
       "      <td>Newswire</td>\n",
       "    </tr>\n",
       "    <tr>\n",
       "      <th>16832</th>\n",
       "      <td>LankanewsWeb.net</td>\n",
       "      <td>LankanewsWeb.net</td>\n",
       "    </tr>\n",
       "    <tr>\n",
       "      <th>16833</th>\n",
       "      <td>Newswire</td>\n",
       "      <td>Newswire</td>\n",
       "    </tr>\n",
       "  </tbody>\n",
       "</table>\n",
       "<p>16834 rows × 2 columns</p>\n",
       "</div>\n",
       "      <button class=\"colab-df-convert\" onclick=\"convertToInteractive('df-a0688084-2525-4350-b7b7-22bafa2e7670')\"\n",
       "              title=\"Convert this dataframe to an interactive table.\"\n",
       "              style=\"display:none;\">\n",
       "\n",
       "  <svg xmlns=\"http://www.w3.org/2000/svg\" height=\"24px\"viewBox=\"0 0 24 24\"\n",
       "       width=\"24px\">\n",
       "    <path d=\"M0 0h24v24H0V0z\" fill=\"none\"/>\n",
       "    <path d=\"M18.56 5.44l.94 2.06.94-2.06 2.06-.94-2.06-.94-.94-2.06-.94 2.06-2.06.94zm-11 1L8.5 8.5l.94-2.06 2.06-.94-2.06-.94L8.5 2.5l-.94 2.06-2.06.94zm10 10l.94 2.06.94-2.06 2.06-.94-2.06-.94-.94-2.06-.94 2.06-2.06.94z\"/><path d=\"M17.41 7.96l-1.37-1.37c-.4-.4-.92-.59-1.43-.59-.52 0-1.04.2-1.43.59L10.3 9.45l-7.72 7.72c-.78.78-.78 2.05 0 2.83L4 21.41c.39.39.9.59 1.41.59.51 0 1.02-.2 1.41-.59l7.78-7.78 2.81-2.81c.8-.78.8-2.07 0-2.86zM5.41 20L4 18.59l7.72-7.72 1.47 1.35L5.41 20z\"/>\n",
       "  </svg>\n",
       "      </button>\n",
       "\n",
       "\n",
       "\n",
       "    <div id=\"df-48b3e02a-41ec-4bd2-989b-78fd8154258d\">\n",
       "      <button class=\"colab-df-quickchart\" onclick=\"quickchart('df-48b3e02a-41ec-4bd2-989b-78fd8154258d')\"\n",
       "              title=\"Suggest charts.\"\n",
       "              style=\"display:none;\">\n",
       "\n",
       "<svg xmlns=\"http://www.w3.org/2000/svg\" height=\"24px\"viewBox=\"0 0 24 24\"\n",
       "     width=\"24px\">\n",
       "    <g>\n",
       "        <path d=\"M19 3H5c-1.1 0-2 .9-2 2v14c0 1.1.9 2 2 2h14c1.1 0 2-.9 2-2V5c0-1.1-.9-2-2-2zM9 17H7v-7h2v7zm4 0h-2V7h2v10zm4 0h-2v-4h2v4z\"/>\n",
       "    </g>\n",
       "</svg>\n",
       "      </button>\n",
       "    </div>\n",
       "\n",
       "<style>\n",
       "  .colab-df-quickchart {\n",
       "    background-color: #E8F0FE;\n",
       "    border: none;\n",
       "    border-radius: 50%;\n",
       "    cursor: pointer;\n",
       "    display: none;\n",
       "    fill: #1967D2;\n",
       "    height: 32px;\n",
       "    padding: 0 0 0 0;\n",
       "    width: 32px;\n",
       "  }\n",
       "\n",
       "  .colab-df-quickchart:hover {\n",
       "    background-color: #E2EBFA;\n",
       "    box-shadow: 0px 1px 2px rgba(60, 64, 67, 0.3), 0px 1px 3px 1px rgba(60, 64, 67, 0.15);\n",
       "    fill: #174EA6;\n",
       "  }\n",
       "\n",
       "  [theme=dark] .colab-df-quickchart {\n",
       "    background-color: #3B4455;\n",
       "    fill: #D2E3FC;\n",
       "  }\n",
       "\n",
       "  [theme=dark] .colab-df-quickchart:hover {\n",
       "    background-color: #434B5C;\n",
       "    box-shadow: 0px 1px 3px 1px rgba(0, 0, 0, 0.15);\n",
       "    filter: drop-shadow(0px 1px 2px rgba(0, 0, 0, 0.3));\n",
       "    fill: #FFFFFF;\n",
       "  }\n",
       "</style>\n",
       "\n",
       "    <script>\n",
       "      async function quickchart(key) {\n",
       "        const containerElement = document.querySelector('#' + key);\n",
       "        const charts = await google.colab.kernel.invokeFunction(\n",
       "            'suggestCharts', [key], {});\n",
       "      }\n",
       "    </script>\n",
       "\n",
       "      <script>\n",
       "\n",
       "function displayQuickchartButton(domScope) {\n",
       "  let quickchartButtonEl =\n",
       "    domScope.querySelector('#df-48b3e02a-41ec-4bd2-989b-78fd8154258d button.colab-df-quickchart');\n",
       "  quickchartButtonEl.style.display =\n",
       "    google.colab.kernel.accessAllowed ? 'block' : 'none';\n",
       "}\n",
       "\n",
       "        displayQuickchartButton(document);\n",
       "      </script>\n",
       "      <style>\n",
       "    .colab-df-container {\n",
       "      display:flex;\n",
       "      flex-wrap:wrap;\n",
       "      gap: 12px;\n",
       "    }\n",
       "\n",
       "    .colab-df-convert {\n",
       "      background-color: #E8F0FE;\n",
       "      border: none;\n",
       "      border-radius: 50%;\n",
       "      cursor: pointer;\n",
       "      display: none;\n",
       "      fill: #1967D2;\n",
       "      height: 32px;\n",
       "      padding: 0 0 0 0;\n",
       "      width: 32px;\n",
       "    }\n",
       "\n",
       "    .colab-df-convert:hover {\n",
       "      background-color: #E2EBFA;\n",
       "      box-shadow: 0px 1px 2px rgba(60, 64, 67, 0.3), 0px 1px 3px 1px rgba(60, 64, 67, 0.15);\n",
       "      fill: #174EA6;\n",
       "    }\n",
       "\n",
       "    [theme=dark] .colab-df-convert {\n",
       "      background-color: #3B4455;\n",
       "      fill: #D2E3FC;\n",
       "    }\n",
       "\n",
       "    [theme=dark] .colab-df-convert:hover {\n",
       "      background-color: #434B5C;\n",
       "      box-shadow: 0px 1px 3px 1px rgba(0, 0, 0, 0.15);\n",
       "      filter: drop-shadow(0px 1px 2px rgba(0, 0, 0, 0.3));\n",
       "      fill: #FFFFFF;\n",
       "    }\n",
       "  </style>\n",
       "\n",
       "      <script>\n",
       "        const buttonEl =\n",
       "          document.querySelector('#df-a0688084-2525-4350-b7b7-22bafa2e7670 button.colab-df-convert');\n",
       "        buttonEl.style.display =\n",
       "          google.colab.kernel.accessAllowed ? 'block' : 'none';\n",
       "\n",
       "        async function convertToInteractive(key) {\n",
       "          const element = document.querySelector('#df-a0688084-2525-4350-b7b7-22bafa2e7670');\n",
       "          const dataTable =\n",
       "            await google.colab.kernel.invokeFunction('convertToInteractive',\n",
       "                                                     [key], {});\n",
       "          if (!dataTable) return;\n",
       "\n",
       "          const docLinkHtml = 'Like what you see? Visit the ' +\n",
       "            '<a target=\"_blank\" href=https://colab.research.google.com/notebooks/data_table.ipynb>data table notebook</a>'\n",
       "            + ' to learn more about interactive tables.';\n",
       "          element.innerHTML = '';\n",
       "          dataTable['output_type'] = 'display_data';\n",
       "          await google.colab.output.renderOutput(dataTable, element);\n",
       "          const docLink = document.createElement('div');\n",
       "          docLink.innerHTML = docLinkHtml;\n",
       "          element.appendChild(docLink);\n",
       "        }\n",
       "      </script>\n",
       "    </div>\n",
       "  </div>\n"
      ],
      "text/plain": [
       "                   Text             Label\n",
       "0           Groundviews       Groundviews\n",
       "1            News_Radio        News_Radio\n",
       "2              Newswire          Newswire\n",
       "3              Newswire          Newswire\n",
       "4            News_Radio        News_Radio\n",
       "...                 ...               ...\n",
       "16829        News_Radio        News_Radio\n",
       "16830          Newswire          Newswire\n",
       "16831          Newswire          Newswire\n",
       "16832  LankanewsWeb.net  LankanewsWeb.net\n",
       "16833          Newswire          Newswire\n",
       "\n",
       "[16834 rows x 2 columns]"
      ]
     },
     "execution_count": 32,
     "metadata": {},
     "output_type": "execute_result"
    }
   ],
   "source": [
    "# Convert test_corpus into a DataFrame with a column name \"Text\"\n",
    "test_df = pd.DataFrame({'Text': train_labels})\n",
    "test_df['Label'] = train_labels\n",
    "test_df"
   ]
  },
  {
   "cell_type": "code",
   "execution_count": 33,
   "id": "lUFYjAZ8NBJw",
   "metadata": {
    "colab": {
     "base_uri": "https://localhost:8080/"
    },
    "executionInfo": {
     "elapsed": 27,
     "status": "ok",
     "timestamp": 1690019876481,
     "user": {
      "displayName": "Thilina Jayasinghe",
      "userId": "04972212134470764724"
     },
     "user_tz": -330
    },
    "id": "lUFYjAZ8NBJw",
    "outputId": "fb1a1f74-7e80-46e9-9dd9-076eec11086f"
   },
   "outputs": [
    {
     "data": {
      "text/plain": [
       "Label\n",
       "Asian_Mirror         646\n",
       "Daily_FT            2032\n",
       "Groundviews          133\n",
       "LankanewsWeb.net    2847\n",
       "News_Radio          5443\n",
       "Newswire            4681\n",
       "Siyatha                8\n",
       "Sri_Lanka_Brief      243\n",
       "Tamil_Gaurdian       781\n",
       "The_Island            20\n",
       "dtype: int64"
      ]
     },
     "execution_count": 33,
     "metadata": {},
     "output_type": "execute_result"
    }
   ],
   "source": [
    "grouped_counts = test_df.groupby('Label').size()\n",
    "grouped_counts"
   ]
  },
  {
   "cell_type": "markdown",
   "id": "_xMGo7YbALoh",
   "metadata": {
    "id": "_xMGo7YbALoh"
   },
   "source": [
    "This dataset is not a balanced one. We can use class weights, SMOTE, Synthetic, Over and Under sampling techniques to balance this dataset. Usually, we check class imbalances with our training dataset"
   ]
  },
  {
   "cell_type": "markdown",
   "id": "th1oTedZAV5G",
   "metadata": {
    "id": "th1oTedZAV5G"
   },
   "source": [
    "***Applying weights for classes***"
   ]
  },
  {
   "cell_type": "code",
   "execution_count": 34,
   "id": "P41z3kD3Cg7G",
   "metadata": {
    "colab": {
     "base_uri": "https://localhost:8080/"
    },
    "executionInfo": {
     "elapsed": 24,
     "status": "ok",
     "timestamp": 1690019876481,
     "user": {
      "displayName": "Thilina Jayasinghe",
      "userId": "04972212134470764724"
     },
     "user_tz": -330
    },
    "id": "P41z3kD3Cg7G",
    "outputId": "920e61ce-c755-4fcb-f469-830bac5bf1a0"
   },
   "outputs": [
    {
     "name": "stdout",
     "output_type": "stream",
     "text": [
      "Class Distribution Before Applying Class Weights:\n",
      "Class Asian_Mirror: 646 samples\n",
      "Class Daily_FT: 2032 samples\n",
      "Class Groundviews: 133 samples\n",
      "Class LankanewsWeb.net: 2847 samples\n",
      "Class News_Radio: 5443 samples\n",
      "Class Newswire: 4681 samples\n",
      "Class Siyatha: 8 samples\n",
      "Class Sri_Lanka_Brief: 243 samples\n",
      "Class Tamil_Gaurdian: 781 samples\n",
      "Class The_Island: 20 samples\n",
      "\n",
      "Class Distribution After Applying Class Weights:\n",
      "Class Asian_Mirror: Weight: 2.61\n",
      "Class Daily_FT: Weight: 0.83\n",
      "Class Groundviews: Weight: 12.66\n",
      "Class LankanewsWeb.net: Weight: 0.59\n",
      "Class News_Radio: Weight: 0.31\n",
      "Class Newswire: Weight: 0.36\n",
      "Class Siyatha: Weight: 210.43\n",
      "Class Sri_Lanka_Brief: Weight: 6.93\n",
      "Class Tamil_Gaurdian: Weight: 2.16\n",
      "Class The_Island: Weight: 84.17\n"
     ]
    }
   ],
   "source": [
    "y = test_df['Label']\n",
    "\n",
    "# Calculate the class weights\n",
    "class_weights = class_weight.compute_class_weight('balanced', classes=np.unique(y), y=y)\n",
    "\n",
    "# Print the class distribution before applying class weights\n",
    "print(\"Class Distribution Before Applying Class Weights:\")\n",
    "unique_classes, class_counts = np.unique(y, return_counts=True)\n",
    "for cls, count in zip(unique_classes, class_counts):\n",
    "    print(f\"Class {cls}: {count} samples\")\n",
    "\n",
    "# Print the class distribution after applying class weights\n",
    "print(\"\\nClass Distribution After Applying Class Weights:\")\n",
    "for cls, weight in zip(np.unique(y), class_weights):\n",
    "    print(f\"Class {cls}: Weight: {weight:.2f}\")\n"
   ]
  },
  {
   "cell_type": "markdown",
   "id": "YQeJxG8Z0YJO",
   "metadata": {
    "id": "YQeJxG8Z0YJO"
   },
   "source": [
    "we can see some weighted values in each class. Most important thing is, the news agencies with less number of news article have more higher weights than the others. This is a popular method that we can use to balance the response variable"
   ]
  },
  {
   "cell_type": "markdown",
   "id": "Qd070FalAv_x",
   "metadata": {
    "id": "Qd070FalAv_x"
   },
   "source": [
    "***SMOTE sampling technique***"
   ]
  },
  {
   "cell_type": "code",
   "execution_count": 35,
   "id": "VNSTpy85AVUm",
   "metadata": {
    "executionInfo": {
     "elapsed": 9105,
     "status": "ok",
     "timestamp": 1690019886084,
     "user": {
      "displayName": "Thilina Jayasinghe",
      "userId": "04972212134470764724"
     },
     "user_tz": -330
    },
    "id": "VNSTpy85AVUm"
   },
   "outputs": [],
   "source": [
    "# Preprocess the text data using CountVectorizer\n",
    "vectorizer = CountVectorizer()\n",
    "X = vectorizer.fit_transform(train_corpus)\n",
    "\n",
    "# Encode the labels using LabelEncoder\n",
    "label_encoder = LabelEncoder()\n",
    "y = label_encoder.fit_transform(test_df['Label'])\n",
    "\n",
    "# Instantiate the SMOTE object\n",
    "smote = SMOTE(sampling_strategy='auto', random_state=42)\n",
    "\n",
    "# Resample the data using SMOTE\n",
    "X_resampled, y_resampled = smote.fit_resample(X, y)"
   ]
  },
  {
   "cell_type": "code",
   "execution_count": 36,
   "id": "xqbhr_5BAVXP",
   "metadata": {
    "colab": {
     "base_uri": "https://localhost:8080/"
    },
    "executionInfo": {
     "elapsed": 25,
     "status": "ok",
     "timestamp": 1690019886085,
     "user": {
      "displayName": "Thilina Jayasinghe",
      "userId": "04972212134470764724"
     },
     "user_tz": -330
    },
    "id": "xqbhr_5BAVXP",
    "outputId": "3a7ab9c5-a306-48ae-cef0-0957f7864e58"
   },
   "outputs": [
    {
     "name": "stdout",
     "output_type": "stream",
     "text": [
      "Class Distribution After SMOTE:\n",
      "Class 2: 5443 samples\n",
      "Class 4: 5443 samples\n",
      "Class 5: 5443 samples\n",
      "Class 3: 5443 samples\n",
      "Class 0: 5443 samples\n",
      "Class 1: 5443 samples\n",
      "Class 8: 5443 samples\n",
      "Class 7: 5443 samples\n",
      "Class 9: 5443 samples\n",
      "Class 6: 5443 samples\n"
     ]
    }
   ],
   "source": [
    "# Count the occurrences of each class in the resampled data\n",
    "class_counts = Counter(y_resampled)\n",
    "\n",
    "# Print the class distribution\n",
    "print(\"Class Distribution After SMOTE:\")\n",
    "for cls, count in class_counts.items():\n",
    "    print(f\"Class {cls}: {count} samples\")"
   ]
  },
  {
   "cell_type": "markdown",
   "id": "07UXwtRW00uS",
   "metadata": {
    "id": "07UXwtRW00uS"
   },
   "source": [
    "SMOTE (Synthetic Minority Over-sampling Technique) is a method used in machine learning to address class imbalance in datasets. Class imbalance occurs when one class (usually the minority class) has significantly fewer samples than the other class(es) in the dataset. This can lead to biased model performance and reduced accuracy for the minority class"
   ]
  },
  {
   "cell_type": "code",
   "execution_count": 37,
   "id": "ss4F52gpNsFw",
   "metadata": {
    "executionInfo": {
     "elapsed": 22,
     "status": "ok",
     "timestamp": 1690019886085,
     "user": {
      "displayName": "Thilina Jayasinghe",
      "userId": "04972212134470764724"
     },
     "user_tz": -330
    },
    "id": "ss4F52gpNsFw"
   },
   "outputs": [],
   "source": [
    "# norm_train_corpus = X_resampled\n",
    "# norm_test_corpus = test_corpus"
   ]
  },
  {
   "cell_type": "code",
   "execution_count": 38,
   "id": "9e38e954",
   "metadata": {
    "executionInfo": {
     "elapsed": 22,
     "status": "ok",
     "timestamp": 1690019886085,
     "user": {
      "displayName": "Thilina Jayasinghe",
      "userId": "04972212134470764724"
     },
     "user_tz": -330
    },
    "id": "9e38e954"
   },
   "outputs": [],
   "source": [
    "norm_train_corpus = train_corpus\n",
    "norm_test_corpus = test_corpus"
   ]
  },
  {
   "cell_type": "markdown",
   "id": "iKZCqUG-NT1l",
   "metadata": {
    "id": "iKZCqUG-NT1l"
   },
   "source": [
    "### ***Sparse Vector Representation***"
   ]
  },
  {
   "cell_type": "markdown",
   "id": "Xes6Mx8BNwsK",
   "metadata": {
    "id": "Xes6Mx8BNwsK"
   },
   "source": [
    "*Sparse Vector (Bag of words) that converts text into fixed-length vectors by counting how many times each word appears.*"
   ]
  },
  {
   "cell_type": "code",
   "execution_count": 39,
   "id": "2e51b740",
   "metadata": {
    "executionInfo": {
     "elapsed": 3274,
     "status": "ok",
     "timestamp": 1690019889338,
     "user": {
      "displayName": "Thilina Jayasinghe",
      "userId": "04972212134470764724"
     },
     "user_tz": -330
    },
    "id": "2e51b740"
   },
   "outputs": [],
   "source": [
    "# Bag of words (BoW) features\n",
    "bow_vectorizer, bow_train_features = bow_extractor(norm_train_corpus)\n",
    "bow_test_features = bow_vectorizer.transform(norm_test_corpus)"
   ]
  },
  {
   "cell_type": "code",
   "execution_count": 40,
   "id": "mxyKPZ3NOkMp",
   "metadata": {
    "colab": {
     "base_uri": "https://localhost:8080/"
    },
    "executionInfo": {
     "elapsed": 26,
     "status": "ok",
     "timestamp": 1690019889338,
     "user": {
      "displayName": "Thilina Jayasinghe",
      "userId": "04972212134470764724"
     },
     "user_tz": -330
    },
    "id": "mxyKPZ3NOkMp",
    "outputId": "abe49194-b927-48b9-acea-68ec6d952a8e"
   },
   "outputs": [
    {
     "name": "stdout",
     "output_type": "stream",
     "text": [
      "Number of documents: 16834\n",
      "Number of features: 56716\n"
     ]
    }
   ],
   "source": [
    "# Get the dimensions of the sparse vector\n",
    "num_documents, num_features = bow_train_features.shape\n",
    "\n",
    "print(\"Number of documents:\", num_documents)\n",
    "print(\"Number of features:\", num_features)"
   ]
  },
  {
   "cell_type": "markdown",
   "id": "LRAa-Traig4B",
   "metadata": {
    "id": "LRAa-Traig4B"
   },
   "source": [
    "### ***Dense Vector Representation***"
   ]
  },
  {
   "cell_type": "markdown",
   "id": "S6o9WLQwOMSg",
   "metadata": {
    "id": "S6o9WLQwOMSg"
   },
   "source": [
    "*Dense vector (Embedding) is a learned representation of text where words/sentences that have the same meaning have similar representations*"
   ]
  },
  {
   "cell_type": "code",
   "execution_count": 41,
   "id": "1c011373",
   "metadata": {
    "executionInfo": {
     "elapsed": 3095,
     "status": "ok",
     "timestamp": 1690019892413,
     "user": {
      "displayName": "Thilina Jayasinghe",
      "userId": "04972212134470764724"
     },
     "user_tz": -330
    },
    "id": "1c011373"
   },
   "outputs": [],
   "source": [
    "# TFIDF features\n",
    "tfidf_vectorizer, tfidf_train_features = tfidf_extractor(norm_train_corpus)\n",
    "tfidf_test_features = tfidf_vectorizer.transform(norm_test_corpus)"
   ]
  },
  {
   "cell_type": "code",
   "execution_count": 42,
   "id": "_fyucRi4LKGj",
   "metadata": {
    "colab": {
     "base_uri": "https://localhost:8080/"
    },
    "executionInfo": {
     "elapsed": 9,
     "status": "ok",
     "timestamp": 1690019892413,
     "user": {
      "displayName": "Thilina Jayasinghe",
      "userId": "04972212134470764724"
     },
     "user_tz": -330
    },
    "id": "_fyucRi4LKGj",
    "outputId": "dc8051f9-bb50-48fe-9bbb-6acf6553d503"
   },
   "outputs": [
    {
     "name": "stdout",
     "output_type": "stream",
     "text": [
      "Number of documents: 16834\n",
      "Number of features: 56716\n"
     ]
    }
   ],
   "source": [
    "# Get the dimensions of the dense vector\n",
    "num_documents, num_features = tfidf_train_features.shape\n",
    "\n",
    "print(\"Number of documents:\", num_documents)\n",
    "print(\"Number of features:\", num_features)"
   ]
  },
  {
   "cell_type": "markdown",
   "id": "DsU9Gb09u65Y",
   "metadata": {
    "id": "DsU9Gb09u65Y"
   },
   "source": [
    "**Dense Vector:** A dense vector is a data structure that stores all its elements explicitly. In other words, it contains values for almost all dimensions or features, and these values are typically non-zero. Dense vectors are suitable when most of the dimensions are expected to have meaningful values, and space efficiency is not a major concern.\n",
    "\n",
    "**Sparse Vector:** A sparse vector, on the other hand, is a data structure that primarily stores elements with non-zero values, omitting those elements that are zero. It is commonly used when dealing with high-dimensional data sets that are mostly filled with zeros. Sparse vectors save memory by only recording the non-zero values and their corresponding indices or keys.\n",
    "\n",
    "**Dimension of the sparse vector:** (16834, 56716)\n",
    "\n",
    "**Dimension of the dense vector:** (16834, 56716)\n",
    "\n"
   ]
  },
  {
   "cell_type": "markdown",
   "id": "uq17UtyjuypT",
   "metadata": {
    "id": "uq17UtyjuypT"
   },
   "source": [
    "### ***Machine learning Models***"
   ]
  },
  {
   "cell_type": "code",
   "execution_count": 43,
   "id": "1ec4dab1",
   "metadata": {
    "executionInfo": {
     "elapsed": 4,
     "status": "ok",
     "timestamp": 1690019892414,
     "user": {
      "displayName": "Thilina Jayasinghe",
      "userId": "04972212134470764724"
     },
     "user_tz": -330
    },
    "id": "1ec4dab1"
   },
   "outputs": [],
   "source": [
    "# Define function to calculate the 4 common mertics\n",
    "def get_metrics(true_labels, predicted_labels):\n",
    "\n",
    "    print('Accuracy:', np.round(\n",
    "                        metrics.accuracy_score(true_labels,\n",
    "                                               predicted_labels),\n",
    "                        2))\n",
    "    print('Precision:', np.round(\n",
    "                        metrics.precision_score(true_labels,\n",
    "                                               predicted_labels,\n",
    "                                               average='weighted'),\n",
    "                        2))\n",
    "    print('Recall:', np.round(\n",
    "                        metrics.recall_score(true_labels,\n",
    "                                               predicted_labels,\n",
    "                                               average='weighted'),\n",
    "                        2))\n",
    "    print('F1 Score:', np.round(\n",
    "                        metrics.f1_score(true_labels,\n",
    "                                               predicted_labels,\n",
    "                                               average='weighted'),\n",
    "                        2))\n"
   ]
  },
  {
   "cell_type": "code",
   "execution_count": 44,
   "id": "cb90af9d",
   "metadata": {
    "executionInfo": {
     "elapsed": 4,
     "status": "ok",
     "timestamp": 1690019892414,
     "user": {
      "displayName": "Thilina Jayasinghe",
      "userId": "04972212134470764724"
     },
     "user_tz": -330
    },
    "id": "cb90af9d"
   },
   "outputs": [],
   "source": [
    "def train_predict_evaluate_model_test(classifier,\n",
    "                                 train_features, train_labels,\n",
    "                                 test_features, test_labels):\n",
    "    # build model\n",
    "    classifier.fit(train_features, train_labels)\n",
    "    # predict using model\n",
    "    predictions = classifier.predict(test_features)\n",
    "    # evaluate model prediction performance\n",
    "    get_metrics(true_labels=test_labels,\n",
    "                predicted_labels=predictions)\n",
    "    return predictions\n"
   ]
  },
  {
   "cell_type": "markdown",
   "id": "TiR36gyqjFJj",
   "metadata": {
    "id": "TiR36gyqjFJj"
   },
   "source": [
    "###### **01) Multinomial Naive Bayes Model**"
   ]
  },
  {
   "cell_type": "markdown",
   "id": "707nBgtKotHu",
   "metadata": {
    "id": "707nBgtKotHu"
   },
   "source": [
    "*Using Dense Vector*"
   ]
  },
  {
   "cell_type": "code",
   "execution_count": 45,
   "id": "90c44cf5",
   "metadata": {
    "executionInfo": {
     "elapsed": 3,
     "status": "ok",
     "timestamp": 1690019892414,
     "user": {
      "displayName": "Thilina Jayasinghe",
      "userId": "04972212134470764724"
     },
     "user_tz": -330
    },
    "id": "90c44cf5"
   },
   "outputs": [],
   "source": [
    "mnb = MultinomialNB()\n",
    "svm = SGDClassifier(loss='hinge', max_iter=100)"
   ]
  },
  {
   "cell_type": "code",
   "execution_count": 46,
   "id": "d7f531e2",
   "metadata": {
    "colab": {
     "base_uri": "https://localhost:8080/"
    },
    "executionInfo": {
     "elapsed": 527,
     "status": "ok",
     "timestamp": 1690019892938,
     "user": {
      "displayName": "Thilina Jayasinghe",
      "userId": "04972212134470764724"
     },
     "user_tz": -330
    },
    "id": "d7f531e2",
    "outputId": "49b0b283-2430-4177-b234-d01d46b5526d"
   },
   "outputs": [
    {
     "name": "stdout",
     "output_type": "stream",
     "text": [
      "Accuracy: 0.48\n",
      "Precision: 0.61\n",
      "Recall: 0.48\n",
      "F1 Score: 0.4\n"
     ]
    },
    {
     "name": "stderr",
     "output_type": "stream",
     "text": [
      "/usr/local/lib/python3.10/dist-packages/sklearn/metrics/_classification.py:1344: UndefinedMetricWarning: Precision is ill-defined and being set to 0.0 in labels with no predicted samples. Use `zero_division` parameter to control this behavior.\n",
      "  _warn_prf(average, modifier, msg_start, len(result))\n"
     ]
    }
   ],
   "source": [
    "# Multinomial Naive Bayes with tfidf features\n",
    "mnb_tfidf_predictions = train_predict_evaluate_model_test(classifier=mnb,\n",
    "                                           train_features=tfidf_train_features,\n",
    "                                           train_labels=train_labels,\n",
    "                                           test_features=tfidf_test_features,\n",
    "                                           test_labels=test_labels)"
   ]
  },
  {
   "cell_type": "code",
   "execution_count": 47,
   "id": "MtFw_XmMWhAF",
   "metadata": {
    "colab": {
     "base_uri": "https://localhost:8080/"
    },
    "executionInfo": {
     "elapsed": 10,
     "status": "ok",
     "timestamp": 1690019892938,
     "user": {
      "displayName": "Thilina Jayasinghe",
      "userId": "04972212134470764724"
     },
     "user_tz": -330
    },
    "id": "MtFw_XmMWhAF",
    "outputId": "eced5c81-0f5d-474e-8a52-002a67588519"
   },
   "outputs": [
    {
     "name": "stdout",
     "output_type": "stream",
     "text": [
      "Confusion Matrix: MNB Model\n",
      "[[   0    2    0    0  113   57    0    0    0    0]\n",
      " [   0  152    0    0  298   78    0    0    0    0]\n",
      " [   0    0    0    0   11   16    0    0    0    0]\n",
      " [   0   15    0   11  565   90    0    0    0    0]\n",
      " [   0    8    0    0 1299   63    0    0    0    0]\n",
      " [   0    7    0    0  633  522    0    0    0    0]\n",
      " [   0    0    0    0    4    0    0    0    0    0]\n",
      " [   0    0    0    0   39   13    0    0    0    0]\n",
      " [   0    1    0    0  139   39    0    0   28    0]\n",
      " [   0    1    0    0    5    0    0    0    0    0]]\n"
     ]
    }
   ],
   "source": [
    "# Compute the confusion matrix\n",
    "confusion_mat = confusion_matrix(test_labels, mnb_tfidf_predictions)\n",
    "\n",
    "# Display the confusion matrix\n",
    "print(\"Confusion Matrix: MNB Model\")\n",
    "print(confusion_mat)"
   ]
  },
  {
   "cell_type": "markdown",
   "id": "VjpUyYmLo2bx",
   "metadata": {
    "id": "VjpUyYmLo2bx"
   },
   "source": [
    "*Using Sparse Vector*"
   ]
  },
  {
   "cell_type": "code",
   "execution_count": 48,
   "id": "UmVZMJCwo11D",
   "metadata": {
    "colab": {
     "base_uri": "https://localhost:8080/"
    },
    "executionInfo": {
     "elapsed": 8,
     "status": "ok",
     "timestamp": 1690019892939,
     "user": {
      "displayName": "Thilina Jayasinghe",
      "userId": "04972212134470764724"
     },
     "user_tz": -330
    },
    "id": "UmVZMJCwo11D",
    "outputId": "052a1b42-385d-42d3-b393-2eec762f0e93"
   },
   "outputs": [
    {
     "name": "stdout",
     "output_type": "stream",
     "text": [
      "Accuracy: 0.57\n",
      "Precision: 0.58\n",
      "Recall: 0.57\n",
      "F1 Score: 0.56\n"
     ]
    },
    {
     "name": "stderr",
     "output_type": "stream",
     "text": [
      "/usr/local/lib/python3.10/dist-packages/sklearn/metrics/_classification.py:1344: UndefinedMetricWarning: Precision is ill-defined and being set to 0.0 in labels with no predicted samples. Use `zero_division` parameter to control this behavior.\n",
      "  _warn_prf(average, modifier, msg_start, len(result))\n"
     ]
    }
   ],
   "source": [
    "# Multinomial Naive Bayes with BOW features\n",
    "mnb_bow_predictions = train_predict_evaluate_model_test(classifier=mnb,\n",
    "                                           train_features=bow_train_features,\n",
    "                                           train_labels=train_labels,\n",
    "                                           test_features=bow_test_features,\n",
    "                                           test_labels=test_labels)"
   ]
  },
  {
   "cell_type": "code",
   "execution_count": 49,
   "id": "gEjvW8OFo14G",
   "metadata": {
    "colab": {
     "base_uri": "https://localhost:8080/"
    },
    "executionInfo": {
     "elapsed": 6,
     "status": "ok",
     "timestamp": 1690019892939,
     "user": {
      "displayName": "Thilina Jayasinghe",
      "userId": "04972212134470764724"
     },
     "user_tz": -330
    },
    "id": "gEjvW8OFo14G",
    "outputId": "5cc37895-8366-44ef-feb4-817334ed52ca"
   },
   "outputs": [
    {
     "name": "stdout",
     "output_type": "stream",
     "text": [
      "Confusion Matrix: MNB Model\n",
      "[[  10    8    0   22   55   58    0   12    7    0]\n",
      " [   3  314    1   78   87   33    0    8    4    0]\n",
      " [   0    2   10    3    0    3    0    2    7    0]\n",
      " [   8   69    0  261  235   71    0   23   14    0]\n",
      " [   0   57    0  120 1069  106    0    9    9    0]\n",
      " [   3   58    2  119  361  573    0   29   17    0]\n",
      " [   0    0    0    0    4    0    0    0    0    0]\n",
      " [   0    3    2   13    1    5    0   18   10    0]\n",
      " [   1    1    0   21   15    6    0    1  162    0]\n",
      " [   0    2    0    2    2    0    0    0    0    0]]\n"
     ]
    }
   ],
   "source": [
    "# Compute the confusion matrix\n",
    "confusion_mat = confusion_matrix(test_labels, mnb_bow_predictions)\n",
    "\n",
    "# Display the confusion matrix\n",
    "print(\"Confusion Matrix: MNB Model\")\n",
    "print(confusion_mat)"
   ]
  },
  {
   "cell_type": "markdown",
   "id": "MiHErfhUQmuU",
   "metadata": {
    "id": "MiHErfhUQmuU"
   },
   "source": [
    "Seems like, sparse vector representation is better than the dense vector representation . Overall test set accuracy is higher than 50 for sparse vector representation model."
   ]
  },
  {
   "cell_type": "markdown",
   "id": "6KtHclSdjQv-",
   "metadata": {
    "id": "6KtHclSdjQv-"
   },
   "source": [
    "###### **02) Ada Boost**"
   ]
  },
  {
   "cell_type": "markdown",
   "id": "nTrbDo9qptWW",
   "metadata": {
    "id": "nTrbDo9qptWW"
   },
   "source": [
    "*Using Dense Vector*"
   ]
  },
  {
   "cell_type": "code",
   "execution_count": 50,
   "id": "QZdhSmXvpwNI",
   "metadata": {
    "colab": {
     "base_uri": "https://localhost:8080/"
    },
    "executionInfo": {
     "elapsed": 20060,
     "status": "ok",
     "timestamp": 1690019912994,
     "user": {
      "displayName": "Thilina Jayasinghe",
      "userId": "04972212134470764724"
     },
     "user_tz": -330
    },
    "id": "QZdhSmXvpwNI",
    "outputId": "2a8211a2-2b2a-4b42-e45d-7047844c9909"
   },
   "outputs": [
    {
     "name": "stderr",
     "output_type": "stream",
     "text": [
      "/usr/local/lib/python3.10/dist-packages/sklearn/ensemble/_base.py:166: FutureWarning: `base_estimator` was renamed to `estimator` in version 1.2 and will be removed in 1.4.\n",
      "  warnings.warn(\n"
     ]
    },
    {
     "name": "stdout",
     "output_type": "stream",
     "text": [
      "Accuracy: 0.39\n",
      "Precision: 0.3\n",
      "Recall: 0.39\n",
      "F1 Score: 0.26\n"
     ]
    },
    {
     "name": "stderr",
     "output_type": "stream",
     "text": [
      "/usr/local/lib/python3.10/dist-packages/sklearn/metrics/_classification.py:1344: UndefinedMetricWarning: Precision is ill-defined and being set to 0.0 in labels with no predicted samples. Use `zero_division` parameter to control this behavior.\n",
      "  _warn_prf(average, modifier, msg_start, len(result))\n"
     ]
    }
   ],
   "source": [
    "# Create a base decision tree classifier (weak learner)\n",
    "base_classifier = DecisionTreeClassifier(max_depth=1)\n",
    "\n",
    "# Create an AdaBoost classifier with the base classifier\n",
    "ada_boost_model = AdaBoostClassifier(base_estimator=base_classifier, n_estimators=50, random_state=42)\n",
    "\n",
    "# Train the AdaBoost model on the training data\n",
    "ada_boost_model.fit(tfidf_train_features, train_labels)\n",
    "\n",
    "# Make predictions on the test data\n",
    "y_pred = ada_boost_model.predict(tfidf_test_features)\n",
    "\n",
    "# Calculate accuracy of the model\n",
    "accuracy = accuracy_score(test_labels, y_pred)\n",
    "get_metrics(true_labels=test_labels,predicted_labels=y_pred)"
   ]
  },
  {
   "cell_type": "code",
   "execution_count": 51,
   "id": "dxUWT7tApwP7",
   "metadata": {
    "colab": {
     "base_uri": "https://localhost:8080/"
    },
    "executionInfo": {
     "elapsed": 26,
     "status": "ok",
     "timestamp": 1690019912995,
     "user": {
      "displayName": "Thilina Jayasinghe",
      "userId": "04972212134470764724"
     },
     "user_tz": -330
    },
    "id": "dxUWT7tApwP7",
    "outputId": "aca0a347-671d-4754-c819-a53918d85054"
   },
   "outputs": [
    {
     "name": "stdout",
     "output_type": "stream",
     "text": [
      "Confusion Matrix: XGB\n",
      "[[   0    0    0    0  166    0    0    0    6    0]\n",
      " [   0    0    0    0  520    0    0    0    8    0]\n",
      " [   0    0    0    0   22    0    0    0    5    0]\n",
      " [   0    0    0  156  510    0    0    0   15    0]\n",
      " [   0    0    0    0 1334    0    1    0   35    0]\n",
      " [   0    0    0    0 1136    0    1    0   25    0]\n",
      " [   0    0    0    0    4    0    0    0    0    0]\n",
      " [   0    0    0    0   43    0    0    0    9    0]\n",
      " [   0    0    0    0   63    0    0    0  144    0]\n",
      " [   0    0    0    0    6    0    0    0    0    0]]\n"
     ]
    }
   ],
   "source": [
    "# Compute the confusion matrix\n",
    "confusion_mat = confusion_matrix(test_labels, y_pred)\n",
    "\n",
    "# Display the confusion matrix\n",
    "print(\"Confusion Matrix: XGB\")\n",
    "print(confusion_mat)"
   ]
  },
  {
   "cell_type": "markdown",
   "id": "xn8MTenzpwml",
   "metadata": {
    "id": "xn8MTenzpwml"
   },
   "source": [
    "*Using Sparse Vector*"
   ]
  },
  {
   "cell_type": "code",
   "execution_count": 52,
   "id": "3EHmhX-Zp0Qn",
   "metadata": {
    "colab": {
     "base_uri": "https://localhost:8080/"
    },
    "executionInfo": {
     "elapsed": 9235,
     "status": "ok",
     "timestamp": 1690019922208,
     "user": {
      "displayName": "Thilina Jayasinghe",
      "userId": "04972212134470764724"
     },
     "user_tz": -330
    },
    "id": "3EHmhX-Zp0Qn",
    "outputId": "8fe9384c-224f-4505-f783-5b81d4840e76"
   },
   "outputs": [
    {
     "name": "stderr",
     "output_type": "stream",
     "text": [
      "/usr/local/lib/python3.10/dist-packages/sklearn/ensemble/_base.py:166: FutureWarning: `base_estimator` was renamed to `estimator` in version 1.2 and will be removed in 1.4.\n",
      "  warnings.warn(\n"
     ]
    },
    {
     "name": "stdout",
     "output_type": "stream",
     "text": [
      "Accuracy: 0.39\n",
      "Precision: 0.4\n",
      "Recall: 0.39\n",
      "F1 Score: 0.29\n"
     ]
    },
    {
     "name": "stderr",
     "output_type": "stream",
     "text": [
      "/usr/local/lib/python3.10/dist-packages/sklearn/metrics/_classification.py:1344: UndefinedMetricWarning: Precision is ill-defined and being set to 0.0 in labels with no predicted samples. Use `zero_division` parameter to control this behavior.\n",
      "  _warn_prf(average, modifier, msg_start, len(result))\n"
     ]
    }
   ],
   "source": [
    "# Create a base decision tree classifier (weak learner)\n",
    "base_classifier = DecisionTreeClassifier(max_depth=1)\n",
    "\n",
    "# Create an AdaBoost classifier with the base classifier\n",
    "ada_boost_model = AdaBoostClassifier(base_estimator=base_classifier, n_estimators=50, random_state=42)\n",
    "\n",
    "# Train the AdaBoost model on the training data\n",
    "ada_boost_model.fit(bow_train_features, train_labels)\n",
    "\n",
    "# Make predictions on the test data\n",
    "y_pred = ada_boost_model.predict(bow_test_features)\n",
    "\n",
    "# Calculate accuracy of the model\n",
    "accuracy = accuracy_score(test_labels, y_pred)\n",
    "get_metrics(true_labels=test_labels,predicted_labels=y_pred)"
   ]
  },
  {
   "cell_type": "code",
   "execution_count": 53,
   "id": "VRFQowcRp0UD",
   "metadata": {
    "colab": {
     "base_uri": "https://localhost:8080/"
    },
    "executionInfo": {
     "elapsed": 25,
     "status": "ok",
     "timestamp": 1690019922208,
     "user": {
      "displayName": "Thilina Jayasinghe",
      "userId": "04972212134470764724"
     },
     "user_tz": -330
    },
    "id": "VRFQowcRp0UD",
    "outputId": "1721304c-cec4-481a-f839-ac71fadad736"
   },
   "outputs": [
    {
     "name": "stdout",
     "output_type": "stream",
     "text": [
      "Confusion Matrix: XGB\n",
      "[[   0    4    6    4  142    9    0    0    7    0]\n",
      " [   0   17   38    5  425   34    0    0    9    0]\n",
      " [   0    3   22    0    0    1    0    0    1    0]\n",
      " [   0   20   46  163  407   25    0    0   20    0]\n",
      " [   0   13   33   10 1241   30    0    0   43    0]\n",
      " [   0   14   52   15 1006   46    0    0   29    0]\n",
      " [   0    0    0    0    4    0    0    0    0    0]\n",
      " [   0    2   18    0   19    6    0    0    7    0]\n",
      " [   0    1   33    1   28    3    0    1  140    0]\n",
      " [   0    0    1    0    4    0    0    0    1    0]]\n"
     ]
    }
   ],
   "source": [
    "# Compute the confusion matrix\n",
    "confusion_mat = confusion_matrix(test_labels, y_pred)\n",
    "\n",
    "# Display the confusion matrix\n",
    "print(\"Confusion Matrix: XGB\")\n",
    "print(confusion_mat)"
   ]
  },
  {
   "cell_type": "markdown",
   "id": "nhAEZ7DURwdy",
   "metadata": {
    "id": "nhAEZ7DURwdy"
   },
   "source": [
    "Seems like, sparse vector representation is better than the dense vector representation . Overall test set accuracy is around 39 for sparse vector representation model. But, Multinomial Naive-Bayes model is better than the Adaboost model"
   ]
  },
  {
   "cell_type": "markdown",
   "id": "5J5CFefSjZnM",
   "metadata": {
    "id": "5J5CFefSjZnM"
   },
   "source": [
    "###### **03) Extreme Gradient Boost Model**"
   ]
  },
  {
   "cell_type": "markdown",
   "id": "FPzzeeMepSbo",
   "metadata": {
    "id": "FPzzeeMepSbo"
   },
   "source": [
    "*Using Dense Vector*"
   ]
  },
  {
   "cell_type": "code",
   "execution_count": 54,
   "id": "Zk6IdsoCUQK4",
   "metadata": {
    "colab": {
     "base_uri": "https://localhost:8080/"
    },
    "executionInfo": {
     "elapsed": 556832,
     "status": "ok",
     "timestamp": 1690020479019,
     "user": {
      "displayName": "Thilina Jayasinghe",
      "userId": "04972212134470764724"
     },
     "user_tz": -330
    },
    "id": "Zk6IdsoCUQK4",
    "outputId": "6186af0d-607c-4e22-a61b-2ed51c4bb8c7"
   },
   "outputs": [
    {
     "name": "stdout",
     "output_type": "stream",
     "text": [
      "Accuracy: 0.72\n",
      "Precision: 0.72\n",
      "Recall: 0.72\n",
      "F1 Score: 0.71\n"
     ]
    },
    {
     "name": "stderr",
     "output_type": "stream",
     "text": [
      "/usr/local/lib/python3.10/dist-packages/sklearn/metrics/_classification.py:1344: UndefinedMetricWarning: Precision is ill-defined and being set to 0.0 in labels with no predicted samples. Use `zero_division` parameter to control this behavior.\n",
      "  _warn_prf(average, modifier, msg_start, len(result))\n"
     ]
    }
   ],
   "source": [
    "# Convert boolean labels to numeric format\n",
    "label_encoder = LabelEncoder()\n",
    "train_labels_encoded = label_encoder.fit_transform(train_labels)\n",
    "val_labels_encoded = label_encoder.transform(test_labels)\n",
    "\n",
    "# Create the XGBoost classifier\n",
    "xgb_classifier = xgb.XGBClassifier()\n",
    "\n",
    "# Train the model\n",
    "xgb_classifier.fit(tfidf_train_features, train_labels_encoded)\n",
    "\n",
    "# Make predictions on the validation set\n",
    "xgb_predictions_encoded = xgb_classifier.predict(tfidf_test_features)\n",
    "\n",
    "# Convert numeric predictions back to original labels\n",
    "xgb_predictions = label_encoder.inverse_transform(xgb_predictions_encoded)\n",
    "\n",
    "# Evaluate the model\n",
    "accuracy = accuracy_score(test_labels, xgb_predictions)\n",
    "# print(\"Accuracy:\", accuracy)\n",
    "get_metrics(true_labels=test_labels,predicted_labels=xgb_predictions)\n"
   ]
  },
  {
   "cell_type": "code",
   "execution_count": 55,
   "id": "bbswjfYpWAvK",
   "metadata": {
    "colab": {
     "base_uri": "https://localhost:8080/"
    },
    "executionInfo": {
     "elapsed": 8,
     "status": "ok",
     "timestamp": 1690020479020,
     "user": {
      "displayName": "Thilina Jayasinghe",
      "userId": "04972212134470764724"
     },
     "user_tz": -330
    },
    "id": "bbswjfYpWAvK",
    "outputId": "bf55be0f-ccd3-4e43-d5aa-11c38845ad17"
   },
   "outputs": [
    {
     "name": "stdout",
     "output_type": "stream",
     "text": [
      "Confusion Matrix: XGB\n",
      "[[  24   15    0   16   44   70    0    1    2    0]\n",
      " [   4  390    1   20   47   65    0    1    0    0]\n",
      " [   0    4   11    5    0    5    0    1    1    0]\n",
      " [   6   41    1  408  117   97    1    7    3    0]\n",
      " [   1   32    0   48 1141  145    0    2    1    0]\n",
      " [   8   24    0   60  180  885    0    3    2    0]\n",
      " [   0    0    0    2    1    1    0    0    0    0]\n",
      " [   0    6    1   10    8   11    0    9    7    0]\n",
      " [   0    2    0    4    8   14    0    1  178    0]\n",
      " [   0    2    0    2    1    1    0    0    0    0]]\n"
     ]
    }
   ],
   "source": [
    "# Compute the confusion matrix\n",
    "confusion_mat = confusion_matrix(test_labels, xgb_predictions)\n",
    "\n",
    "# Display the confusion matrix\n",
    "print(\"Confusion Matrix: XGB\")\n",
    "print(confusion_mat)"
   ]
  },
  {
   "cell_type": "markdown",
   "id": "c11Ueq3KpYfo",
   "metadata": {
    "id": "c11Ueq3KpYfo"
   },
   "source": [
    "*Using Sparse Vector*"
   ]
  },
  {
   "cell_type": "code",
   "execution_count": 56,
   "id": "nXXhcPJlpcDw",
   "metadata": {
    "colab": {
     "base_uri": "https://localhost:8080/"
    },
    "executionInfo": {
     "elapsed": 225859,
     "status": "ok",
     "timestamp": 1690020704876,
     "user": {
      "displayName": "Thilina Jayasinghe",
      "userId": "04972212134470764724"
     },
     "user_tz": -330
    },
    "id": "nXXhcPJlpcDw",
    "outputId": "b18026fc-a4c5-406e-963f-6d8bc5fcca11"
   },
   "outputs": [
    {
     "name": "stdout",
     "output_type": "stream",
     "text": [
      "Accuracy: 0.72\n",
      "Precision: 0.72\n",
      "Recall: 0.72\n",
      "F1 Score: 0.71\n"
     ]
    },
    {
     "name": "stderr",
     "output_type": "stream",
     "text": [
      "/usr/local/lib/python3.10/dist-packages/sklearn/metrics/_classification.py:1344: UndefinedMetricWarning: Precision is ill-defined and being set to 0.0 in labels with no predicted samples. Use `zero_division` parameter to control this behavior.\n",
      "  _warn_prf(average, modifier, msg_start, len(result))\n"
     ]
    }
   ],
   "source": [
    "# Convert boolean labels to numeric format\n",
    "label_encoder = LabelEncoder()\n",
    "train_labels_encoded = label_encoder.fit_transform(train_labels)\n",
    "val_labels_encoded = label_encoder.transform(test_labels)\n",
    "\n",
    "# Create the XGBoost classifier\n",
    "xgb_classifier = xgb.XGBClassifier()\n",
    "\n",
    "# Train the model\n",
    "xgb_classifier.fit(bow_train_features, train_labels_encoded)\n",
    "\n",
    "# Make predictions on the validation set\n",
    "xgb_predictions_encoded = xgb_classifier.predict(bow_test_features)\n",
    "\n",
    "# Convert numeric predictions back to original labels\n",
    "xgb_predictions = label_encoder.inverse_transform(xgb_predictions_encoded)\n",
    "\n",
    "# Evaluate the model\n",
    "accuracy = accuracy_score(test_labels, xgb_predictions)\n",
    "# print(\"Accuracy:\", accuracy)\n",
    "get_metrics(true_labels=test_labels,predicted_labels=xgb_predictions)\n"
   ]
  },
  {
   "cell_type": "code",
   "execution_count": 57,
   "id": "eCK5BI0bpcGX",
   "metadata": {
    "colab": {
     "base_uri": "https://localhost:8080/"
    },
    "executionInfo": {
     "elapsed": 21,
     "status": "ok",
     "timestamp": 1690020704876,
     "user": {
      "displayName": "Thilina Jayasinghe",
      "userId": "04972212134470764724"
     },
     "user_tz": -330
    },
    "id": "eCK5BI0bpcGX",
    "outputId": "fdf65131-bcbb-4c05-e534-d1be87985fad"
   },
   "outputs": [
    {
     "name": "stdout",
     "output_type": "stream",
     "text": [
      "Confusion Matrix: XGB\n",
      "[[  19   11    0   17   39   83    0    2    1    0]\n",
      " [   6  393    1   12   42   72    0    1    1    0]\n",
      " [   0    1   16    3    1    4    0    0    2    0]\n",
      " [   5   41    0  405  113  102    1   11    3    0]\n",
      " [   2   33    0   38 1132  163    0    1    1    0]\n",
      " [   5   27    0   57  179  886    0    5    3    0]\n",
      " [   0    0    0    2    1    1    0    0    0    0]\n",
      " [   1    6    0    7    8   12    0   11    7    0]\n",
      " [   0    0    1    3   10   10    0    1  182    0]\n",
      " [   0    2    0    1    2    1    0    0    0    0]]\n"
     ]
    }
   ],
   "source": [
    "# Compute the confusion matrix\n",
    "confusion_mat = confusion_matrix(test_labels, xgb_predictions)\n",
    "\n",
    "# Display the confusion matrix\n",
    "print(\"Confusion Matrix: XGB\")\n",
    "print(confusion_mat)"
   ]
  },
  {
   "cell_type": "markdown",
   "id": "xZkGsHuHRaKS",
   "metadata": {
    "id": "xZkGsHuHRaKS"
   },
   "source": [
    "Out of all these three ML models, we can see that the xgboost model works better than the others. To get some more higher accuracies, let's do some hyper parameter tuning for xgboost model. lets take sparse vector representations"
   ]
  },
  {
   "cell_type": "code",
   "execution_count": 58,
   "id": "M2DEP7gdRsGv",
   "metadata": {
    "executionInfo": {
     "elapsed": 17,
     "status": "ok",
     "timestamp": 1690020704876,
     "user": {
      "displayName": "Thilina Jayasinghe",
      "userId": "04972212134470764724"
     },
     "user_tz": -330
    },
    "id": "M2DEP7gdRsGv"
   },
   "outputs": [],
   "source": [
    "# # Create the XGBoost classifier\n",
    "# xgb_classifier = xgb.XGBClassifier()\n",
    "\n",
    "# # Define a grid of hyperparameters to search through\n",
    "# param_grid = {\n",
    "#     'learning_rate': [0.01, 0.1, 0.3],\n",
    "#     'max_depth': [3, 5, 7],\n",
    "#     'subsample': [0.8, 1.0],\n",
    "#     'colsample_bytree': [0.8, 1.0],\n",
    "# }\n",
    "\n",
    "# # Perform Grid Search with cross-validation\n",
    "# grid_search = GridSearchCV(estimator=xgb_classifier, param_grid=param_grid, cv=5, scoring='accuracy')\n",
    "# grid_search.fit(bow_train_features, train_labels_encoded)\n",
    "\n",
    "# # Get the best model and its parameters\n",
    "# best_xgb_classifier = grid_search.best_estimator_\n",
    "# best_params = grid_search.best_params_\n",
    "\n",
    "# # Make predictions on the validation set using the best model\n",
    "# best_xgb_predictions_encoded = best_xgb_classifier.predict(bow_test_features)\n",
    "\n",
    "# # Convert numeric predictions back to original labels\n",
    "# best_xgb_predictions = label_encoder.inverse_transform(best_xgb_predictions_encoded)\n",
    "\n",
    "# # Evaluate the best model\n",
    "# best_accuracy = accuracy_score(test_labels, best_xgb_predictions)\n",
    "# print(\"Best Model Accuracy:\", best_accuracy)\n",
    "\n",
    "# # Get other metrics for the best model\n",
    "# get_metrics(true_labels=test_labels, predicted_labels=best_xgb_predictions)\n"
   ]
  },
  {
   "cell_type": "markdown",
   "id": "QIx53j1Wcj7y",
   "metadata": {
    "id": "QIx53j1Wcj7y"
   },
   "source": [
    "This will take long time to run"
   ]
  },
  {
   "cell_type": "markdown",
   "id": "qPRTIhvDHQri",
   "metadata": {
    "id": "qPRTIhvDHQri"
   },
   "source": [
    "### ***ML Models Comparison***"
   ]
  },
  {
   "cell_type": "markdown",
   "id": "Kn8PCKbS2uXm",
   "metadata": {
    "id": "Kn8PCKbS2uXm"
   },
   "source": [
    "**Link to the Model Comparison Table:** https://drive.google.com/file/d/1ISixezlD90RU1JxfNtd6h5rAEK-JkdmU/view?usp=sharing"
   ]
  },
  {
   "cell_type": "markdown",
   "id": "sT2tksbcZ9Kx",
   "metadata": {
    "id": "sT2tksbcZ9Kx"
   },
   "source": [
    "![Screenshot 2023-07-20 at 22.24.02.png](data:image/png;base64,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)"
   ]
  },
  {
   "cell_type": "markdown",
   "id": "j1GBSmSkt5XX",
   "metadata": {
    "id": "j1GBSmSkt5XX"
   },
   "source": [
    "### *Based on the results above, it's clear that Extreme Gradient Boost model perform better than the other fitted ML Models*"
   ]
  },
  {
   "cell_type": "code",
   "execution_count": 59,
   "id": "l6zlWYxt0XAs",
   "metadata": {
    "executionInfo": {
     "elapsed": 17,
     "status": "ok",
     "timestamp": 1690020704876,
     "user": {
      "displayName": "Thilina Jayasinghe",
      "userId": "04972212134470764724"
     },
     "user_tz": -330
    },
    "id": "l6zlWYxt0XAs"
   },
   "outputs": [],
   "source": [
    "# file_path = '/content/drive/MyDrive/Text-analytics/Analysis/predictive_result.csv'\n",
    "\n",
    "# # Write the DataFrame to a CSV file\n",
    "# df_final_test.to_csv(file_path, index=False)"
   ]
  },
  {
   "cell_type": "markdown",
   "id": "HJqokXCbqBfd",
   "metadata": {
    "id": "HJqokXCbqBfd"
   },
   "source": [
    "# **Question - (e)**"
   ]
  },
  {
   "cell_type": "markdown",
   "id": "ladW9PzWllUN",
   "metadata": {
    "id": "ladW9PzWllUN"
   },
   "source": [
    "### ***CNN (Embedding Model)***"
   ]
  },
  {
   "cell_type": "markdown",
   "id": "I7gDaCNwOtz9",
   "metadata": {
    "id": "I7gDaCNwOtz9"
   },
   "source": [
    "Convolutional Neural Networks (CNNs) belong to the broader category of embedding techniques in Natural Language Processing (NLP). However, it's essential to clarify the difference between word embeddings and contextual embeddings:\n",
    "\n",
    "1. **Word Embeddings**: Word embeddings are a type of static word representations where each word is mapped to a fixed-size dense vector. These embeddings are learned from large text corpora and are independent of the context in which the word appears. Popular word embedding algorithms include Word2Vec, GloVe, and FastText. In CNNs, an `Embedding` layer is used to learn word embeddings, mapping each word in the input text to a dense vector representation.\n",
    "\n",
    "2. **Contextual Embeddings**: Contextual embeddings, on the other hand, are more advanced word representations that are aware of the surrounding context of each word in a sentence. These embeddings take into account the entire sentence or document and generate unique representations for each word based on its context. Contextual embeddings models include ElMo (Embeddings from Language Models), OpenAI GPT (Generative Pre-trained Transformer), and BERT (Bidirectional Encoder Representations from Transformers).\n",
    "\n",
    "While CNNs use word embeddings, they do not inherently capture contextual information from the surrounding words. Instead, CNNs operate on fixed-size windows or filters and learn local patterns from the word embeddings. As a result, CNNs can be effective for certain NLP tasks like text classification and sentiment analysis, where local patterns are essential, but they may not be as effective in tasks that require capturing more extensive contextual information, such as question-answering or natural language understanding.\n",
    "\n",
    "In contrast, models like BERT and GPT are considered contextual embedding techniques because they generate word representations that are contextualized based on the entire context in which the words appear. These models have shown significant advancements in a wide range of NLP tasks due to their ability to capture rich contextual information.\n",
    "\n",
    "To summarize, CNNs belong to the embedding techniques category, but they are distinct from contextual embedding models like BERT and GPT, which are specifically designed to capture contextual information for each word in a sentence or document."
   ]
  },
  {
   "cell_type": "code",
   "execution_count": 60,
   "id": "1XnrFOPSKLJ_",
   "metadata": {
    "colab": {
     "base_uri": "https://localhost:8080/"
    },
    "executionInfo": {
     "elapsed": 61258,
     "status": "ok",
     "timestamp": 1690021242354,
     "user": {
      "displayName": "Thilina Jayasinghe",
      "userId": "04972212134470764724"
     },
     "user_tz": -330
    },
    "id": "1XnrFOPSKLJ_",
    "outputId": "c5a329f3-9869-44f2-fbd8-754774388a97"
   },
   "outputs": [
    {
     "name": "stdout",
     "output_type": "stream",
     "text": [
      "Epoch 1/10\n",
      "421/421 [==============================] - 5s 10ms/step - loss: 1.7547 - accuracy: 0.3105 - val_loss: 1.5766 - val_accuracy: 0.3460\n",
      "Epoch 2/10\n",
      "421/421 [==============================] - 5s 12ms/step - loss: 1.4465 - accuracy: 0.4115 - val_loss: 1.4471 - val_accuracy: 0.4396\n",
      "Epoch 3/10\n",
      "421/421 [==============================] - 5s 11ms/step - loss: 1.1885 - accuracy: 0.5620 - val_loss: 1.4299 - val_accuracy: 0.4633\n",
      "Epoch 4/10\n",
      "421/421 [==============================] - 4s 10ms/step - loss: 0.9414 - accuracy: 0.6761 - val_loss: 1.5064 - val_accuracy: 0.4571\n",
      "Epoch 5/10\n",
      "421/421 [==============================] - 4s 10ms/step - loss: 0.7521 - accuracy: 0.7574 - val_loss: 1.6398 - val_accuracy: 0.4601\n",
      "Epoch 6/10\n",
      "421/421 [==============================] - 7s 16ms/step - loss: 0.6081 - accuracy: 0.8109 - val_loss: 1.8147 - val_accuracy: 0.4693\n",
      "Epoch 7/10\n",
      "421/421 [==============================] - 4s 10ms/step - loss: 0.5061 - accuracy: 0.8459 - val_loss: 1.9889 - val_accuracy: 0.4660\n",
      "Epoch 8/10\n",
      "421/421 [==============================] - 5s 12ms/step - loss: 0.4323 - accuracy: 0.8691 - val_loss: 2.2109 - val_accuracy: 0.4553\n",
      "Epoch 9/10\n",
      "421/421 [==============================] - 7s 16ms/step - loss: 0.3773 - accuracy: 0.8856 - val_loss: 2.3936 - val_accuracy: 0.4553\n",
      "Epoch 10/10\n",
      "421/421 [==============================] - 8s 19ms/step - loss: 0.3400 - accuracy: 0.9027 - val_loss: 2.5262 - val_accuracy: 0.4497\n",
      "132/132 [==============================] - 0s 1ms/step\n",
      "Accuracy: 0.44523639819434546\n",
      "Confusion Matrix:\n",
      "[[  7  25   0  30  55  35   0   2  10   0]\n",
      " [ 22 173   0  86 124  80   0   0  14   0]\n",
      " [  2   3   0   5   6   3   0   0   8   0]\n",
      " [ 19  67   0 267 162 141   0   1  12   0]\n",
      " [ 27 115   0 116 833 287   0   1  14   0]\n",
      " [ 56  92   0 173 345 509   0   2  11   0]\n",
      " [  0   0   0   0   3   0   0   0   0   0]\n",
      " [ 16   8   0  11  15  11   0   1   6   0]\n",
      " [ 13  18   0  23  35  14   0   1  84   0]\n",
      " [  0   1   0   4   4   1   0   0   0   0]]\n",
      "Classification Report:\n",
      "              precision    recall  f1-score   support\n",
      "\n",
      "           0       0.04      0.04      0.04       164\n",
      "           1       0.34      0.35      0.35       499\n",
      "           2       0.00      0.00      0.00        27\n",
      "           3       0.37      0.40      0.39       669\n",
      "           4       0.53      0.60      0.56      1393\n",
      "           5       0.47      0.43      0.45      1188\n",
      "           6       0.00      0.00      0.00         3\n",
      "           7       0.12      0.01      0.03        68\n",
      "           8       0.53      0.45      0.48       188\n",
      "           9       0.00      0.00      0.00        10\n",
      "\n",
      "    accuracy                           0.45      4209\n",
      "   macro avg       0.24      0.23      0.23      4209\n",
      "weighted avg       0.43      0.45      0.44      4209\n",
      "\n"
     ]
    },
    {
     "name": "stderr",
     "output_type": "stream",
     "text": [
      "/usr/local/lib/python3.10/dist-packages/sklearn/metrics/_classification.py:1344: UndefinedMetricWarning: Precision and F-score are ill-defined and being set to 0.0 in labels with no predicted samples. Use `zero_division` parameter to control this behavior.\n",
      "  _warn_prf(average, modifier, msg_start, len(result))\n",
      "/usr/local/lib/python3.10/dist-packages/sklearn/metrics/_classification.py:1344: UndefinedMetricWarning: Precision and F-score are ill-defined and being set to 0.0 in labels with no predicted samples. Use `zero_division` parameter to control this behavior.\n",
      "  _warn_prf(average, modifier, msg_start, len(result))\n",
      "/usr/local/lib/python3.10/dist-packages/sklearn/metrics/_classification.py:1344: UndefinedMetricWarning: Precision and F-score are ill-defined and being set to 0.0 in labels with no predicted samples. Use `zero_division` parameter to control this behavior.\n",
      "  _warn_prf(average, modifier, msg_start, len(result))\n"
     ]
    }
   ],
   "source": [
    "label_encoder = LabelEncoder()\n",
    "dataset['news_agency'] = label_encoder.fit_transform(dataset['news_agency'])\n",
    "\n",
    "# Tokenize the text data\n",
    "# max_words = 10000  # Set the maximum number of words in the vocabulary\n",
    "# tokenizer = Tokenizer(num_words=max_words)\n",
    "tokenizer = Tokenizer()\n",
    "tokenizer.fit_on_texts(dataset['normalized_text_new'])\n",
    "text_sequences = tokenizer.texts_to_sequences(dataset['normalized_text_new'])\n",
    "\n",
    "# Pad sequences to have the same length\n",
    "max_sequence_length = 10\n",
    "text_sequences = pad_sequences(text_sequences, maxlen=max_sequence_length)\n",
    "\n",
    "# Convert response_variable to one-hot encoded labels\n",
    "num_classes = 10  # Change this to the actual number of classes (levels) in your response variable\n",
    "response_variable = keras.utils.to_categorical(dataset['news_agency'], num_classes=num_classes)\n",
    "\n",
    "# Split the data into training and testing sets\n",
    "test_size = 0.2\n",
    "X_train, X_test, y_train, y_test = train_test_split(text_sequences, response_variable, test_size=test_size, random_state=42)\n",
    "\n",
    "# Define the CNN model\n",
    "model = Sequential()\n",
    "model.add(Embedding(input_dim = len(tokenizer.word_index) + 1, output_dim=10, input_length=max_sequence_length))\n",
    "model.add(Conv1D(10, 5, activation='relu'))\n",
    "model.add(GlobalMaxPooling1D())\n",
    "model.add(Dense(64, activation='relu'))\n",
    "model.add(Dropout(0.5))\n",
    "model.add(Dense(num_classes, activation='softmax'))\n",
    "\n",
    "# Compile the model\n",
    "model.compile(optimizer='adam', loss='categorical_crossentropy', metrics=['accuracy'])\n",
    "\n",
    "# Train the model\n",
    "batch_size = 32\n",
    "epochs = 10\n",
    "model.fit(X_train, y_train, batch_size=batch_size, epochs=epochs, validation_split=0.2)\n",
    "\n",
    "# Evaluate the model\n",
    "y_pred = model.predict(X_test)\n",
    "y_pred_classes = np.argmax(y_pred, axis=1)\n",
    "y_true = np.argmax(y_test, axis=1)\n",
    "\n",
    "# Accuracy\n",
    "accuracy = accuracy_score(y_true, y_pred_classes)\n",
    "print(\"Accuracy:\", accuracy)\n",
    "\n",
    "# Confusion Matrix\n",
    "conf_matrix = confusion_matrix(y_true, y_pred_classes)\n",
    "print(\"Confusion Matrix:\")\n",
    "print(conf_matrix)\n",
    "\n",
    "# Classification Report\n",
    "class_report = classification_report(y_true, y_pred_classes)\n",
    "print(\"Classification Report:\")\n",
    "print(class_report)\n"
   ]
  },
  {
   "cell_type": "markdown",
   "id": "xxZuCkJAk9fF",
   "metadata": {
    "id": "xxZuCkJAk9fF"
   },
   "source": [
    "### ***Word2VEc model (Embedding Technique)***"
   ]
  },
  {
   "cell_type": "code",
   "execution_count": 61,
   "id": "FzNS7u3jgmEp",
   "metadata": {
    "colab": {
     "base_uri": "https://localhost:8080/"
    },
    "executionInfo": {
     "elapsed": 177819,
     "status": "ok",
     "timestamp": 1690021510569,
     "user": {
      "displayName": "Thilina Jayasinghe",
      "userId": "04972212134470764724"
     },
     "user_tz": -330
    },
    "id": "FzNS7u3jgmEp",
    "outputId": "ce68a4fa-f18b-4048-ba05-47caa6ffb57a"
   },
   "outputs": [
    {
     "name": "stdout",
     "output_type": "stream",
     "text": [
      "Epoch 1/5\n",
      "527/527 [==============================] - 24s 45ms/step - loss: 1.3590 - accuracy: 0.4702 - val_loss: 1.0388 - val_accuracy: 0.6161\n",
      "Epoch 2/5\n",
      "527/527 [==============================] - 26s 50ms/step - loss: 0.8235 - accuracy: 0.7105 - val_loss: 0.9516 - val_accuracy: 0.6598\n",
      "Epoch 3/5\n",
      "527/527 [==============================] - 23s 44ms/step - loss: 0.5215 - accuracy: 0.8273 - val_loss: 1.0182 - val_accuracy: 0.6531\n",
      "Epoch 4/5\n",
      "527/527 [==============================] - 26s 49ms/step - loss: 0.3140 - accuracy: 0.9059 - val_loss: 1.0827 - val_accuracy: 0.6698\n",
      "Epoch 5/5\n",
      "527/527 [==============================] - 23s 44ms/step - loss: 0.1825 - accuracy: 0.9519 - val_loss: 1.2458 - val_accuracy: 0.6667\n",
      "132/132 [==============================] - 2s 11ms/step\n",
      "Accuracy: 66.67%\n",
      "Confusion Matrix:\n",
      "[[  30   21    0   28   34   48    0    0    3    0]\n",
      " [   6  331    4   55   40   57    0    2    4    0]\n",
      " [   2    2    9    2    1    3    0    4    4    0]\n",
      " [  21   66    5  316  110  135    0    9    7    0]\n",
      " [   9   35    0   58 1123  164    0    3    1    0]\n",
      " [  20   49    2   88  182  842    0    1    4    0]\n",
      " [   0    0    0    2    1    0    0    0    0    0]\n",
      " [   3    7    1   15    7   19    0   12    4    0]\n",
      " [  11    5    1   11    1   12    0    4  143    0]\n",
      " [   0    1    0    0    2    4    0    2    1    0]]\n",
      "Classification Report:\n",
      "              precision    recall  f1-score   support\n",
      "\n",
      "           0       0.29      0.18      0.23       164\n",
      "           1       0.64      0.66      0.65       499\n",
      "           2       0.41      0.33      0.37        27\n",
      "           3       0.55      0.47      0.51       669\n",
      "           4       0.75      0.81      0.78      1393\n",
      "           5       0.66      0.71      0.68      1188\n",
      "           6       0.00      0.00      0.00         3\n",
      "           7       0.32      0.18      0.23        68\n",
      "           8       0.84      0.76      0.80       188\n",
      "           9       0.00      0.00      0.00        10\n",
      "\n",
      "    accuracy                           0.67      4209\n",
      "   macro avg       0.45      0.41      0.42      4209\n",
      "weighted avg       0.65      0.67      0.66      4209\n",
      "\n"
     ]
    },
    {
     "name": "stderr",
     "output_type": "stream",
     "text": [
      "/usr/local/lib/python3.10/dist-packages/sklearn/metrics/_classification.py:1344: UndefinedMetricWarning: Precision and F-score are ill-defined and being set to 0.0 in labels with no predicted samples. Use `zero_division` parameter to control this behavior.\n",
      "  _warn_prf(average, modifier, msg_start, len(result))\n",
      "/usr/local/lib/python3.10/dist-packages/sklearn/metrics/_classification.py:1344: UndefinedMetricWarning: Precision and F-score are ill-defined and being set to 0.0 in labels with no predicted samples. Use `zero_division` parameter to control this behavior.\n",
      "  _warn_prf(average, modifier, msg_start, len(result))\n",
      "/usr/local/lib/python3.10/dist-packages/sklearn/metrics/_classification.py:1344: UndefinedMetricWarning: Precision and F-score are ill-defined and being set to 0.0 in labels with no predicted samples. Use `zero_division` parameter to control this behavior.\n",
      "  _warn_prf(average, modifier, msg_start, len(result))\n"
     ]
    }
   ],
   "source": [
    "df = dataset\n",
    "\n",
    "# Splitting data into features (text) and labels\n",
    "X = df['normalized_text_new']\n",
    "\n",
    "# Convert boolean labels to numeric format using LabelEncoder\n",
    "from sklearn.preprocessing import LabelEncoder\n",
    "label_encoder = LabelEncoder()\n",
    "y = label_encoder.fit_transform(df['news_agency'])\n",
    "\n",
    "# Convert the target variable to one-hot encoded format\n",
    "y_onehot = to_categorical(y, num_classes=10)\n",
    "\n",
    "# Train Word2Vec model on the text data\n",
    "word2vec_model = Word2Vec(sentences=X.apply(lambda x: x.split()), vector_size=10, window=5, min_count=1, sg=0)\n",
    "\n",
    "# Create an embedding matrix\n",
    "embedding_matrix = word2vec_model.wv.vectors\n",
    "embedding_dim = embedding_matrix.shape[1]\n",
    "\n",
    "# Tokenize text and convert to sequences\n",
    "# max_features = 1000\n",
    "# tokenizer = Tokenizer(num_words=max_features)\n",
    "tokenizer = Tokenizer()\n",
    "tokenizer.fit_on_texts(X)\n",
    "X_seq = tokenizer.texts_to_sequences(X)\n",
    "\n",
    "# Pad sequences to make them of equal length (optional, but necessary for neural networks)\n",
    "max_sequence_length = max(len(seq) for seq in X_seq)\n",
    "X_padded = pad_sequences(X_seq, maxlen=max_sequence_length)\n",
    "\n",
    "# Splitting the data into training and testing sets\n",
    "X_train, X_test, y_train, y_test = train_test_split(X_padded, y_onehot, test_size=0.2, random_state=42)\n",
    "\n",
    "# Building the neural network\n",
    "model = Sequential()\n",
    "model.add(Embedding(input_dim = len(tokenizer.word_index) + 1, output_dim=embedding_dim, input_length=max_sequence_length))\n",
    "model.add(Flatten())\n",
    "model.add(Dense(64, activation='relu'))\n",
    "model.add(Dense(10, activation='softmax'))  # Output layer with 10 units for 10 classes\n",
    "\n",
    "# Compile the model\n",
    "model.compile(loss='categorical_crossentropy', optimizer='adam', metrics=['accuracy'])\n",
    "\n",
    "# Train the model\n",
    "model.fit(X_train, y_train, epochs=5, batch_size=32, validation_data=(X_test, y_test))\n",
    "\n",
    "# Evaluate the model on the test data\n",
    "y_pred_onehot = model.predict(X_test)\n",
    "y_pred = y_pred_onehot.argmax(axis=1)  # Convert one-hot encoded predictions to class labels\n",
    "\n",
    "# Accuracy\n",
    "accuracy = accuracy_score(y_test.argmax(axis=1), y_pred)\n",
    "print(\"Accuracy: {:.2f}%\".format(accuracy * 100))\n",
    "\n",
    "# Confusion Matrix\n",
    "conf_matrix = confusion_matrix(y_test.argmax(axis=1), y_pred)\n",
    "print(\"Confusion Matrix:\")\n",
    "print(conf_matrix)\n",
    "\n",
    "# Classification Report\n",
    "class_report = classification_report(y_test.argmax(axis=1), y_pred)\n",
    "print(\"Classification Report:\")\n",
    "print(class_report)\n"
   ]
  },
  {
   "cell_type": "code",
   "execution_count": 23,
   "id": "YFM9DJgF5CGw",
   "metadata": {
    "colab": {
     "base_uri": "https://localhost:8080/"
    },
    "executionInfo": {
     "elapsed": 11451,
     "status": "ok",
     "timestamp": 1690027204985,
     "user": {
      "displayName": "Thilina Jayasinghe",
      "userId": "04972212134470764724"
     },
     "user_tz": -330
    },
    "id": "YFM9DJgF5CGw",
    "outputId": "c5f83e97-14cb-40a8-cb68-a1a4ad8de370"
   },
   "outputs": [
    {
     "name": "stdout",
     "output_type": "stream",
     "text": [
      "Collecting transformers\n",
      "  Downloading transformers-4.31.0-py3-none-any.whl (7.4 MB)\n",
      "\u001b[2K     \u001b[90m━━━━━━━━━━━━━━━━━━━━━━━━━━━━━━━━━━━━━━━━\u001b[0m \u001b[32m7.4/7.4 MB\u001b[0m \u001b[31m30.2 MB/s\u001b[0m eta \u001b[36m0:00:00\u001b[0m\n",
      "\u001b[?25hRequirement already satisfied: filelock in /usr/local/lib/python3.10/dist-packages (from transformers) (3.12.2)\n",
      "Collecting huggingface-hub<1.0,>=0.14.1 (from transformers)\n",
      "  Downloading huggingface_hub-0.16.4-py3-none-any.whl (268 kB)\n",
      "\u001b[2K     \u001b[90m━━━━━━━━━━━━━━━━━━━━━━━━━━━━━━━━━━━━━━\u001b[0m \u001b[32m268.8/268.8 kB\u001b[0m \u001b[31m25.5 MB/s\u001b[0m eta \u001b[36m0:00:00\u001b[0m\n",
      "\u001b[?25hRequirement already satisfied: numpy>=1.17 in /usr/local/lib/python3.10/dist-packages (from transformers) (1.22.4)\n",
      "Requirement already satisfied: packaging>=20.0 in /usr/local/lib/python3.10/dist-packages (from transformers) (23.1)\n",
      "Requirement already satisfied: pyyaml>=5.1 in /usr/local/lib/python3.10/dist-packages (from transformers) (6.0.1)\n",
      "Requirement already satisfied: regex!=2019.12.17 in /usr/local/lib/python3.10/dist-packages (from transformers) (2022.10.31)\n",
      "Requirement already satisfied: requests in /usr/local/lib/python3.10/dist-packages (from transformers) (2.27.1)\n",
      "Collecting tokenizers!=0.11.3,<0.14,>=0.11.1 (from transformers)\n",
      "  Downloading tokenizers-0.13.3-cp310-cp310-manylinux_2_17_x86_64.manylinux2014_x86_64.whl (7.8 MB)\n",
      "\u001b[2K     \u001b[90m━━━━━━━━━━━━━━━━━━━━━━━━━━━━━━━━━━━━━━━━\u001b[0m \u001b[32m7.8/7.8 MB\u001b[0m \u001b[31m87.5 MB/s\u001b[0m eta \u001b[36m0:00:00\u001b[0m\n",
      "\u001b[?25hCollecting safetensors>=0.3.1 (from transformers)\n",
      "  Downloading safetensors-0.3.1-cp310-cp310-manylinux_2_17_x86_64.manylinux2014_x86_64.whl (1.3 MB)\n",
      "\u001b[2K     \u001b[90m━━━━━━━━━━━━━━━━━━━━━━━━━━━━━━━━━━━━━━━━\u001b[0m \u001b[32m1.3/1.3 MB\u001b[0m \u001b[31m75.5 MB/s\u001b[0m eta \u001b[36m0:00:00\u001b[0m\n",
      "\u001b[?25hRequirement already satisfied: tqdm>=4.27 in /usr/local/lib/python3.10/dist-packages (from transformers) (4.65.0)\n",
      "Requirement already satisfied: fsspec in /usr/local/lib/python3.10/dist-packages (from huggingface-hub<1.0,>=0.14.1->transformers) (2023.6.0)\n",
      "Requirement already satisfied: typing-extensions>=3.7.4.3 in /usr/local/lib/python3.10/dist-packages (from huggingface-hub<1.0,>=0.14.1->transformers) (4.7.1)\n",
      "Requirement already satisfied: urllib3<1.27,>=1.21.1 in /usr/local/lib/python3.10/dist-packages (from requests->transformers) (1.26.16)\n",
      "Requirement already satisfied: certifi>=2017.4.17 in /usr/local/lib/python3.10/dist-packages (from requests->transformers) (2023.5.7)\n",
      "Requirement already satisfied: charset-normalizer~=2.0.0 in /usr/local/lib/python3.10/dist-packages (from requests->transformers) (2.0.12)\n",
      "Requirement already satisfied: idna<4,>=2.5 in /usr/local/lib/python3.10/dist-packages (from requests->transformers) (3.4)\n",
      "Installing collected packages: tokenizers, safetensors, huggingface-hub, transformers\n",
      "Successfully installed huggingface-hub-0.16.4 safetensors-0.3.1 tokenizers-0.13.3 transformers-4.31.0\n"
     ]
    }
   ],
   "source": [
    "pip install transformers"
   ]
  },
  {
   "cell_type": "markdown",
   "id": "QA7amnWa-2ae",
   "metadata": {
    "id": "QA7amnWa-2ae"
   },
   "source": [
    "### ***DistilBERT Model (Contexual Model)***"
   ]
  },
  {
   "cell_type": "markdown",
   "id": "6fZclJtb_O6u",
   "metadata": {
    "id": "6fZclJtb_O6u"
   },
   "source": [
    "This model took so much of time to train. Therefore, I have used just only 1 epoch to train the model. But, I'm sure that, we can get a better result if we can run more epochs"
   ]
  },
  {
   "cell_type": "code",
   "execution_count": 24,
   "id": "w3YpY3WB4YGi",
   "metadata": {
    "colab": {
     "base_uri": "https://localhost:8080/",
     "height": 272,
     "referenced_widgets": [
      "e2b2eb6f401e4a6c94edea695f7f3674",
      "adbef7bef8144a1cbf607e39e376fdb1",
      "1faa64a441c642c0add16cd92edef8db",
      "254eba958cc04d8b853bfe1b12c59871",
      "c4211070f992451c940a62277adedc2d",
      "2b60a990c3ae4173bd5795187a5b1023",
      "9900c8f77bb9437ebc2216e1b0489dec",
      "33773c43191247ceba2673d0720b939c",
      "748ac2b88ffa447d9c2f6f327ccad0cb",
      "2b54ac676369455eb4ac06b81286f1be",
      "51a9183ed2d046f59abd42799ea29ca4",
      "fd089aa331324940a82b166d56368f5f",
      "735530870deb46df8f62a5104b434d9d",
      "774a5ee719b34d71b5a1548d646f0f20",
      "1dc55361b43a485480cd4a3b1380a3da",
      "4fdd42e2dc864617a790600c4f02ac15",
      "034aa24481054d898d3939de1fcd9c72",
      "c354bde78b8b44bc97536cbf205079fd",
      "4297df9fb86c4deaa162967e4c8f4695",
      "200b3b0113f7450db07a4e33edd4594a",
      "2dcabae77943409f9ce0343e2fda0a5d",
      "37a57c342a8d4a6a9feaf7a1776de846",
      "d61cd0ae102e410ca8ca365b335ae70a",
      "96f560d893054b5eb24e9a0ccda25d7c",
      "5b2723a3ab30445093770038e6e67cb0",
      "814318ab71a142819afb5e2e673a3059",
      "450b28946ba541a49f024cc92ba3d5af",
      "657b2a55556d407387dab1937a00f566",
      "de9e7410899a4ffc8d2384cc516c70ed",
      "81d6fadd56ac4e3bacfa6bdf9eb6fb83",
      "02f5aac3ba5945058bbdc563b44fdced",
      "4b787b3a8b214e64aecac618a827f150",
      "18ef24f0c6084a34ad91d7473620045b",
      "d3bd15145040480bbd466a4fd20ebfb2",
      "0488395d608f4d4584fe51754b1a79ad",
      "990ebe15ee5c44f28472bedb6b19c440",
      "8655cfc94b7d43bda0db891f4c09ca61",
      "3bc6491465664aaa967cecb54bd0e87b",
      "356f15019392489d82e9ca5cb9bac0a6",
      "8539a5b0322040a58c9722f7b95d36e3",
      "de1f2c9ef9b544a5889b7982d09376b8",
      "05a8eddb179d4c47b1ea802c933f6160",
      "6048833f662d4d01898e9ecceea5b864",
      "7c8731d30c3245829d46ef583f7bd2c8"
     ]
    },
    "executionInfo": {
     "elapsed": 951030,
     "status": "ok",
     "timestamp": 1690028156012,
     "user": {
      "displayName": "Thilina Jayasinghe",
      "userId": "04972212134470764724"
     },
     "user_tz": -330
    },
    "id": "w3YpY3WB4YGi",
    "outputId": "eca3c1de-4872-447c-a88d-64b91fe184d2"
   },
   "outputs": [
    {
     "data": {
      "application/vnd.jupyter.widget-view+json": {
       "model_id": "e2b2eb6f401e4a6c94edea695f7f3674",
       "version_major": 2,
       "version_minor": 0
      },
      "text/plain": [
       "Downloading (…)solve/main/vocab.txt:   0%|          | 0.00/232k [00:00<?, ?B/s]"
      ]
     },
     "metadata": {},
     "output_type": "display_data"
    },
    {
     "data": {
      "application/vnd.jupyter.widget-view+json": {
       "model_id": "fd089aa331324940a82b166d56368f5f",
       "version_major": 2,
       "version_minor": 0
      },
      "text/plain": [
       "Downloading (…)okenizer_config.json:   0%|          | 0.00/28.0 [00:00<?, ?B/s]"
      ]
     },
     "metadata": {},
     "output_type": "display_data"
    },
    {
     "data": {
      "application/vnd.jupyter.widget-view+json": {
       "model_id": "d61cd0ae102e410ca8ca365b335ae70a",
       "version_major": 2,
       "version_minor": 0
      },
      "text/plain": [
       "Downloading (…)lve/main/config.json:   0%|          | 0.00/483 [00:00<?, ?B/s]"
      ]
     },
     "metadata": {},
     "output_type": "display_data"
    },
    {
     "data": {
      "application/vnd.jupyter.widget-view+json": {
       "model_id": "d3bd15145040480bbd466a4fd20ebfb2",
       "version_major": 2,
       "version_minor": 0
      },
      "text/plain": [
       "Downloading model.safetensors:   0%|          | 0.00/268M [00:00<?, ?B/s]"
      ]
     },
     "metadata": {},
     "output_type": "display_data"
    },
    {
     "name": "stderr",
     "output_type": "stream",
     "text": [
      "Some weights of DistilBertForSequenceClassification were not initialized from the model checkpoint at distilbert-base-uncased and are newly initialized: ['pre_classifier.weight', 'pre_classifier.bias', 'classifier.bias', 'classifier.weight']\n",
      "You should probably TRAIN this model on a down-stream task to be able to use it for predictions and inference.\n",
      "/usr/local/lib/python3.10/dist-packages/transformers/optimization.py:411: FutureWarning: This implementation of AdamW is deprecated and will be removed in a future version. Use the PyTorch implementation torch.optim.AdamW instead, or set `no_deprecation_warning=True` to disable this warning\n",
      "  warnings.warn(\n"
     ]
    },
    {
     "name": "stdout",
     "output_type": "stream",
     "text": [
      "Epoch 1/1, Training loss: 1.086475540925408, Training Accuracy: 0.6152064152064152\n",
      "Validation Accuracy: 0.7386552625326681\n"
     ]
    }
   ],
   "source": [
    "import torch\n",
    "from transformers import DistilBertTokenizer, DistilBertForSequenceClassification, AdamW\n",
    "from torch.utils.data import DataLoader, TensorDataset, random_split\n",
    "from torch.nn import CrossEntropyLoss\n",
    "from sklearn.model_selection import train_test_split\n",
    "import pandas as pd\n",
    "\n",
    "# Load the dataset\n",
    "df = dataset\n",
    "\n",
    "# Split data into training and validation sets\n",
    "train_texts, val_texts, train_labels, val_labels = train_test_split(df['normalized_text_new'], df['news_agency'], test_size=0.2, random_state=42)\n",
    "\n",
    "# Convert labels to integers (required for PyTorch)\n",
    "label2id = {label: i for i, label in enumerate(df['news_agency'].unique())}\n",
    "train_labels = train_labels.map(label2id)\n",
    "val_labels = val_labels.map(label2id)\n",
    "\n",
    "# Load the DistilBERT tokenizer\n",
    "tokenizer = DistilBertTokenizer.from_pretrained('distilbert-base-uncased')\n",
    "\n",
    "# Tokenize the input texts\n",
    "train_encodings = tokenizer(list(train_texts), truncation=True, padding=True, return_tensors='pt')\n",
    "val_encodings = tokenizer(list(val_texts), truncation=True, padding=True, return_tensors='pt')\n",
    "\n",
    "# Create PyTorch DataLoader for training and validation data\n",
    "train_dataset = TensorDataset(train_encodings['input_ids'], train_encodings['attention_mask'], torch.tensor(train_labels.values))\n",
    "val_dataset = TensorDataset(val_encodings['input_ids'], val_encodings['attention_mask'], torch.tensor(val_labels.values))\n",
    "\n",
    "train_dataloader = DataLoader(train_dataset, shuffle=True, batch_size=16)\n",
    "val_dataloader = DataLoader(val_dataset, batch_size=16)\n",
    "\n",
    "# Load the DistilBERT model for sequence classification\n",
    "model = DistilBertForSequenceClassification.from_pretrained('distilbert-base-uncased', num_labels=len(label2id))\n",
    "\n",
    "# Use GPU if available\n",
    "device = torch.device(\"cuda\" if torch.cuda.is_available() else \"cpu\")\n",
    "model.to(device)\n",
    "\n",
    "# Initialize optimizer and loss function\n",
    "optimizer = AdamW(model.parameters(), lr=2e-5)\n",
    "loss_fn = CrossEntropyLoss()\n",
    "\n",
    "# Training loop\n",
    "num_epochs = 1\n",
    "\n",
    "for epoch in range(num_epochs):\n",
    "    model.train()\n",
    "    total_loss = 0\n",
    "    total_correct = 0\n",
    "    total_samples = 0\n",
    "\n",
    "    for batch in train_dataloader:\n",
    "        batch = tuple(t.to(device) for t in batch)\n",
    "        inputs = {'input_ids': batch[0], 'attention_mask': batch[1], 'labels': batch[2]}\n",
    "        optimizer.zero_grad()\n",
    "        outputs = model(**inputs)\n",
    "        loss = outputs.loss\n",
    "        total_loss += loss.item()\n",
    "\n",
    "        logits = outputs.logits\n",
    "        preds = torch.argmax(logits, dim=1)\n",
    "        total_correct += torch.sum(preds == batch[2]).item()\n",
    "        total_samples += len(preds)\n",
    "\n",
    "        loss.backward()\n",
    "        optimizer.step()\n",
    "\n",
    "    avg_train_loss = total_loss / len(train_dataloader)\n",
    "    train_accuracy = total_correct / total_samples\n",
    "    print(f\"Epoch {epoch+1}/{num_epochs}, Training loss: {avg_train_loss}, Training Accuracy: {train_accuracy}\")\n",
    "\n",
    "# Evaluation loop\n",
    "model.eval()\n",
    "total_correct = 0\n",
    "total_samples = 0\n",
    "\n",
    "for batch in val_dataloader:\n",
    "    batch = tuple(t.to(device) for t in batch)\n",
    "    inputs = {'input_ids': batch[0], 'attention_mask': batch[1], 'labels': batch[2]}\n",
    "    with torch.no_grad():\n",
    "        outputs = model(**inputs)\n",
    "    logits = outputs.logits\n",
    "    preds = torch.argmax(logits, dim=1)\n",
    "    total_correct += torch.sum(preds == batch[2]).item()\n",
    "    total_samples += len(preds)\n",
    "\n",
    "val_accuracy = total_correct / total_samples\n",
    "print(f\"Validation Accuracy: {val_accuracy}\")\n"
   ]
  },
  {
   "cell_type": "markdown",
   "id": "GZ-N3BlrtdvW",
   "metadata": {
    "id": "GZ-N3BlrtdvW"
   },
   "source": [
    "### **Conclusion: Based on the results above, it's clear that DistilBERT models perform better than the other ML and deep learning models. So, let's choose the DistilBERT as our final choice.**"
   ]
  }
 ],
 "metadata": {
  "accelerator": "GPU",
  "colab": {
   "gpuType": "T4",
   "provenance": []
  },
  "kernelspec": {
   "display_name": "Python 3",
   "name": "python3"
  },
  "language_info": {
   "codemirror_mode": {
    "name": "ipython",
    "version": 3
   },
   "file_extension": ".py",
   "mimetype": "text/x-python",
   "name": "python",
   "nbconvert_exporter": "python",
   "pygments_lexer": "ipython3",
   "version": "3.8.8"
  },
  "widgets": {
   "application/vnd.jupyter.widget-state+json": {
    "02f5aac3ba5945058bbdc563b44fdced": {
     "model_module": "@jupyter-widgets/controls",
     "model_module_version": "1.5.0",
     "model_name": "ProgressStyleModel",
     "state": {
      "_model_module": "@jupyter-widgets/controls",
      "_model_module_version": "1.5.0",
      "_model_name": "ProgressStyleModel",
      "_view_count": null,
      "_view_module": "@jupyter-widgets/base",
      "_view_module_version": "1.2.0",
      "_view_name": "StyleView",
      "bar_color": null,
      "description_width": ""
     }
    },
    "034aa24481054d898d3939de1fcd9c72": {
     "model_module": "@jupyter-widgets/base",
     "model_module_version": "1.2.0",
     "model_name": "LayoutModel",
     "state": {
      "_model_module": "@jupyter-widgets/base",
      "_model_module_version": "1.2.0",
      "_model_name": "LayoutModel",
      "_view_count": null,
      "_view_module": "@jupyter-widgets/base",
      "_view_module_version": "1.2.0",
      "_view_name": "LayoutView",
      "align_content": null,
      "align_items": null,
      "align_self": null,
      "border": null,
      "bottom": null,
      "display": null,
      "flex": null,
      "flex_flow": null,
      "grid_area": null,
      "grid_auto_columns": null,
      "grid_auto_flow": null,
      "grid_auto_rows": null,
      "grid_column": null,
      "grid_gap": null,
      "grid_row": null,
      "grid_template_areas": null,
      "grid_template_columns": null,
      "grid_template_rows": null,
      "height": null,
      "justify_content": null,
      "justify_items": null,
      "left": null,
      "margin": null,
      "max_height": null,
      "max_width": null,
      "min_height": null,
      "min_width": null,
      "object_fit": null,
      "object_position": null,
      "order": null,
      "overflow": null,
      "overflow_x": null,
      "overflow_y": null,
      "padding": null,
      "right": null,
      "top": null,
      "visibility": null,
      "width": null
     }
    },
    "0488395d608f4d4584fe51754b1a79ad": {
     "model_module": "@jupyter-widgets/controls",
     "model_module_version": "1.5.0",
     "model_name": "HTMLModel",
     "state": {
      "_dom_classes": [],
      "_model_module": "@jupyter-widgets/controls",
      "_model_module_version": "1.5.0",
      "_model_name": "HTMLModel",
      "_view_count": null,
      "_view_module": "@jupyter-widgets/controls",
      "_view_module_version": "1.5.0",
      "_view_name": "HTMLView",
      "description": "",
      "description_tooltip": null,
      "layout": "IPY_MODEL_356f15019392489d82e9ca5cb9bac0a6",
      "placeholder": "​",
      "style": "IPY_MODEL_8539a5b0322040a58c9722f7b95d36e3",
      "value": "Downloading model.safetensors: 100%"
     }
    },
    "05a8eddb179d4c47b1ea802c933f6160": {
     "model_module": "@jupyter-widgets/controls",
     "model_module_version": "1.5.0",
     "model_name": "ProgressStyleModel",
     "state": {
      "_model_module": "@jupyter-widgets/controls",
      "_model_module_version": "1.5.0",
      "_model_name": "ProgressStyleModel",
      "_view_count": null,
      "_view_module": "@jupyter-widgets/base",
      "_view_module_version": "1.2.0",
      "_view_name": "StyleView",
      "bar_color": null,
      "description_width": ""
     }
    },
    "18ef24f0c6084a34ad91d7473620045b": {
     "model_module": "@jupyter-widgets/controls",
     "model_module_version": "1.5.0",
     "model_name": "DescriptionStyleModel",
     "state": {
      "_model_module": "@jupyter-widgets/controls",
      "_model_module_version": "1.5.0",
      "_model_name": "DescriptionStyleModel",
      "_view_count": null,
      "_view_module": "@jupyter-widgets/base",
      "_view_module_version": "1.2.0",
      "_view_name": "StyleView",
      "description_width": ""
     }
    },
    "1dc55361b43a485480cd4a3b1380a3da": {
     "model_module": "@jupyter-widgets/controls",
     "model_module_version": "1.5.0",
     "model_name": "HTMLModel",
     "state": {
      "_dom_classes": [],
      "_model_module": "@jupyter-widgets/controls",
      "_model_module_version": "1.5.0",
      "_model_name": "HTMLModel",
      "_view_count": null,
      "_view_module": "@jupyter-widgets/controls",
      "_view_module_version": "1.5.0",
      "_view_name": "HTMLView",
      "description": "",
      "description_tooltip": null,
      "layout": "IPY_MODEL_2dcabae77943409f9ce0343e2fda0a5d",
      "placeholder": "​",
      "style": "IPY_MODEL_37a57c342a8d4a6a9feaf7a1776de846",
      "value": " 28.0/28.0 [00:00&lt;00:00, 1.13kB/s]"
     }
    },
    "1faa64a441c642c0add16cd92edef8db": {
     "model_module": "@jupyter-widgets/controls",
     "model_module_version": "1.5.0",
     "model_name": "FloatProgressModel",
     "state": {
      "_dom_classes": [],
      "_model_module": "@jupyter-widgets/controls",
      "_model_module_version": "1.5.0",
      "_model_name": "FloatProgressModel",
      "_view_count": null,
      "_view_module": "@jupyter-widgets/controls",
      "_view_module_version": "1.5.0",
      "_view_name": "ProgressView",
      "bar_style": "success",
      "description": "",
      "description_tooltip": null,
      "layout": "IPY_MODEL_33773c43191247ceba2673d0720b939c",
      "max": 231508,
      "min": 0,
      "orientation": "horizontal",
      "style": "IPY_MODEL_748ac2b88ffa447d9c2f6f327ccad0cb",
      "value": 231508
     }
    },
    "200b3b0113f7450db07a4e33edd4594a": {
     "model_module": "@jupyter-widgets/controls",
     "model_module_version": "1.5.0",
     "model_name": "ProgressStyleModel",
     "state": {
      "_model_module": "@jupyter-widgets/controls",
      "_model_module_version": "1.5.0",
      "_model_name": "ProgressStyleModel",
      "_view_count": null,
      "_view_module": "@jupyter-widgets/base",
      "_view_module_version": "1.2.0",
      "_view_name": "StyleView",
      "bar_color": null,
      "description_width": ""
     }
    },
    "254eba958cc04d8b853bfe1b12c59871": {
     "model_module": "@jupyter-widgets/controls",
     "model_module_version": "1.5.0",
     "model_name": "HTMLModel",
     "state": {
      "_dom_classes": [],
      "_model_module": "@jupyter-widgets/controls",
      "_model_module_version": "1.5.0",
      "_model_name": "HTMLModel",
      "_view_count": null,
      "_view_module": "@jupyter-widgets/controls",
      "_view_module_version": "1.5.0",
      "_view_name": "HTMLView",
      "description": "",
      "description_tooltip": null,
      "layout": "IPY_MODEL_2b54ac676369455eb4ac06b81286f1be",
      "placeholder": "​",
      "style": "IPY_MODEL_51a9183ed2d046f59abd42799ea29ca4",
      "value": " 232k/232k [00:00&lt;00:00, 1.43MB/s]"
     }
    },
    "2b54ac676369455eb4ac06b81286f1be": {
     "model_module": "@jupyter-widgets/base",
     "model_module_version": "1.2.0",
     "model_name": "LayoutModel",
     "state": {
      "_model_module": "@jupyter-widgets/base",
      "_model_module_version": "1.2.0",
      "_model_name": "LayoutModel",
      "_view_count": null,
      "_view_module": "@jupyter-widgets/base",
      "_view_module_version": "1.2.0",
      "_view_name": "LayoutView",
      "align_content": null,
      "align_items": null,
      "align_self": null,
      "border": null,
      "bottom": null,
      "display": null,
      "flex": null,
      "flex_flow": null,
      "grid_area": null,
      "grid_auto_columns": null,
      "grid_auto_flow": null,
      "grid_auto_rows": null,
      "grid_column": null,
      "grid_gap": null,
      "grid_row": null,
      "grid_template_areas": null,
      "grid_template_columns": null,
      "grid_template_rows": null,
      "height": null,
      "justify_content": null,
      "justify_items": null,
      "left": null,
      "margin": null,
      "max_height": null,
      "max_width": null,
      "min_height": null,
      "min_width": null,
      "object_fit": null,
      "object_position": null,
      "order": null,
      "overflow": null,
      "overflow_x": null,
      "overflow_y": null,
      "padding": null,
      "right": null,
      "top": null,
      "visibility": null,
      "width": null
     }
    },
    "2b60a990c3ae4173bd5795187a5b1023": {
     "model_module": "@jupyter-widgets/base",
     "model_module_version": "1.2.0",
     "model_name": "LayoutModel",
     "state": {
      "_model_module": "@jupyter-widgets/base",
      "_model_module_version": "1.2.0",
      "_model_name": "LayoutModel",
      "_view_count": null,
      "_view_module": "@jupyter-widgets/base",
      "_view_module_version": "1.2.0",
      "_view_name": "LayoutView",
      "align_content": null,
      "align_items": null,
      "align_self": null,
      "border": null,
      "bottom": null,
      "display": null,
      "flex": null,
      "flex_flow": null,
      "grid_area": null,
      "grid_auto_columns": null,
      "grid_auto_flow": null,
      "grid_auto_rows": null,
      "grid_column": null,
      "grid_gap": null,
      "grid_row": null,
      "grid_template_areas": null,
      "grid_template_columns": null,
      "grid_template_rows": null,
      "height": null,
      "justify_content": null,
      "justify_items": null,
      "left": null,
      "margin": null,
      "max_height": null,
      "max_width": null,
      "min_height": null,
      "min_width": null,
      "object_fit": null,
      "object_position": null,
      "order": null,
      "overflow": null,
      "overflow_x": null,
      "overflow_y": null,
      "padding": null,
      "right": null,
      "top": null,
      "visibility": null,
      "width": null
     }
    },
    "2dcabae77943409f9ce0343e2fda0a5d": {
     "model_module": "@jupyter-widgets/base",
     "model_module_version": "1.2.0",
     "model_name": "LayoutModel",
     "state": {
      "_model_module": "@jupyter-widgets/base",
      "_model_module_version": "1.2.0",
      "_model_name": "LayoutModel",
      "_view_count": null,
      "_view_module": "@jupyter-widgets/base",
      "_view_module_version": "1.2.0",
      "_view_name": "LayoutView",
      "align_content": null,
      "align_items": null,
      "align_self": null,
      "border": null,
      "bottom": null,
      "display": null,
      "flex": null,
      "flex_flow": null,
      "grid_area": null,
      "grid_auto_columns": null,
      "grid_auto_flow": null,
      "grid_auto_rows": null,
      "grid_column": null,
      "grid_gap": null,
      "grid_row": null,
      "grid_template_areas": null,
      "grid_template_columns": null,
      "grid_template_rows": null,
      "height": null,
      "justify_content": null,
      "justify_items": null,
      "left": null,
      "margin": null,
      "max_height": null,
      "max_width": null,
      "min_height": null,
      "min_width": null,
      "object_fit": null,
      "object_position": null,
      "order": null,
      "overflow": null,
      "overflow_x": null,
      "overflow_y": null,
      "padding": null,
      "right": null,
      "top": null,
      "visibility": null,
      "width": null
     }
    },
    "33773c43191247ceba2673d0720b939c": {
     "model_module": "@jupyter-widgets/base",
     "model_module_version": "1.2.0",
     "model_name": "LayoutModel",
     "state": {
      "_model_module": "@jupyter-widgets/base",
      "_model_module_version": "1.2.0",
      "_model_name": "LayoutModel",
      "_view_count": null,
      "_view_module": "@jupyter-widgets/base",
      "_view_module_version": "1.2.0",
      "_view_name": "LayoutView",
      "align_content": null,
      "align_items": null,
      "align_self": null,
      "border": null,
      "bottom": null,
      "display": null,
      "flex": null,
      "flex_flow": null,
      "grid_area": null,
      "grid_auto_columns": null,
      "grid_auto_flow": null,
      "grid_auto_rows": null,
      "grid_column": null,
      "grid_gap": null,
      "grid_row": null,
      "grid_template_areas": null,
      "grid_template_columns": null,
      "grid_template_rows": null,
      "height": null,
      "justify_content": null,
      "justify_items": null,
      "left": null,
      "margin": null,
      "max_height": null,
      "max_width": null,
      "min_height": null,
      "min_width": null,
      "object_fit": null,
      "object_position": null,
      "order": null,
      "overflow": null,
      "overflow_x": null,
      "overflow_y": null,
      "padding": null,
      "right": null,
      "top": null,
      "visibility": null,
      "width": null
     }
    },
    "356f15019392489d82e9ca5cb9bac0a6": {
     "model_module": "@jupyter-widgets/base",
     "model_module_version": "1.2.0",
     "model_name": "LayoutModel",
     "state": {
      "_model_module": "@jupyter-widgets/base",
      "_model_module_version": "1.2.0",
      "_model_name": "LayoutModel",
      "_view_count": null,
      "_view_module": "@jupyter-widgets/base",
      "_view_module_version": "1.2.0",
      "_view_name": "LayoutView",
      "align_content": null,
      "align_items": null,
      "align_self": null,
      "border": null,
      "bottom": null,
      "display": null,
      "flex": null,
      "flex_flow": null,
      "grid_area": null,
      "grid_auto_columns": null,
      "grid_auto_flow": null,
      "grid_auto_rows": null,
      "grid_column": null,
      "grid_gap": null,
      "grid_row": null,
      "grid_template_areas": null,
      "grid_template_columns": null,
      "grid_template_rows": null,
      "height": null,
      "justify_content": null,
      "justify_items": null,
      "left": null,
      "margin": null,
      "max_height": null,
      "max_width": null,
      "min_height": null,
      "min_width": null,
      "object_fit": null,
      "object_position": null,
      "order": null,
      "overflow": null,
      "overflow_x": null,
      "overflow_y": null,
      "padding": null,
      "right": null,
      "top": null,
      "visibility": null,
      "width": null
     }
    },
    "37a57c342a8d4a6a9feaf7a1776de846": {
     "model_module": "@jupyter-widgets/controls",
     "model_module_version": "1.5.0",
     "model_name": "DescriptionStyleModel",
     "state": {
      "_model_module": "@jupyter-widgets/controls",
      "_model_module_version": "1.5.0",
      "_model_name": "DescriptionStyleModel",
      "_view_count": null,
      "_view_module": "@jupyter-widgets/base",
      "_view_module_version": "1.2.0",
      "_view_name": "StyleView",
      "description_width": ""
     }
    },
    "3bc6491465664aaa967cecb54bd0e87b": {
     "model_module": "@jupyter-widgets/base",
     "model_module_version": "1.2.0",
     "model_name": "LayoutModel",
     "state": {
      "_model_module": "@jupyter-widgets/base",
      "_model_module_version": "1.2.0",
      "_model_name": "LayoutModel",
      "_view_count": null,
      "_view_module": "@jupyter-widgets/base",
      "_view_module_version": "1.2.0",
      "_view_name": "LayoutView",
      "align_content": null,
      "align_items": null,
      "align_self": null,
      "border": null,
      "bottom": null,
      "display": null,
      "flex": null,
      "flex_flow": null,
      "grid_area": null,
      "grid_auto_columns": null,
      "grid_auto_flow": null,
      "grid_auto_rows": null,
      "grid_column": null,
      "grid_gap": null,
      "grid_row": null,
      "grid_template_areas": null,
      "grid_template_columns": null,
      "grid_template_rows": null,
      "height": null,
      "justify_content": null,
      "justify_items": null,
      "left": null,
      "margin": null,
      "max_height": null,
      "max_width": null,
      "min_height": null,
      "min_width": null,
      "object_fit": null,
      "object_position": null,
      "order": null,
      "overflow": null,
      "overflow_x": null,
      "overflow_y": null,
      "padding": null,
      "right": null,
      "top": null,
      "visibility": null,
      "width": null
     }
    },
    "4297df9fb86c4deaa162967e4c8f4695": {
     "model_module": "@jupyter-widgets/base",
     "model_module_version": "1.2.0",
     "model_name": "LayoutModel",
     "state": {
      "_model_module": "@jupyter-widgets/base",
      "_model_module_version": "1.2.0",
      "_model_name": "LayoutModel",
      "_view_count": null,
      "_view_module": "@jupyter-widgets/base",
      "_view_module_version": "1.2.0",
      "_view_name": "LayoutView",
      "align_content": null,
      "align_items": null,
      "align_self": null,
      "border": null,
      "bottom": null,
      "display": null,
      "flex": null,
      "flex_flow": null,
      "grid_area": null,
      "grid_auto_columns": null,
      "grid_auto_flow": null,
      "grid_auto_rows": null,
      "grid_column": null,
      "grid_gap": null,
      "grid_row": null,
      "grid_template_areas": null,
      "grid_template_columns": null,
      "grid_template_rows": null,
      "height": null,
      "justify_content": null,
      "justify_items": null,
      "left": null,
      "margin": null,
      "max_height": null,
      "max_width": null,
      "min_height": null,
      "min_width": null,
      "object_fit": null,
      "object_position": null,
      "order": null,
      "overflow": null,
      "overflow_x": null,
      "overflow_y": null,
      "padding": null,
      "right": null,
      "top": null,
      "visibility": null,
      "width": null
     }
    },
    "450b28946ba541a49f024cc92ba3d5af": {
     "model_module": "@jupyter-widgets/base",
     "model_module_version": "1.2.0",
     "model_name": "LayoutModel",
     "state": {
      "_model_module": "@jupyter-widgets/base",
      "_model_module_version": "1.2.0",
      "_model_name": "LayoutModel",
      "_view_count": null,
      "_view_module": "@jupyter-widgets/base",
      "_view_module_version": "1.2.0",
      "_view_name": "LayoutView",
      "align_content": null,
      "align_items": null,
      "align_self": null,
      "border": null,
      "bottom": null,
      "display": null,
      "flex": null,
      "flex_flow": null,
      "grid_area": null,
      "grid_auto_columns": null,
      "grid_auto_flow": null,
      "grid_auto_rows": null,
      "grid_column": null,
      "grid_gap": null,
      "grid_row": null,
      "grid_template_areas": null,
      "grid_template_columns": null,
      "grid_template_rows": null,
      "height": null,
      "justify_content": null,
      "justify_items": null,
      "left": null,
      "margin": null,
      "max_height": null,
      "max_width": null,
      "min_height": null,
      "min_width": null,
      "object_fit": null,
      "object_position": null,
      "order": null,
      "overflow": null,
      "overflow_x": null,
      "overflow_y": null,
      "padding": null,
      "right": null,
      "top": null,
      "visibility": null,
      "width": null
     }
    },
    "4b787b3a8b214e64aecac618a827f150": {
     "model_module": "@jupyter-widgets/base",
     "model_module_version": "1.2.0",
     "model_name": "LayoutModel",
     "state": {
      "_model_module": "@jupyter-widgets/base",
      "_model_module_version": "1.2.0",
      "_model_name": "LayoutModel",
      "_view_count": null,
      "_view_module": "@jupyter-widgets/base",
      "_view_module_version": "1.2.0",
      "_view_name": "LayoutView",
      "align_content": null,
      "align_items": null,
      "align_self": null,
      "border": null,
      "bottom": null,
      "display": null,
      "flex": null,
      "flex_flow": null,
      "grid_area": null,
      "grid_auto_columns": null,
      "grid_auto_flow": null,
      "grid_auto_rows": null,
      "grid_column": null,
      "grid_gap": null,
      "grid_row": null,
      "grid_template_areas": null,
      "grid_template_columns": null,
      "grid_template_rows": null,
      "height": null,
      "justify_content": null,
      "justify_items": null,
      "left": null,
      "margin": null,
      "max_height": null,
      "max_width": null,
      "min_height": null,
      "min_width": null,
      "object_fit": null,
      "object_position": null,
      "order": null,
      "overflow": null,
      "overflow_x": null,
      "overflow_y": null,
      "padding": null,
      "right": null,
      "top": null,
      "visibility": null,
      "width": null
     }
    },
    "4fdd42e2dc864617a790600c4f02ac15": {
     "model_module": "@jupyter-widgets/base",
     "model_module_version": "1.2.0",
     "model_name": "LayoutModel",
     "state": {
      "_model_module": "@jupyter-widgets/base",
      "_model_module_version": "1.2.0",
      "_model_name": "LayoutModel",
      "_view_count": null,
      "_view_module": "@jupyter-widgets/base",
      "_view_module_version": "1.2.0",
      "_view_name": "LayoutView",
      "align_content": null,
      "align_items": null,
      "align_self": null,
      "border": null,
      "bottom": null,
      "display": null,
      "flex": null,
      "flex_flow": null,
      "grid_area": null,
      "grid_auto_columns": null,
      "grid_auto_flow": null,
      "grid_auto_rows": null,
      "grid_column": null,
      "grid_gap": null,
      "grid_row": null,
      "grid_template_areas": null,
      "grid_template_columns": null,
      "grid_template_rows": null,
      "height": null,
      "justify_content": null,
      "justify_items": null,
      "left": null,
      "margin": null,
      "max_height": null,
      "max_width": null,
      "min_height": null,
      "min_width": null,
      "object_fit": null,
      "object_position": null,
      "order": null,
      "overflow": null,
      "overflow_x": null,
      "overflow_y": null,
      "padding": null,
      "right": null,
      "top": null,
      "visibility": null,
      "width": null
     }
    },
    "51a9183ed2d046f59abd42799ea29ca4": {
     "model_module": "@jupyter-widgets/controls",
     "model_module_version": "1.5.0",
     "model_name": "DescriptionStyleModel",
     "state": {
      "_model_module": "@jupyter-widgets/controls",
      "_model_module_version": "1.5.0",
      "_model_name": "DescriptionStyleModel",
      "_view_count": null,
      "_view_module": "@jupyter-widgets/base",
      "_view_module_version": "1.2.0",
      "_view_name": "StyleView",
      "description_width": ""
     }
    },
    "5b2723a3ab30445093770038e6e67cb0": {
     "model_module": "@jupyter-widgets/controls",
     "model_module_version": "1.5.0",
     "model_name": "FloatProgressModel",
     "state": {
      "_dom_classes": [],
      "_model_module": "@jupyter-widgets/controls",
      "_model_module_version": "1.5.0",
      "_model_name": "FloatProgressModel",
      "_view_count": null,
      "_view_module": "@jupyter-widgets/controls",
      "_view_module_version": "1.5.0",
      "_view_name": "ProgressView",
      "bar_style": "success",
      "description": "",
      "description_tooltip": null,
      "layout": "IPY_MODEL_81d6fadd56ac4e3bacfa6bdf9eb6fb83",
      "max": 483,
      "min": 0,
      "orientation": "horizontal",
      "style": "IPY_MODEL_02f5aac3ba5945058bbdc563b44fdced",
      "value": 483
     }
    },
    "6048833f662d4d01898e9ecceea5b864": {
     "model_module": "@jupyter-widgets/base",
     "model_module_version": "1.2.0",
     "model_name": "LayoutModel",
     "state": {
      "_model_module": "@jupyter-widgets/base",
      "_model_module_version": "1.2.0",
      "_model_name": "LayoutModel",
      "_view_count": null,
      "_view_module": "@jupyter-widgets/base",
      "_view_module_version": "1.2.0",
      "_view_name": "LayoutView",
      "align_content": null,
      "align_items": null,
      "align_self": null,
      "border": null,
      "bottom": null,
      "display": null,
      "flex": null,
      "flex_flow": null,
      "grid_area": null,
      "grid_auto_columns": null,
      "grid_auto_flow": null,
      "grid_auto_rows": null,
      "grid_column": null,
      "grid_gap": null,
      "grid_row": null,
      "grid_template_areas": null,
      "grid_template_columns": null,
      "grid_template_rows": null,
      "height": null,
      "justify_content": null,
      "justify_items": null,
      "left": null,
      "margin": null,
      "max_height": null,
      "max_width": null,
      "min_height": null,
      "min_width": null,
      "object_fit": null,
      "object_position": null,
      "order": null,
      "overflow": null,
      "overflow_x": null,
      "overflow_y": null,
      "padding": null,
      "right": null,
      "top": null,
      "visibility": null,
      "width": null
     }
    },
    "657b2a55556d407387dab1937a00f566": {
     "model_module": "@jupyter-widgets/base",
     "model_module_version": "1.2.0",
     "model_name": "LayoutModel",
     "state": {
      "_model_module": "@jupyter-widgets/base",
      "_model_module_version": "1.2.0",
      "_model_name": "LayoutModel",
      "_view_count": null,
      "_view_module": "@jupyter-widgets/base",
      "_view_module_version": "1.2.0",
      "_view_name": "LayoutView",
      "align_content": null,
      "align_items": null,
      "align_self": null,
      "border": null,
      "bottom": null,
      "display": null,
      "flex": null,
      "flex_flow": null,
      "grid_area": null,
      "grid_auto_columns": null,
      "grid_auto_flow": null,
      "grid_auto_rows": null,
      "grid_column": null,
      "grid_gap": null,
      "grid_row": null,
      "grid_template_areas": null,
      "grid_template_columns": null,
      "grid_template_rows": null,
      "height": null,
      "justify_content": null,
      "justify_items": null,
      "left": null,
      "margin": null,
      "max_height": null,
      "max_width": null,
      "min_height": null,
      "min_width": null,
      "object_fit": null,
      "object_position": null,
      "order": null,
      "overflow": null,
      "overflow_x": null,
      "overflow_y": null,
      "padding": null,
      "right": null,
      "top": null,
      "visibility": null,
      "width": null
     }
    },
    "735530870deb46df8f62a5104b434d9d": {
     "model_module": "@jupyter-widgets/controls",
     "model_module_version": "1.5.0",
     "model_name": "HTMLModel",
     "state": {
      "_dom_classes": [],
      "_model_module": "@jupyter-widgets/controls",
      "_model_module_version": "1.5.0",
      "_model_name": "HTMLModel",
      "_view_count": null,
      "_view_module": "@jupyter-widgets/controls",
      "_view_module_version": "1.5.0",
      "_view_name": "HTMLView",
      "description": "",
      "description_tooltip": null,
      "layout": "IPY_MODEL_034aa24481054d898d3939de1fcd9c72",
      "placeholder": "​",
      "style": "IPY_MODEL_c354bde78b8b44bc97536cbf205079fd",
      "value": "Downloading (…)okenizer_config.json: 100%"
     }
    },
    "748ac2b88ffa447d9c2f6f327ccad0cb": {
     "model_module": "@jupyter-widgets/controls",
     "model_module_version": "1.5.0",
     "model_name": "ProgressStyleModel",
     "state": {
      "_model_module": "@jupyter-widgets/controls",
      "_model_module_version": "1.5.0",
      "_model_name": "ProgressStyleModel",
      "_view_count": null,
      "_view_module": "@jupyter-widgets/base",
      "_view_module_version": "1.2.0",
      "_view_name": "StyleView",
      "bar_color": null,
      "description_width": ""
     }
    },
    "774a5ee719b34d71b5a1548d646f0f20": {
     "model_module": "@jupyter-widgets/controls",
     "model_module_version": "1.5.0",
     "model_name": "FloatProgressModel",
     "state": {
      "_dom_classes": [],
      "_model_module": "@jupyter-widgets/controls",
      "_model_module_version": "1.5.0",
      "_model_name": "FloatProgressModel",
      "_view_count": null,
      "_view_module": "@jupyter-widgets/controls",
      "_view_module_version": "1.5.0",
      "_view_name": "ProgressView",
      "bar_style": "success",
      "description": "",
      "description_tooltip": null,
      "layout": "IPY_MODEL_4297df9fb86c4deaa162967e4c8f4695",
      "max": 28,
      "min": 0,
      "orientation": "horizontal",
      "style": "IPY_MODEL_200b3b0113f7450db07a4e33edd4594a",
      "value": 28
     }
    },
    "7c8731d30c3245829d46ef583f7bd2c8": {
     "model_module": "@jupyter-widgets/controls",
     "model_module_version": "1.5.0",
     "model_name": "DescriptionStyleModel",
     "state": {
      "_model_module": "@jupyter-widgets/controls",
      "_model_module_version": "1.5.0",
      "_model_name": "DescriptionStyleModel",
      "_view_count": null,
      "_view_module": "@jupyter-widgets/base",
      "_view_module_version": "1.2.0",
      "_view_name": "StyleView",
      "description_width": ""
     }
    },
    "814318ab71a142819afb5e2e673a3059": {
     "model_module": "@jupyter-widgets/controls",
     "model_module_version": "1.5.0",
     "model_name": "HTMLModel",
     "state": {
      "_dom_classes": [],
      "_model_module": "@jupyter-widgets/controls",
      "_model_module_version": "1.5.0",
      "_model_name": "HTMLModel",
      "_view_count": null,
      "_view_module": "@jupyter-widgets/controls",
      "_view_module_version": "1.5.0",
      "_view_name": "HTMLView",
      "description": "",
      "description_tooltip": null,
      "layout": "IPY_MODEL_4b787b3a8b214e64aecac618a827f150",
      "placeholder": "​",
      "style": "IPY_MODEL_18ef24f0c6084a34ad91d7473620045b",
      "value": " 483/483 [00:00&lt;00:00, 36.4kB/s]"
     }
    },
    "81d6fadd56ac4e3bacfa6bdf9eb6fb83": {
     "model_module": "@jupyter-widgets/base",
     "model_module_version": "1.2.0",
     "model_name": "LayoutModel",
     "state": {
      "_model_module": "@jupyter-widgets/base",
      "_model_module_version": "1.2.0",
      "_model_name": "LayoutModel",
      "_view_count": null,
      "_view_module": "@jupyter-widgets/base",
      "_view_module_version": "1.2.0",
      "_view_name": "LayoutView",
      "align_content": null,
      "align_items": null,
      "align_self": null,
      "border": null,
      "bottom": null,
      "display": null,
      "flex": null,
      "flex_flow": null,
      "grid_area": null,
      "grid_auto_columns": null,
      "grid_auto_flow": null,
      "grid_auto_rows": null,
      "grid_column": null,
      "grid_gap": null,
      "grid_row": null,
      "grid_template_areas": null,
      "grid_template_columns": null,
      "grid_template_rows": null,
      "height": null,
      "justify_content": null,
      "justify_items": null,
      "left": null,
      "margin": null,
      "max_height": null,
      "max_width": null,
      "min_height": null,
      "min_width": null,
      "object_fit": null,
      "object_position": null,
      "order": null,
      "overflow": null,
      "overflow_x": null,
      "overflow_y": null,
      "padding": null,
      "right": null,
      "top": null,
      "visibility": null,
      "width": null
     }
    },
    "8539a5b0322040a58c9722f7b95d36e3": {
     "model_module": "@jupyter-widgets/controls",
     "model_module_version": "1.5.0",
     "model_name": "DescriptionStyleModel",
     "state": {
      "_model_module": "@jupyter-widgets/controls",
      "_model_module_version": "1.5.0",
      "_model_name": "DescriptionStyleModel",
      "_view_count": null,
      "_view_module": "@jupyter-widgets/base",
      "_view_module_version": "1.2.0",
      "_view_name": "StyleView",
      "description_width": ""
     }
    },
    "8655cfc94b7d43bda0db891f4c09ca61": {
     "model_module": "@jupyter-widgets/controls",
     "model_module_version": "1.5.0",
     "model_name": "HTMLModel",
     "state": {
      "_dom_classes": [],
      "_model_module": "@jupyter-widgets/controls",
      "_model_module_version": "1.5.0",
      "_model_name": "HTMLModel",
      "_view_count": null,
      "_view_module": "@jupyter-widgets/controls",
      "_view_module_version": "1.5.0",
      "_view_name": "HTMLView",
      "description": "",
      "description_tooltip": null,
      "layout": "IPY_MODEL_6048833f662d4d01898e9ecceea5b864",
      "placeholder": "​",
      "style": "IPY_MODEL_7c8731d30c3245829d46ef583f7bd2c8",
      "value": " 268M/268M [00:01&lt;00:00, 263MB/s]"
     }
    },
    "96f560d893054b5eb24e9a0ccda25d7c": {
     "model_module": "@jupyter-widgets/controls",
     "model_module_version": "1.5.0",
     "model_name": "HTMLModel",
     "state": {
      "_dom_classes": [],
      "_model_module": "@jupyter-widgets/controls",
      "_model_module_version": "1.5.0",
      "_model_name": "HTMLModel",
      "_view_count": null,
      "_view_module": "@jupyter-widgets/controls",
      "_view_module_version": "1.5.0",
      "_view_name": "HTMLView",
      "description": "",
      "description_tooltip": null,
      "layout": "IPY_MODEL_657b2a55556d407387dab1937a00f566",
      "placeholder": "​",
      "style": "IPY_MODEL_de9e7410899a4ffc8d2384cc516c70ed",
      "value": "Downloading (…)lve/main/config.json: 100%"
     }
    },
    "9900c8f77bb9437ebc2216e1b0489dec": {
     "model_module": "@jupyter-widgets/controls",
     "model_module_version": "1.5.0",
     "model_name": "DescriptionStyleModel",
     "state": {
      "_model_module": "@jupyter-widgets/controls",
      "_model_module_version": "1.5.0",
      "_model_name": "DescriptionStyleModel",
      "_view_count": null,
      "_view_module": "@jupyter-widgets/base",
      "_view_module_version": "1.2.0",
      "_view_name": "StyleView",
      "description_width": ""
     }
    },
    "990ebe15ee5c44f28472bedb6b19c440": {
     "model_module": "@jupyter-widgets/controls",
     "model_module_version": "1.5.0",
     "model_name": "FloatProgressModel",
     "state": {
      "_dom_classes": [],
      "_model_module": "@jupyter-widgets/controls",
      "_model_module_version": "1.5.0",
      "_model_name": "FloatProgressModel",
      "_view_count": null,
      "_view_module": "@jupyter-widgets/controls",
      "_view_module_version": "1.5.0",
      "_view_name": "ProgressView",
      "bar_style": "success",
      "description": "",
      "description_tooltip": null,
      "layout": "IPY_MODEL_de1f2c9ef9b544a5889b7982d09376b8",
      "max": 267954768,
      "min": 0,
      "orientation": "horizontal",
      "style": "IPY_MODEL_05a8eddb179d4c47b1ea802c933f6160",
      "value": 267954768
     }
    },
    "adbef7bef8144a1cbf607e39e376fdb1": {
     "model_module": "@jupyter-widgets/controls",
     "model_module_version": "1.5.0",
     "model_name": "HTMLModel",
     "state": {
      "_dom_classes": [],
      "_model_module": "@jupyter-widgets/controls",
      "_model_module_version": "1.5.0",
      "_model_name": "HTMLModel",
      "_view_count": null,
      "_view_module": "@jupyter-widgets/controls",
      "_view_module_version": "1.5.0",
      "_view_name": "HTMLView",
      "description": "",
      "description_tooltip": null,
      "layout": "IPY_MODEL_2b60a990c3ae4173bd5795187a5b1023",
      "placeholder": "​",
      "style": "IPY_MODEL_9900c8f77bb9437ebc2216e1b0489dec",
      "value": "Downloading (…)solve/main/vocab.txt: 100%"
     }
    },
    "c354bde78b8b44bc97536cbf205079fd": {
     "model_module": "@jupyter-widgets/controls",
     "model_module_version": "1.5.0",
     "model_name": "DescriptionStyleModel",
     "state": {
      "_model_module": "@jupyter-widgets/controls",
      "_model_module_version": "1.5.0",
      "_model_name": "DescriptionStyleModel",
      "_view_count": null,
      "_view_module": "@jupyter-widgets/base",
      "_view_module_version": "1.2.0",
      "_view_name": "StyleView",
      "description_width": ""
     }
    },
    "c4211070f992451c940a62277adedc2d": {
     "model_module": "@jupyter-widgets/base",
     "model_module_version": "1.2.0",
     "model_name": "LayoutModel",
     "state": {
      "_model_module": "@jupyter-widgets/base",
      "_model_module_version": "1.2.0",
      "_model_name": "LayoutModel",
      "_view_count": null,
      "_view_module": "@jupyter-widgets/base",
      "_view_module_version": "1.2.0",
      "_view_name": "LayoutView",
      "align_content": null,
      "align_items": null,
      "align_self": null,
      "border": null,
      "bottom": null,
      "display": null,
      "flex": null,
      "flex_flow": null,
      "grid_area": null,
      "grid_auto_columns": null,
      "grid_auto_flow": null,
      "grid_auto_rows": null,
      "grid_column": null,
      "grid_gap": null,
      "grid_row": null,
      "grid_template_areas": null,
      "grid_template_columns": null,
      "grid_template_rows": null,
      "height": null,
      "justify_content": null,
      "justify_items": null,
      "left": null,
      "margin": null,
      "max_height": null,
      "max_width": null,
      "min_height": null,
      "min_width": null,
      "object_fit": null,
      "object_position": null,
      "order": null,
      "overflow": null,
      "overflow_x": null,
      "overflow_y": null,
      "padding": null,
      "right": null,
      "top": null,
      "visibility": null,
      "width": null
     }
    },
    "d3bd15145040480bbd466a4fd20ebfb2": {
     "model_module": "@jupyter-widgets/controls",
     "model_module_version": "1.5.0",
     "model_name": "HBoxModel",
     "state": {
      "_dom_classes": [],
      "_model_module": "@jupyter-widgets/controls",
      "_model_module_version": "1.5.0",
      "_model_name": "HBoxModel",
      "_view_count": null,
      "_view_module": "@jupyter-widgets/controls",
      "_view_module_version": "1.5.0",
      "_view_name": "HBoxView",
      "box_style": "",
      "children": [
       "IPY_MODEL_0488395d608f4d4584fe51754b1a79ad",
       "IPY_MODEL_990ebe15ee5c44f28472bedb6b19c440",
       "IPY_MODEL_8655cfc94b7d43bda0db891f4c09ca61"
      ],
      "layout": "IPY_MODEL_3bc6491465664aaa967cecb54bd0e87b"
     }
    },
    "d61cd0ae102e410ca8ca365b335ae70a": {
     "model_module": "@jupyter-widgets/controls",
     "model_module_version": "1.5.0",
     "model_name": "HBoxModel",
     "state": {
      "_dom_classes": [],
      "_model_module": "@jupyter-widgets/controls",
      "_model_module_version": "1.5.0",
      "_model_name": "HBoxModel",
      "_view_count": null,
      "_view_module": "@jupyter-widgets/controls",
      "_view_module_version": "1.5.0",
      "_view_name": "HBoxView",
      "box_style": "",
      "children": [
       "IPY_MODEL_96f560d893054b5eb24e9a0ccda25d7c",
       "IPY_MODEL_5b2723a3ab30445093770038e6e67cb0",
       "IPY_MODEL_814318ab71a142819afb5e2e673a3059"
      ],
      "layout": "IPY_MODEL_450b28946ba541a49f024cc92ba3d5af"
     }
    },
    "de1f2c9ef9b544a5889b7982d09376b8": {
     "model_module": "@jupyter-widgets/base",
     "model_module_version": "1.2.0",
     "model_name": "LayoutModel",
     "state": {
      "_model_module": "@jupyter-widgets/base",
      "_model_module_version": "1.2.0",
      "_model_name": "LayoutModel",
      "_view_count": null,
      "_view_module": "@jupyter-widgets/base",
      "_view_module_version": "1.2.0",
      "_view_name": "LayoutView",
      "align_content": null,
      "align_items": null,
      "align_self": null,
      "border": null,
      "bottom": null,
      "display": null,
      "flex": null,
      "flex_flow": null,
      "grid_area": null,
      "grid_auto_columns": null,
      "grid_auto_flow": null,
      "grid_auto_rows": null,
      "grid_column": null,
      "grid_gap": null,
      "grid_row": null,
      "grid_template_areas": null,
      "grid_template_columns": null,
      "grid_template_rows": null,
      "height": null,
      "justify_content": null,
      "justify_items": null,
      "left": null,
      "margin": null,
      "max_height": null,
      "max_width": null,
      "min_height": null,
      "min_width": null,
      "object_fit": null,
      "object_position": null,
      "order": null,
      "overflow": null,
      "overflow_x": null,
      "overflow_y": null,
      "padding": null,
      "right": null,
      "top": null,
      "visibility": null,
      "width": null
     }
    },
    "de9e7410899a4ffc8d2384cc516c70ed": {
     "model_module": "@jupyter-widgets/controls",
     "model_module_version": "1.5.0",
     "model_name": "DescriptionStyleModel",
     "state": {
      "_model_module": "@jupyter-widgets/controls",
      "_model_module_version": "1.5.0",
      "_model_name": "DescriptionStyleModel",
      "_view_count": null,
      "_view_module": "@jupyter-widgets/base",
      "_view_module_version": "1.2.0",
      "_view_name": "StyleView",
      "description_width": ""
     }
    },
    "e2b2eb6f401e4a6c94edea695f7f3674": {
     "model_module": "@jupyter-widgets/controls",
     "model_module_version": "1.5.0",
     "model_name": "HBoxModel",
     "state": {
      "_dom_classes": [],
      "_model_module": "@jupyter-widgets/controls",
      "_model_module_version": "1.5.0",
      "_model_name": "HBoxModel",
      "_view_count": null,
      "_view_module": "@jupyter-widgets/controls",
      "_view_module_version": "1.5.0",
      "_view_name": "HBoxView",
      "box_style": "",
      "children": [
       "IPY_MODEL_adbef7bef8144a1cbf607e39e376fdb1",
       "IPY_MODEL_1faa64a441c642c0add16cd92edef8db",
       "IPY_MODEL_254eba958cc04d8b853bfe1b12c59871"
      ],
      "layout": "IPY_MODEL_c4211070f992451c940a62277adedc2d"
     }
    },
    "fd089aa331324940a82b166d56368f5f": {
     "model_module": "@jupyter-widgets/controls",
     "model_module_version": "1.5.0",
     "model_name": "HBoxModel",
     "state": {
      "_dom_classes": [],
      "_model_module": "@jupyter-widgets/controls",
      "_model_module_version": "1.5.0",
      "_model_name": "HBoxModel",
      "_view_count": null,
      "_view_module": "@jupyter-widgets/controls",
      "_view_module_version": "1.5.0",
      "_view_name": "HBoxView",
      "box_style": "",
      "children": [
       "IPY_MODEL_735530870deb46df8f62a5104b434d9d",
       "IPY_MODEL_774a5ee719b34d71b5a1548d646f0f20",
       "IPY_MODEL_1dc55361b43a485480cd4a3b1380a3da"
      ],
      "layout": "IPY_MODEL_4fdd42e2dc864617a790600c4f02ac15"
     }
    }
   }
  }
 },
 "nbformat": 4,
 "nbformat_minor": 5
}
