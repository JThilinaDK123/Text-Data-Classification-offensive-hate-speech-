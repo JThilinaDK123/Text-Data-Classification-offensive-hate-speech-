{
  "cells": [
    {
      "cell_type": "markdown",
      "id": "RfMiK6yValm1",
      "metadata": {
        "id": "RfMiK6yValm1"
      },
      "source": [
        "### ***Import the libraries***"
      ]
    },
    {
      "cell_type": "code",
      "execution_count": 2,
      "id": "mCa8BnbooiAw",
      "metadata": {
        "colab": {
          "base_uri": "https://localhost:8080/"
        },
        "id": "mCa8BnbooiAw",
        "outputId": "211480e5-1d46-44b3-8e85-a08deaf5b8ea"
      },
      "outputs": [
        {
          "name": "stderr",
          "output_type": "stream",
          "text": [
            "[nltk_data] Downloading package punkt to /root/nltk_data...\n",
            "[nltk_data]   Unzipping tokenizers/punkt.zip.\n",
            "[nltk_data] Downloading package stopwords to /root/nltk_data...\n",
            "[nltk_data]   Unzipping corpora/stopwords.zip.\n",
            "[nltk_data] Downloading package wordnet to /root/nltk_data...\n",
            "[nltk_data] Downloading package averaged_perceptron_tagger to\n",
            "[nltk_data]     /root/nltk_data...\n",
            "[nltk_data]   Unzipping taggers/averaged_perceptron_tagger.zip.\n"
          ]
        },
        {
          "data": {
            "text/plain": [
              "True"
            ]
          },
          "execution_count": 2,
          "metadata": {},
          "output_type": "execute_result"
        }
      ],
      "source": [
        "import pandas as pd\n",
        "from nltk.tokenize import word_tokenize\n",
        "from nltk.corpus import stopwords\n",
        "from tqdm import tqdm\n",
        "import re\n",
        "import string\n",
        "from nltk.corpus import stopwords\n",
        "from nltk.stem import WordNetLemmatizer\n",
        "from sklearn.model_selection import train_test_split\n",
        "import nltk\n",
        "import gensim\n",
        "from sklearn import metrics\n",
        "from wordcloud import WordCloud\n",
        "import matplotlib.pyplot as plt\n",
        "import numpy as np\n",
        "from sklearn.naive_bayes import MultinomialNB\n",
        "from sklearn.linear_model import SGDClassifier\n",
        "from sklearn.metrics import confusion_matrix\n",
        "from sklearn.preprocessing import LabelEncoder\n",
        "import xgboost as xgb\n",
        "from sklearn.metrics import accuracy_score\n",
        "from collections import Counter\n",
        "from nltk import FreqDist\n",
        "import itertools\n",
        "from sklearn.utils import class_weight\n",
        "import matplotlib.pyplot as plt\n",
        "from sklearn.ensemble import AdaBoostClassifier\n",
        "from sklearn.tree import DecisionTreeClassifier\n",
        "from sklearn.ensemble import RandomForestClassifier\n",
        "from sklearn.naive_bayes import BernoulliNB\n",
        "from sklearn.model_selection import GridSearchCV\n",
        "from imblearn.over_sampling import SMOTE\n",
        "from sklearn.feature_extraction.text import CountVectorizer\n",
        "\n",
        "from gensim.models import Word2Vec\n",
        "from nltk.stem import PorterStemmer\n",
        "from tensorflow.keras.preprocessing.text import Tokenizer\n",
        "from tensorflow.keras.preprocessing.sequence import pad_sequences\n",
        "from keras.utils import to_categorical\n",
        "from keras.models import Sequential\n",
        "from keras.layers import Embedding, Dense, Flatten\n",
        "from sklearn.model_selection import train_test_split\n",
        "from sklearn.metrics import accuracy_score, confusion_matrix, classification_report\n",
        "import tensorflow as tf\n",
        "from tensorflow import keras\n",
        "from tensorflow.keras.layers import Embedding, Conv1D, GlobalMaxPooling1D, Dense, Dropout\n",
        "from tensorflow.keras.models import Sequential\n",
        "from tensorflow.keras.preprocessing.sequence import pad_sequences\n",
        "from tensorflow.keras.preprocessing.text import Tokenizer\n",
        "\n",
        "import nltk\n",
        "nltk.download('punkt')\n",
        "nltk.download('stopwords')\n",
        "nltk.download('wordnet')\n",
        "nltk.download('averaged_perceptron_tagger')"
      ]
    },
    {
      "cell_type": "code",
      "execution_count": 3,
      "id": "j4Z9_59EuvqI",
      "metadata": {
        "colab": {
          "base_uri": "https://localhost:8080/"
        },
        "id": "j4Z9_59EuvqI",
        "outputId": "6d9c1a4a-9295-4f46-8d71-8757cba38042"
      },
      "outputs": [
        {
          "name": "stdout",
          "output_type": "stream",
          "text": [
            "Collecting ipynb\n",
            "  Downloading ipynb-0.5.1-py3-none-any.whl (6.9 kB)\n",
            "Installing collected packages: ipynb\n",
            "Successfully installed ipynb-0.5.1\n"
          ]
        }
      ],
      "source": [
        "pip install ipynb"
      ]
    },
    {
      "cell_type": "code",
      "execution_count": 4,
      "id": "c2m2z0S3HMHZ",
      "metadata": {
        "id": "c2m2z0S3HMHZ"
      },
      "outputs": [],
      "source": [
        "%run '/content/drive/MyDrive/feature_extractors.py'"
      ]
    },
    {
      "cell_type": "markdown",
      "id": "hSX--ysybASq",
      "metadata": {
        "id": "hSX--ysybASq"
      },
      "source": [
        "### ***Load the dataset***"
      ]
    },
    {
      "cell_type": "code",
      "execution_count": 5,
      "id": "57b12f1f",
      "metadata": {
        "id": "57b12f1f"
      },
      "outputs": [],
      "source": [
        "data_path = '/content/drive/MyDrive/labeled_data.csv'\n",
        "dataset = pd.read_csv(data_path)"
      ]
    },
    {
      "cell_type": "code",
      "execution_count": 6,
      "id": "0Htk69udorIU",
      "metadata": {
        "colab": {
          "base_uri": "https://localhost:8080/",
          "height": 424
        },
        "id": "0Htk69udorIU",
        "outputId": "96edfabd-b674-4cb5-e35a-d2818c119faa"
      },
      "outputs": [
        {
          "data": {
            "text/html": [
              "\n",
              "\n",
              "  <div id=\"df-245afbb2-1767-404a-b961-99535e51f34f\">\n",
              "    <div class=\"colab-df-container\">\n",
              "      <div>\n",
              "<style scoped>\n",
              "    .dataframe tbody tr th:only-of-type {\n",
              "        vertical-align: middle;\n",
              "    }\n",
              "\n",
              "    .dataframe tbody tr th {\n",
              "        vertical-align: top;\n",
              "    }\n",
              "\n",
              "    .dataframe thead th {\n",
              "        text-align: right;\n",
              "    }\n",
              "</style>\n",
              "<table border=\"1\" class=\"dataframe\">\n",
              "  <thead>\n",
              "    <tr style=\"text-align: right;\">\n",
              "      <th></th>\n",
              "      <th>Unnamed: 0</th>\n",
              "      <th>count</th>\n",
              "      <th>hate_speech</th>\n",
              "      <th>offensive_language</th>\n",
              "      <th>neither</th>\n",
              "      <th>class</th>\n",
              "      <th>tweet</th>\n",
              "    </tr>\n",
              "  </thead>\n",
              "  <tbody>\n",
              "    <tr>\n",
              "      <th>0</th>\n",
              "      <td>0</td>\n",
              "      <td>3</td>\n",
              "      <td>0</td>\n",
              "      <td>0</td>\n",
              "      <td>3</td>\n",
              "      <td>2</td>\n",
              "      <td>!!! RT @mayasolovely: As a woman you shouldn't...</td>\n",
              "    </tr>\n",
              "    <tr>\n",
              "      <th>1</th>\n",
              "      <td>1</td>\n",
              "      <td>3</td>\n",
              "      <td>0</td>\n",
              "      <td>3</td>\n",
              "      <td>0</td>\n",
              "      <td>1</td>\n",
              "      <td>!!!!! RT @mleew17: boy dats cold...tyga dwn ba...</td>\n",
              "    </tr>\n",
              "    <tr>\n",
              "      <th>2</th>\n",
              "      <td>2</td>\n",
              "      <td>3</td>\n",
              "      <td>0</td>\n",
              "      <td>3</td>\n",
              "      <td>0</td>\n",
              "      <td>1</td>\n",
              "      <td>!!!!!!! RT @UrKindOfBrand Dawg!!!! RT @80sbaby...</td>\n",
              "    </tr>\n",
              "    <tr>\n",
              "      <th>3</th>\n",
              "      <td>3</td>\n",
              "      <td>3</td>\n",
              "      <td>0</td>\n",
              "      <td>2</td>\n",
              "      <td>1</td>\n",
              "      <td>1</td>\n",
              "      <td>!!!!!!!!! RT @C_G_Anderson: @viva_based she lo...</td>\n",
              "    </tr>\n",
              "    <tr>\n",
              "      <th>4</th>\n",
              "      <td>4</td>\n",
              "      <td>6</td>\n",
              "      <td>0</td>\n",
              "      <td>6</td>\n",
              "      <td>0</td>\n",
              "      <td>1</td>\n",
              "      <td>!!!!!!!!!!!!! RT @ShenikaRoberts: The shit you...</td>\n",
              "    </tr>\n",
              "    <tr>\n",
              "      <th>...</th>\n",
              "      <td>...</td>\n",
              "      <td>...</td>\n",
              "      <td>...</td>\n",
              "      <td>...</td>\n",
              "      <td>...</td>\n",
              "      <td>...</td>\n",
              "      <td>...</td>\n",
              "    </tr>\n",
              "    <tr>\n",
              "      <th>24778</th>\n",
              "      <td>25291</td>\n",
              "      <td>3</td>\n",
              "      <td>0</td>\n",
              "      <td>2</td>\n",
              "      <td>1</td>\n",
              "      <td>1</td>\n",
              "      <td>you's a muthaf***in lie &amp;#8220;@LifeAsKing: @2...</td>\n",
              "    </tr>\n",
              "    <tr>\n",
              "      <th>24779</th>\n",
              "      <td>25292</td>\n",
              "      <td>3</td>\n",
              "      <td>0</td>\n",
              "      <td>1</td>\n",
              "      <td>2</td>\n",
              "      <td>2</td>\n",
              "      <td>you've gone and broke the wrong heart baby, an...</td>\n",
              "    </tr>\n",
              "    <tr>\n",
              "      <th>24780</th>\n",
              "      <td>25294</td>\n",
              "      <td>3</td>\n",
              "      <td>0</td>\n",
              "      <td>3</td>\n",
              "      <td>0</td>\n",
              "      <td>1</td>\n",
              "      <td>young buck wanna eat!!.. dat nigguh like I ain...</td>\n",
              "    </tr>\n",
              "    <tr>\n",
              "      <th>24781</th>\n",
              "      <td>25295</td>\n",
              "      <td>6</td>\n",
              "      <td>0</td>\n",
              "      <td>6</td>\n",
              "      <td>0</td>\n",
              "      <td>1</td>\n",
              "      <td>youu got wild bitches tellin you lies</td>\n",
              "    </tr>\n",
              "    <tr>\n",
              "      <th>24782</th>\n",
              "      <td>25296</td>\n",
              "      <td>3</td>\n",
              "      <td>0</td>\n",
              "      <td>0</td>\n",
              "      <td>3</td>\n",
              "      <td>2</td>\n",
              "      <td>~~Ruffled | Ntac Eileen Dahlia - Beautiful col...</td>\n",
              "    </tr>\n",
              "  </tbody>\n",
              "</table>\n",
              "<p>24783 rows × 7 columns</p>\n",
              "</div>\n",
              "      <button class=\"colab-df-convert\" onclick=\"convertToInteractive('df-245afbb2-1767-404a-b961-99535e51f34f')\"\n",
              "              title=\"Convert this dataframe to an interactive table.\"\n",
              "              style=\"display:none;\">\n",
              "\n",
              "  <svg xmlns=\"http://www.w3.org/2000/svg\" height=\"24px\"viewBox=\"0 0 24 24\"\n",
              "       width=\"24px\">\n",
              "    <path d=\"M0 0h24v24H0V0z\" fill=\"none\"/>\n",
              "    <path d=\"M18.56 5.44l.94 2.06.94-2.06 2.06-.94-2.06-.94-.94-2.06-.94 2.06-2.06.94zm-11 1L8.5 8.5l.94-2.06 2.06-.94-2.06-.94L8.5 2.5l-.94 2.06-2.06.94zm10 10l.94 2.06.94-2.06 2.06-.94-2.06-.94-.94-2.06-.94 2.06-2.06.94z\"/><path d=\"M17.41 7.96l-1.37-1.37c-.4-.4-.92-.59-1.43-.59-.52 0-1.04.2-1.43.59L10.3 9.45l-7.72 7.72c-.78.78-.78 2.05 0 2.83L4 21.41c.39.39.9.59 1.41.59.51 0 1.02-.2 1.41-.59l7.78-7.78 2.81-2.81c.8-.78.8-2.07 0-2.86zM5.41 20L4 18.59l7.72-7.72 1.47 1.35L5.41 20z\"/>\n",
              "  </svg>\n",
              "      </button>\n",
              "\n",
              "\n",
              "\n",
              "    <div id=\"df-b16c5fd4-4b83-4bfc-8d2c-e1a9bd14577b\">\n",
              "      <button class=\"colab-df-quickchart\" onclick=\"quickchart('df-b16c5fd4-4b83-4bfc-8d2c-e1a9bd14577b')\"\n",
              "              title=\"Suggest charts.\"\n",
              "              style=\"display:none;\">\n",
              "\n",
              "<svg xmlns=\"http://www.w3.org/2000/svg\" height=\"24px\"viewBox=\"0 0 24 24\"\n",
              "     width=\"24px\">\n",
              "    <g>\n",
              "        <path d=\"M19 3H5c-1.1 0-2 .9-2 2v14c0 1.1.9 2 2 2h14c1.1 0 2-.9 2-2V5c0-1.1-.9-2-2-2zM9 17H7v-7h2v7zm4 0h-2V7h2v10zm4 0h-2v-4h2v4z\"/>\n",
              "    </g>\n",
              "</svg>\n",
              "      </button>\n",
              "    </div>\n",
              "\n",
              "<style>\n",
              "  .colab-df-quickchart {\n",
              "    background-color: #E8F0FE;\n",
              "    border: none;\n",
              "    border-radius: 50%;\n",
              "    cursor: pointer;\n",
              "    display: none;\n",
              "    fill: #1967D2;\n",
              "    height: 32px;\n",
              "    padding: 0 0 0 0;\n",
              "    width: 32px;\n",
              "  }\n",
              "\n",
              "  .colab-df-quickchart:hover {\n",
              "    background-color: #E2EBFA;\n",
              "    box-shadow: 0px 1px 2px rgba(60, 64, 67, 0.3), 0px 1px 3px 1px rgba(60, 64, 67, 0.15);\n",
              "    fill: #174EA6;\n",
              "  }\n",
              "\n",
              "  [theme=dark] .colab-df-quickchart {\n",
              "    background-color: #3B4455;\n",
              "    fill: #D2E3FC;\n",
              "  }\n",
              "\n",
              "  [theme=dark] .colab-df-quickchart:hover {\n",
              "    background-color: #434B5C;\n",
              "    box-shadow: 0px 1px 3px 1px rgba(0, 0, 0, 0.15);\n",
              "    filter: drop-shadow(0px 1px 2px rgba(0, 0, 0, 0.3));\n",
              "    fill: #FFFFFF;\n",
              "  }\n",
              "</style>\n",
              "\n",
              "    <script>\n",
              "      async function quickchart(key) {\n",
              "        const containerElement = document.querySelector('#' + key);\n",
              "        const charts = await google.colab.kernel.invokeFunction(\n",
              "            'suggestCharts', [key], {});\n",
              "      }\n",
              "    </script>\n",
              "\n",
              "      <script>\n",
              "\n",
              "function displayQuickchartButton(domScope) {\n",
              "  let quickchartButtonEl =\n",
              "    domScope.querySelector('#df-b16c5fd4-4b83-4bfc-8d2c-e1a9bd14577b button.colab-df-quickchart');\n",
              "  quickchartButtonEl.style.display =\n",
              "    google.colab.kernel.accessAllowed ? 'block' : 'none';\n",
              "}\n",
              "\n",
              "        displayQuickchartButton(document);\n",
              "      </script>\n",
              "      <style>\n",
              "    .colab-df-container {\n",
              "      display:flex;\n",
              "      flex-wrap:wrap;\n",
              "      gap: 12px;\n",
              "    }\n",
              "\n",
              "    .colab-df-convert {\n",
              "      background-color: #E8F0FE;\n",
              "      border: none;\n",
              "      border-radius: 50%;\n",
              "      cursor: pointer;\n",
              "      display: none;\n",
              "      fill: #1967D2;\n",
              "      height: 32px;\n",
              "      padding: 0 0 0 0;\n",
              "      width: 32px;\n",
              "    }\n",
              "\n",
              "    .colab-df-convert:hover {\n",
              "      background-color: #E2EBFA;\n",
              "      box-shadow: 0px 1px 2px rgba(60, 64, 67, 0.3), 0px 1px 3px 1px rgba(60, 64, 67, 0.15);\n",
              "      fill: #174EA6;\n",
              "    }\n",
              "\n",
              "    [theme=dark] .colab-df-convert {\n",
              "      background-color: #3B4455;\n",
              "      fill: #D2E3FC;\n",
              "    }\n",
              "\n",
              "    [theme=dark] .colab-df-convert:hover {\n",
              "      background-color: #434B5C;\n",
              "      box-shadow: 0px 1px 3px 1px rgba(0, 0, 0, 0.15);\n",
              "      filter: drop-shadow(0px 1px 2px rgba(0, 0, 0, 0.3));\n",
              "      fill: #FFFFFF;\n",
              "    }\n",
              "  </style>\n",
              "\n",
              "      <script>\n",
              "        const buttonEl =\n",
              "          document.querySelector('#df-245afbb2-1767-404a-b961-99535e51f34f button.colab-df-convert');\n",
              "        buttonEl.style.display =\n",
              "          google.colab.kernel.accessAllowed ? 'block' : 'none';\n",
              "\n",
              "        async function convertToInteractive(key) {\n",
              "          const element = document.querySelector('#df-245afbb2-1767-404a-b961-99535e51f34f');\n",
              "          const dataTable =\n",
              "            await google.colab.kernel.invokeFunction('convertToInteractive',\n",
              "                                                     [key], {});\n",
              "          if (!dataTable) return;\n",
              "\n",
              "          const docLinkHtml = 'Like what you see? Visit the ' +\n",
              "            '<a target=\"_blank\" href=https://colab.research.google.com/notebooks/data_table.ipynb>data table notebook</a>'\n",
              "            + ' to learn more about interactive tables.';\n",
              "          element.innerHTML = '';\n",
              "          dataTable['output_type'] = 'display_data';\n",
              "          await google.colab.output.renderOutput(dataTable, element);\n",
              "          const docLink = document.createElement('div');\n",
              "          docLink.innerHTML = docLinkHtml;\n",
              "          element.appendChild(docLink);\n",
              "        }\n",
              "      </script>\n",
              "    </div>\n",
              "  </div>\n"
            ],
            "text/plain": [
              "       Unnamed: 0  count  hate_speech  offensive_language  neither  class  \\\n",
              "0               0      3            0                   0        3      2   \n",
              "1               1      3            0                   3        0      1   \n",
              "2               2      3            0                   3        0      1   \n",
              "3               3      3            0                   2        1      1   \n",
              "4               4      6            0                   6        0      1   \n",
              "...           ...    ...          ...                 ...      ...    ...   \n",
              "24778       25291      3            0                   2        1      1   \n",
              "24779       25292      3            0                   1        2      2   \n",
              "24780       25294      3            0                   3        0      1   \n",
              "24781       25295      6            0                   6        0      1   \n",
              "24782       25296      3            0                   0        3      2   \n",
              "\n",
              "                                                   tweet  \n",
              "0      !!! RT @mayasolovely: As a woman you shouldn't...  \n",
              "1      !!!!! RT @mleew17: boy dats cold...tyga dwn ba...  \n",
              "2      !!!!!!! RT @UrKindOfBrand Dawg!!!! RT @80sbaby...  \n",
              "3      !!!!!!!!! RT @C_G_Anderson: @viva_based she lo...  \n",
              "4      !!!!!!!!!!!!! RT @ShenikaRoberts: The shit you...  \n",
              "...                                                  ...  \n",
              "24778  you's a muthaf***in lie &#8220;@LifeAsKing: @2...  \n",
              "24779  you've gone and broke the wrong heart baby, an...  \n",
              "24780  young buck wanna eat!!.. dat nigguh like I ain...  \n",
              "24781              youu got wild bitches tellin you lies  \n",
              "24782  ~~Ruffled | Ntac Eileen Dahlia - Beautiful col...  \n",
              "\n",
              "[24783 rows x 7 columns]"
            ]
          },
          "execution_count": 6,
          "metadata": {},
          "output_type": "execute_result"
        }
      ],
      "source": [
        "dataset"
      ]
    },
    {
      "cell_type": "markdown",
      "id": "uIRUHUXwIpyH",
      "metadata": {
        "id": "uIRUHUXwIpyH"
      },
      "source": [
        "### ***Clean the dataset***\n"
      ]
    },
    {
      "cell_type": "markdown",
      "id": "W_AaF6RWIyKJ",
      "metadata": {
        "id": "W_AaF6RWIyKJ"
      },
      "source": [
        "\n",
        "Here, we import two python scripts to do this cleaning part and the feature extractions. They are,\n",
        "\n",
        "\n",
        "1.   normalization.py - Use for data cleaning part\n",
        "2.   feature_extractors.py - Use for feature extractions\n",
        "\n",
        "Data cleaning steps:\n",
        "\n",
        "\n",
        "*   Lowercasing\n",
        "\n",
        "\n",
        "*   Remove URL's and emails\n",
        "\n",
        "\n",
        "*   Tokenization\n",
        "\n",
        "*   Removal of Punctuation\n",
        "\n",
        "*   Stop Word Removal\n",
        "\n",
        "*   Lemmatization\n",
        "*   Removal of Special Characters or Numbers\n",
        "\n",
        "\n",
        "*   Remove one letter token\n",
        "\n",
        "\n",
        "*   Check the number of duplicate records\n",
        "\n",
        "*   Check for the missing values\n",
        "\n",
        "\n",
        "\n",
        "\n",
        "\n",
        "\n",
        "\n",
        "\n",
        "\n"
      ]
    },
    {
      "cell_type": "code",
      "execution_count": 7,
      "id": "_Kd-ujsj-E9A",
      "metadata": {
        "id": "_Kd-ujsj-E9A"
      },
      "outputs": [],
      "source": [
        "porter = PorterStemmer()\n",
        "\n",
        "documents = dataset['tweet']\n",
        "Cleaned_doc = []\n",
        "for r in range(len(documents)):\n",
        "    review = documents[r]\n",
        "    try:\n",
        "\n",
        "        # Remove phrases starts with 'https'\n",
        "        review = re.sub(r'http://\\S+|https://\\S+', '', review)\n",
        "\n",
        "        review = re.sub(r'@\\w+', '', review)\n",
        "\n",
        "        # Remove emails\n",
        "        review = re.sub(r'[\\w\\.-]+@[\\w\\.-]+', '', review)\n",
        "\n",
        "        # removing everything except alphabets\n",
        "        review = re.sub('[^A-Za-z]', ' ', review)\n",
        "\n",
        "        # make all text lowercase\n",
        "        review = review.lower()\n",
        "\n",
        "        # apply tokenization\n",
        "        Tokens = review.split()\n",
        "\n",
        "        # removing short words\n",
        "        Filtered_token = [w for w in Tokens if len(w)>3]\n",
        "        review = ' '.join(Filtered_token)\n",
        "\n",
        "    except:\n",
        "        continue\n",
        "    Cleaned_doc.append(review)"
      ]
    },
    {
      "cell_type": "code",
      "execution_count": 8,
      "id": "l7GcJ7WO-UTX",
      "metadata": {
        "id": "l7GcJ7WO-UTX"
      },
      "outputs": [],
      "source": [
        "stop_words = stopwords.words('english')\n",
        "\n",
        "# Remove Stop Words\n",
        "for r in range(len(Cleaned_doc)):\n",
        "    each_item = []\n",
        "    for t in Cleaned_doc[r].split():\n",
        "        if t not in stop_words:\n",
        "             each_item.append(t)\n",
        "    Cleaned_doc[r] = ' '.join(each_item)"
      ]
    },
    {
      "cell_type": "code",
      "execution_count": 9,
      "id": "X1OmSMCS-UZC",
      "metadata": {
        "colab": {
          "base_uri": "https://localhost:8080/",
          "height": 572
        },
        "id": "X1OmSMCS-UZC",
        "outputId": "b383597f-70af-4387-b703-5bd76495420e"
      },
      "outputs": [
        {
          "data": {
            "text/html": [
              "\n",
              "\n",
              "  <div id=\"df-049fb81d-be13-4dea-96f6-b29ea07b2ce5\">\n",
              "    <div class=\"colab-df-container\">\n",
              "      <div>\n",
              "<style scoped>\n",
              "    .dataframe tbody tr th:only-of-type {\n",
              "        vertical-align: middle;\n",
              "    }\n",
              "\n",
              "    .dataframe tbody tr th {\n",
              "        vertical-align: top;\n",
              "    }\n",
              "\n",
              "    .dataframe thead th {\n",
              "        text-align: right;\n",
              "    }\n",
              "</style>\n",
              "<table border=\"1\" class=\"dataframe\">\n",
              "  <thead>\n",
              "    <tr style=\"text-align: right;\">\n",
              "      <th></th>\n",
              "      <th>Unnamed: 0</th>\n",
              "      <th>count</th>\n",
              "      <th>hate_speech</th>\n",
              "      <th>offensive_language</th>\n",
              "      <th>neither</th>\n",
              "      <th>class</th>\n",
              "      <th>tweet</th>\n",
              "      <th>Cleaned_text</th>\n",
              "    </tr>\n",
              "  </thead>\n",
              "  <tbody>\n",
              "    <tr>\n",
              "      <th>0</th>\n",
              "      <td>0</td>\n",
              "      <td>3</td>\n",
              "      <td>0</td>\n",
              "      <td>0</td>\n",
              "      <td>3</td>\n",
              "      <td>2</td>\n",
              "      <td>!!! RT @mayasolovely: As a woman you shouldn't...</td>\n",
              "      <td>woman complain cleaning house always take trash</td>\n",
              "    </tr>\n",
              "    <tr>\n",
              "      <th>1</th>\n",
              "      <td>1</td>\n",
              "      <td>3</td>\n",
              "      <td>0</td>\n",
              "      <td>3</td>\n",
              "      <td>0</td>\n",
              "      <td>1</td>\n",
              "      <td>!!!!! RT @mleew17: boy dats cold...tyga dwn ba...</td>\n",
              "      <td>dats cold tyga cuffin place</td>\n",
              "    </tr>\n",
              "    <tr>\n",
              "      <th>2</th>\n",
              "      <td>2</td>\n",
              "      <td>3</td>\n",
              "      <td>0</td>\n",
              "      <td>3</td>\n",
              "      <td>0</td>\n",
              "      <td>1</td>\n",
              "      <td>!!!!!!! RT @UrKindOfBrand Dawg!!!! RT @80sbaby...</td>\n",
              "      <td>dawg ever fuck bitch start confused shit</td>\n",
              "    </tr>\n",
              "    <tr>\n",
              "      <th>3</th>\n",
              "      <td>3</td>\n",
              "      <td>3</td>\n",
              "      <td>0</td>\n",
              "      <td>2</td>\n",
              "      <td>1</td>\n",
              "      <td>1</td>\n",
              "      <td>!!!!!!!!! RT @C_G_Anderson: @viva_based she lo...</td>\n",
              "      <td>look like tranny</td>\n",
              "    </tr>\n",
              "    <tr>\n",
              "      <th>4</th>\n",
              "      <td>4</td>\n",
              "      <td>6</td>\n",
              "      <td>0</td>\n",
              "      <td>6</td>\n",
              "      <td>0</td>\n",
              "      <td>1</td>\n",
              "      <td>!!!!!!!!!!!!! RT @ShenikaRoberts: The shit you...</td>\n",
              "      <td>shit hear might true might faker bitch told</td>\n",
              "    </tr>\n",
              "    <tr>\n",
              "      <th>...</th>\n",
              "      <td>...</td>\n",
              "      <td>...</td>\n",
              "      <td>...</td>\n",
              "      <td>...</td>\n",
              "      <td>...</td>\n",
              "      <td>...</td>\n",
              "      <td>...</td>\n",
              "      <td>...</td>\n",
              "    </tr>\n",
              "    <tr>\n",
              "      <th>24778</th>\n",
              "      <td>25291</td>\n",
              "      <td>3</td>\n",
              "      <td>0</td>\n",
              "      <td>2</td>\n",
              "      <td>1</td>\n",
              "      <td>1</td>\n",
              "      <td>you's a muthaf***in lie &amp;#8220;@LifeAsKing: @2...</td>\n",
              "      <td>muthaf right trash mine bible scriptures hymns</td>\n",
              "    </tr>\n",
              "    <tr>\n",
              "      <th>24779</th>\n",
              "      <td>25292</td>\n",
              "      <td>3</td>\n",
              "      <td>0</td>\n",
              "      <td>1</td>\n",
              "      <td>2</td>\n",
              "      <td>2</td>\n",
              "      <td>you've gone and broke the wrong heart baby, an...</td>\n",
              "      <td>gone broke wrong heart baby drove redneck crazy</td>\n",
              "    </tr>\n",
              "    <tr>\n",
              "      <th>24780</th>\n",
              "      <td>25294</td>\n",
              "      <td>3</td>\n",
              "      <td>0</td>\n",
              "      <td>3</td>\n",
              "      <td>0</td>\n",
              "      <td>1</td>\n",
              "      <td>young buck wanna eat!!.. dat nigguh like I ain...</td>\n",
              "      <td>young buck wanna nigguh like aint fuckin</td>\n",
              "    </tr>\n",
              "    <tr>\n",
              "      <th>24781</th>\n",
              "      <td>25295</td>\n",
              "      <td>6</td>\n",
              "      <td>0</td>\n",
              "      <td>6</td>\n",
              "      <td>0</td>\n",
              "      <td>1</td>\n",
              "      <td>youu got wild bitches tellin you lies</td>\n",
              "      <td>youu wild bitches tellin lies</td>\n",
              "    </tr>\n",
              "    <tr>\n",
              "      <th>24782</th>\n",
              "      <td>25296</td>\n",
              "      <td>3</td>\n",
              "      <td>0</td>\n",
              "      <td>0</td>\n",
              "      <td>3</td>\n",
              "      <td>2</td>\n",
              "      <td>~~Ruffled | Ntac Eileen Dahlia - Beautiful col...</td>\n",
              "      <td>ruffled ntac eileen dahlia beautiful color com...</td>\n",
              "    </tr>\n",
              "  </tbody>\n",
              "</table>\n",
              "<p>24783 rows × 8 columns</p>\n",
              "</div>\n",
              "      <button class=\"colab-df-convert\" onclick=\"convertToInteractive('df-049fb81d-be13-4dea-96f6-b29ea07b2ce5')\"\n",
              "              title=\"Convert this dataframe to an interactive table.\"\n",
              "              style=\"display:none;\">\n",
              "\n",
              "  <svg xmlns=\"http://www.w3.org/2000/svg\" height=\"24px\"viewBox=\"0 0 24 24\"\n",
              "       width=\"24px\">\n",
              "    <path d=\"M0 0h24v24H0V0z\" fill=\"none\"/>\n",
              "    <path d=\"M18.56 5.44l.94 2.06.94-2.06 2.06-.94-2.06-.94-.94-2.06-.94 2.06-2.06.94zm-11 1L8.5 8.5l.94-2.06 2.06-.94-2.06-.94L8.5 2.5l-.94 2.06-2.06.94zm10 10l.94 2.06.94-2.06 2.06-.94-2.06-.94-.94-2.06-.94 2.06-2.06.94z\"/><path d=\"M17.41 7.96l-1.37-1.37c-.4-.4-.92-.59-1.43-.59-.52 0-1.04.2-1.43.59L10.3 9.45l-7.72 7.72c-.78.78-.78 2.05 0 2.83L4 21.41c.39.39.9.59 1.41.59.51 0 1.02-.2 1.41-.59l7.78-7.78 2.81-2.81c.8-.78.8-2.07 0-2.86zM5.41 20L4 18.59l7.72-7.72 1.47 1.35L5.41 20z\"/>\n",
              "  </svg>\n",
              "      </button>\n",
              "\n",
              "\n",
              "\n",
              "    <div id=\"df-560b527c-23bb-41b2-a508-7c167411bd56\">\n",
              "      <button class=\"colab-df-quickchart\" onclick=\"quickchart('df-560b527c-23bb-41b2-a508-7c167411bd56')\"\n",
              "              title=\"Suggest charts.\"\n",
              "              style=\"display:none;\">\n",
              "\n",
              "<svg xmlns=\"http://www.w3.org/2000/svg\" height=\"24px\"viewBox=\"0 0 24 24\"\n",
              "     width=\"24px\">\n",
              "    <g>\n",
              "        <path d=\"M19 3H5c-1.1 0-2 .9-2 2v14c0 1.1.9 2 2 2h14c1.1 0 2-.9 2-2V5c0-1.1-.9-2-2-2zM9 17H7v-7h2v7zm4 0h-2V7h2v10zm4 0h-2v-4h2v4z\"/>\n",
              "    </g>\n",
              "</svg>\n",
              "      </button>\n",
              "    </div>\n",
              "\n",
              "<style>\n",
              "  .colab-df-quickchart {\n",
              "    background-color: #E8F0FE;\n",
              "    border: none;\n",
              "    border-radius: 50%;\n",
              "    cursor: pointer;\n",
              "    display: none;\n",
              "    fill: #1967D2;\n",
              "    height: 32px;\n",
              "    padding: 0 0 0 0;\n",
              "    width: 32px;\n",
              "  }\n",
              "\n",
              "  .colab-df-quickchart:hover {\n",
              "    background-color: #E2EBFA;\n",
              "    box-shadow: 0px 1px 2px rgba(60, 64, 67, 0.3), 0px 1px 3px 1px rgba(60, 64, 67, 0.15);\n",
              "    fill: #174EA6;\n",
              "  }\n",
              "\n",
              "  [theme=dark] .colab-df-quickchart {\n",
              "    background-color: #3B4455;\n",
              "    fill: #D2E3FC;\n",
              "  }\n",
              "\n",
              "  [theme=dark] .colab-df-quickchart:hover {\n",
              "    background-color: #434B5C;\n",
              "    box-shadow: 0px 1px 3px 1px rgba(0, 0, 0, 0.15);\n",
              "    filter: drop-shadow(0px 1px 2px rgba(0, 0, 0, 0.3));\n",
              "    fill: #FFFFFF;\n",
              "  }\n",
              "</style>\n",
              "\n",
              "    <script>\n",
              "      async function quickchart(key) {\n",
              "        const containerElement = document.querySelector('#' + key);\n",
              "        const charts = await google.colab.kernel.invokeFunction(\n",
              "            'suggestCharts', [key], {});\n",
              "      }\n",
              "    </script>\n",
              "\n",
              "      <script>\n",
              "\n",
              "function displayQuickchartButton(domScope) {\n",
              "  let quickchartButtonEl =\n",
              "    domScope.querySelector('#df-560b527c-23bb-41b2-a508-7c167411bd56 button.colab-df-quickchart');\n",
              "  quickchartButtonEl.style.display =\n",
              "    google.colab.kernel.accessAllowed ? 'block' : 'none';\n",
              "}\n",
              "\n",
              "        displayQuickchartButton(document);\n",
              "      </script>\n",
              "      <style>\n",
              "    .colab-df-container {\n",
              "      display:flex;\n",
              "      flex-wrap:wrap;\n",
              "      gap: 12px;\n",
              "    }\n",
              "\n",
              "    .colab-df-convert {\n",
              "      background-color: #E8F0FE;\n",
              "      border: none;\n",
              "      border-radius: 50%;\n",
              "      cursor: pointer;\n",
              "      display: none;\n",
              "      fill: #1967D2;\n",
              "      height: 32px;\n",
              "      padding: 0 0 0 0;\n",
              "      width: 32px;\n",
              "    }\n",
              "\n",
              "    .colab-df-convert:hover {\n",
              "      background-color: #E2EBFA;\n",
              "      box-shadow: 0px 1px 2px rgba(60, 64, 67, 0.3), 0px 1px 3px 1px rgba(60, 64, 67, 0.15);\n",
              "      fill: #174EA6;\n",
              "    }\n",
              "\n",
              "    [theme=dark] .colab-df-convert {\n",
              "      background-color: #3B4455;\n",
              "      fill: #D2E3FC;\n",
              "    }\n",
              "\n",
              "    [theme=dark] .colab-df-convert:hover {\n",
              "      background-color: #434B5C;\n",
              "      box-shadow: 0px 1px 3px 1px rgba(0, 0, 0, 0.15);\n",
              "      filter: drop-shadow(0px 1px 2px rgba(0, 0, 0, 0.3));\n",
              "      fill: #FFFFFF;\n",
              "    }\n",
              "  </style>\n",
              "\n",
              "      <script>\n",
              "        const buttonEl =\n",
              "          document.querySelector('#df-049fb81d-be13-4dea-96f6-b29ea07b2ce5 button.colab-df-convert');\n",
              "        buttonEl.style.display =\n",
              "          google.colab.kernel.accessAllowed ? 'block' : 'none';\n",
              "\n",
              "        async function convertToInteractive(key) {\n",
              "          const element = document.querySelector('#df-049fb81d-be13-4dea-96f6-b29ea07b2ce5');\n",
              "          const dataTable =\n",
              "            await google.colab.kernel.invokeFunction('convertToInteractive',\n",
              "                                                     [key], {});\n",
              "          if (!dataTable) return;\n",
              "\n",
              "          const docLinkHtml = 'Like what you see? Visit the ' +\n",
              "            '<a target=\"_blank\" href=https://colab.research.google.com/notebooks/data_table.ipynb>data table notebook</a>'\n",
              "            + ' to learn more about interactive tables.';\n",
              "          element.innerHTML = '';\n",
              "          dataTable['output_type'] = 'display_data';\n",
              "          await google.colab.output.renderOutput(dataTable, element);\n",
              "          const docLink = document.createElement('div');\n",
              "          docLink.innerHTML = docLinkHtml;\n",
              "          element.appendChild(docLink);\n",
              "        }\n",
              "      </script>\n",
              "    </div>\n",
              "  </div>\n"
            ],
            "text/plain": [
              "       Unnamed: 0  count  hate_speech  offensive_language  neither  class  \\\n",
              "0               0      3            0                   0        3      2   \n",
              "1               1      3            0                   3        0      1   \n",
              "2               2      3            0                   3        0      1   \n",
              "3               3      3            0                   2        1      1   \n",
              "4               4      6            0                   6        0      1   \n",
              "...           ...    ...          ...                 ...      ...    ...   \n",
              "24778       25291      3            0                   2        1      1   \n",
              "24779       25292      3            0                   1        2      2   \n",
              "24780       25294      3            0                   3        0      1   \n",
              "24781       25295      6            0                   6        0      1   \n",
              "24782       25296      3            0                   0        3      2   \n",
              "\n",
              "                                                   tweet  \\\n",
              "0      !!! RT @mayasolovely: As a woman you shouldn't...   \n",
              "1      !!!!! RT @mleew17: boy dats cold...tyga dwn ba...   \n",
              "2      !!!!!!! RT @UrKindOfBrand Dawg!!!! RT @80sbaby...   \n",
              "3      !!!!!!!!! RT @C_G_Anderson: @viva_based she lo...   \n",
              "4      !!!!!!!!!!!!! RT @ShenikaRoberts: The shit you...   \n",
              "...                                                  ...   \n",
              "24778  you's a muthaf***in lie &#8220;@LifeAsKing: @2...   \n",
              "24779  you've gone and broke the wrong heart baby, an...   \n",
              "24780  young buck wanna eat!!.. dat nigguh like I ain...   \n",
              "24781              youu got wild bitches tellin you lies   \n",
              "24782  ~~Ruffled | Ntac Eileen Dahlia - Beautiful col...   \n",
              "\n",
              "                                            Cleaned_text  \n",
              "0        woman complain cleaning house always take trash  \n",
              "1                            dats cold tyga cuffin place  \n",
              "2               dawg ever fuck bitch start confused shit  \n",
              "3                                       look like tranny  \n",
              "4            shit hear might true might faker bitch told  \n",
              "...                                                  ...  \n",
              "24778     muthaf right trash mine bible scriptures hymns  \n",
              "24779    gone broke wrong heart baby drove redneck crazy  \n",
              "24780           young buck wanna nigguh like aint fuckin  \n",
              "24781                      youu wild bitches tellin lies  \n",
              "24782  ruffled ntac eileen dahlia beautiful color com...  \n",
              "\n",
              "[24783 rows x 8 columns]"
            ]
          },
          "execution_count": 9,
          "metadata": {},
          "output_type": "execute_result"
        }
      ],
      "source": [
        "dataset['Cleaned_text'] = Cleaned_doc\n",
        "dataset"
      ]
    },
    {
      "cell_type": "code",
      "execution_count": 10,
      "id": "OhPDDmGNARIV",
      "metadata": {
        "id": "OhPDDmGNARIV"
      },
      "outputs": [],
      "source": [
        "dataset['tokenized_text'] = dataset['Cleaned_text'].apply(word_tokenize)"
      ]
    },
    {
      "cell_type": "code",
      "execution_count": 11,
      "id": "trGk09ZdAGej",
      "metadata": {
        "id": "trGk09ZdAGej"
      },
      "outputs": [],
      "source": [
        "dataset['tokenized_text'] = dataset['tokenized_text'].apply(lambda tokens: [re.sub(r'[^A-Za-z]', '', token) for token in tokens])"
      ]
    },
    {
      "cell_type": "code",
      "execution_count": 12,
      "id": "DNQjSVkPAGg3",
      "metadata": {
        "id": "DNQjSVkPAGg3"
      },
      "outputs": [],
      "source": [
        "## Remove empty strings from the tweet column\n",
        "dataset['tokenized_text'] = [[word for word in article if word != ''] for article in dataset['tokenized_text']]"
      ]
    },
    {
      "cell_type": "code",
      "execution_count": 13,
      "id": "FVYGCeNrAGjN",
      "metadata": {
        "id": "FVYGCeNrAGjN"
      },
      "outputs": [],
      "source": [
        "# Remove One letter token\n",
        "dataset['tokenized_text'] = dataset['tokenized_text'].apply(lambda tokens: [token for token in tokens if len(token) > 1])"
      ]
    },
    {
      "cell_type": "code",
      "execution_count": 14,
      "id": "kIItEOD0J9j9",
      "metadata": {
        "colab": {
          "base_uri": "https://localhost:8080/"
        },
        "id": "kIItEOD0J9j9",
        "outputId": "e6efc067-cd26-4985-dace-2b2329b97e7a"
      },
      "outputs": [
        {
          "data": {
            "text/plain": [
              "Unnamed: 0            0\n",
              "count                 0\n",
              "hate_speech           0\n",
              "offensive_language    0\n",
              "neither               0\n",
              "class                 0\n",
              "tweet                 0\n",
              "Cleaned_text          0\n",
              "tokenized_text        0\n",
              "dtype: int64"
            ]
          },
          "execution_count": 14,
          "metadata": {},
          "output_type": "execute_result"
        }
      ],
      "source": [
        "## Check whether there any missing rows or not\n",
        "dataset.isna().sum() ## No missing values in the dataset"
      ]
    },
    {
      "cell_type": "code",
      "execution_count": 15,
      "id": "7WS_JTYAJ9p6",
      "metadata": {
        "colab": {
          "base_uri": "https://localhost:8080/"
        },
        "id": "7WS_JTYAJ9p6",
        "outputId": "1f55813a-7e35-4d26-efd8-9e0b220119f2"
      },
      "outputs": [
        {
          "data": {
            "text/plain": [
              "1695"
            ]
          },
          "execution_count": 15,
          "metadata": {},
          "output_type": "execute_result"
        }
      ],
      "source": [
        "## Check for the duplicates\n",
        "dataset['Cleaned_text'].duplicated().sum()"
      ]
    },
    {
      "cell_type": "code",
      "execution_count": 16,
      "id": "b8HPHOHnL3uQ",
      "metadata": {
        "id": "b8HPHOHnL3uQ"
      },
      "outputs": [],
      "source": [
        "## Drop all the duplicates\n",
        "dataset.drop_duplicates(subset = ['Cleaned_text'], inplace=True)"
      ]
    },
    {
      "cell_type": "code",
      "execution_count": 17,
      "id": "j3TJfV_oMMbF",
      "metadata": {
        "colab": {
          "base_uri": "https://localhost:8080/",
          "height": 624
        },
        "id": "j3TJfV_oMMbF",
        "outputId": "bec55128-c1b7-49f3-c618-2444e11ab5f5"
      },
      "outputs": [
        {
          "data": {
            "text/html": [
              "\n",
              "\n",
              "  <div id=\"df-bdb6efab-457b-4dbc-bc6b-702fc1f5719f\">\n",
              "    <div class=\"colab-df-container\">\n",
              "      <div>\n",
              "<style scoped>\n",
              "    .dataframe tbody tr th:only-of-type {\n",
              "        vertical-align: middle;\n",
              "    }\n",
              "\n",
              "    .dataframe tbody tr th {\n",
              "        vertical-align: top;\n",
              "    }\n",
              "\n",
              "    .dataframe thead th {\n",
              "        text-align: right;\n",
              "    }\n",
              "</style>\n",
              "<table border=\"1\" class=\"dataframe\">\n",
              "  <thead>\n",
              "    <tr style=\"text-align: right;\">\n",
              "      <th></th>\n",
              "      <th>count</th>\n",
              "      <th>hate_speech</th>\n",
              "      <th>offensive_language</th>\n",
              "      <th>neither</th>\n",
              "      <th>class</th>\n",
              "      <th>tweet</th>\n",
              "      <th>Cleaned_text</th>\n",
              "      <th>tokenized_text</th>\n",
              "    </tr>\n",
              "  </thead>\n",
              "  <tbody>\n",
              "    <tr>\n",
              "      <th>0</th>\n",
              "      <td>3</td>\n",
              "      <td>0</td>\n",
              "      <td>0</td>\n",
              "      <td>3</td>\n",
              "      <td>2</td>\n",
              "      <td>!!! RT @mayasolovely: As a woman you shouldn't...</td>\n",
              "      <td>woman complain cleaning house always take trash</td>\n",
              "      <td>[woman, complain, cleaning, house, always, tak...</td>\n",
              "    </tr>\n",
              "    <tr>\n",
              "      <th>1</th>\n",
              "      <td>3</td>\n",
              "      <td>0</td>\n",
              "      <td>3</td>\n",
              "      <td>0</td>\n",
              "      <td>1</td>\n",
              "      <td>!!!!! RT @mleew17: boy dats cold...tyga dwn ba...</td>\n",
              "      <td>dats cold tyga cuffin place</td>\n",
              "      <td>[dats, cold, tyga, cuffin, place]</td>\n",
              "    </tr>\n",
              "    <tr>\n",
              "      <th>2</th>\n",
              "      <td>3</td>\n",
              "      <td>0</td>\n",
              "      <td>3</td>\n",
              "      <td>0</td>\n",
              "      <td>1</td>\n",
              "      <td>!!!!!!! RT @UrKindOfBrand Dawg!!!! RT @80sbaby...</td>\n",
              "      <td>dawg ever fuck bitch start confused shit</td>\n",
              "      <td>[dawg, ever, fuck, bitch, start, confused, shit]</td>\n",
              "    </tr>\n",
              "    <tr>\n",
              "      <th>3</th>\n",
              "      <td>3</td>\n",
              "      <td>0</td>\n",
              "      <td>2</td>\n",
              "      <td>1</td>\n",
              "      <td>1</td>\n",
              "      <td>!!!!!!!!! RT @C_G_Anderson: @viva_based she lo...</td>\n",
              "      <td>look like tranny</td>\n",
              "      <td>[look, like, tranny]</td>\n",
              "    </tr>\n",
              "    <tr>\n",
              "      <th>4</th>\n",
              "      <td>6</td>\n",
              "      <td>0</td>\n",
              "      <td>6</td>\n",
              "      <td>0</td>\n",
              "      <td>1</td>\n",
              "      <td>!!!!!!!!!!!!! RT @ShenikaRoberts: The shit you...</td>\n",
              "      <td>shit hear might true might faker bitch told</td>\n",
              "      <td>[shit, hear, might, true, might, faker, bitch,...</td>\n",
              "    </tr>\n",
              "    <tr>\n",
              "      <th>...</th>\n",
              "      <td>...</td>\n",
              "      <td>...</td>\n",
              "      <td>...</td>\n",
              "      <td>...</td>\n",
              "      <td>...</td>\n",
              "      <td>...</td>\n",
              "      <td>...</td>\n",
              "      <td>...</td>\n",
              "    </tr>\n",
              "    <tr>\n",
              "      <th>23083</th>\n",
              "      <td>3</td>\n",
              "      <td>0</td>\n",
              "      <td>2</td>\n",
              "      <td>1</td>\n",
              "      <td>1</td>\n",
              "      <td>you's a muthaf***in lie &amp;#8220;@LifeAsKing: @2...</td>\n",
              "      <td>muthaf right trash mine bible scriptures hymns</td>\n",
              "      <td>[muthaf, right, trash, mine, bible, scriptures...</td>\n",
              "    </tr>\n",
              "    <tr>\n",
              "      <th>23084</th>\n",
              "      <td>3</td>\n",
              "      <td>0</td>\n",
              "      <td>1</td>\n",
              "      <td>2</td>\n",
              "      <td>2</td>\n",
              "      <td>you've gone and broke the wrong heart baby, an...</td>\n",
              "      <td>gone broke wrong heart baby drove redneck crazy</td>\n",
              "      <td>[gone, broke, wrong, heart, baby, drove, redne...</td>\n",
              "    </tr>\n",
              "    <tr>\n",
              "      <th>23085</th>\n",
              "      <td>3</td>\n",
              "      <td>0</td>\n",
              "      <td>3</td>\n",
              "      <td>0</td>\n",
              "      <td>1</td>\n",
              "      <td>young buck wanna eat!!.. dat nigguh like I ain...</td>\n",
              "      <td>young buck wanna nigguh like aint fuckin</td>\n",
              "      <td>[young, buck, wan, na, nigguh, like, aint, fuc...</td>\n",
              "    </tr>\n",
              "    <tr>\n",
              "      <th>23086</th>\n",
              "      <td>6</td>\n",
              "      <td>0</td>\n",
              "      <td>6</td>\n",
              "      <td>0</td>\n",
              "      <td>1</td>\n",
              "      <td>youu got wild bitches tellin you lies</td>\n",
              "      <td>youu wild bitches tellin lies</td>\n",
              "      <td>[youu, wild, bitches, tellin, lies]</td>\n",
              "    </tr>\n",
              "    <tr>\n",
              "      <th>23087</th>\n",
              "      <td>3</td>\n",
              "      <td>0</td>\n",
              "      <td>0</td>\n",
              "      <td>3</td>\n",
              "      <td>2</td>\n",
              "      <td>~~Ruffled | Ntac Eileen Dahlia - Beautiful col...</td>\n",
              "      <td>ruffled ntac eileen dahlia beautiful color com...</td>\n",
              "      <td>[ruffled, ntac, eileen, dahlia, beautiful, col...</td>\n",
              "    </tr>\n",
              "  </tbody>\n",
              "</table>\n",
              "<p>23088 rows × 8 columns</p>\n",
              "</div>\n",
              "      <button class=\"colab-df-convert\" onclick=\"convertToInteractive('df-bdb6efab-457b-4dbc-bc6b-702fc1f5719f')\"\n",
              "              title=\"Convert this dataframe to an interactive table.\"\n",
              "              style=\"display:none;\">\n",
              "\n",
              "  <svg xmlns=\"http://www.w3.org/2000/svg\" height=\"24px\"viewBox=\"0 0 24 24\"\n",
              "       width=\"24px\">\n",
              "    <path d=\"M0 0h24v24H0V0z\" fill=\"none\"/>\n",
              "    <path d=\"M18.56 5.44l.94 2.06.94-2.06 2.06-.94-2.06-.94-.94-2.06-.94 2.06-2.06.94zm-11 1L8.5 8.5l.94-2.06 2.06-.94-2.06-.94L8.5 2.5l-.94 2.06-2.06.94zm10 10l.94 2.06.94-2.06 2.06-.94-2.06-.94-.94-2.06-.94 2.06-2.06.94z\"/><path d=\"M17.41 7.96l-1.37-1.37c-.4-.4-.92-.59-1.43-.59-.52 0-1.04.2-1.43.59L10.3 9.45l-7.72 7.72c-.78.78-.78 2.05 0 2.83L4 21.41c.39.39.9.59 1.41.59.51 0 1.02-.2 1.41-.59l7.78-7.78 2.81-2.81c.8-.78.8-2.07 0-2.86zM5.41 20L4 18.59l7.72-7.72 1.47 1.35L5.41 20z\"/>\n",
              "  </svg>\n",
              "      </button>\n",
              "\n",
              "\n",
              "\n",
              "    <div id=\"df-3f9b98d7-cb5f-4eb4-829c-567747b7ad92\">\n",
              "      <button class=\"colab-df-quickchart\" onclick=\"quickchart('df-3f9b98d7-cb5f-4eb4-829c-567747b7ad92')\"\n",
              "              title=\"Suggest charts.\"\n",
              "              style=\"display:none;\">\n",
              "\n",
              "<svg xmlns=\"http://www.w3.org/2000/svg\" height=\"24px\"viewBox=\"0 0 24 24\"\n",
              "     width=\"24px\">\n",
              "    <g>\n",
              "        <path d=\"M19 3H5c-1.1 0-2 .9-2 2v14c0 1.1.9 2 2 2h14c1.1 0 2-.9 2-2V5c0-1.1-.9-2-2-2zM9 17H7v-7h2v7zm4 0h-2V7h2v10zm4 0h-2v-4h2v4z\"/>\n",
              "    </g>\n",
              "</svg>\n",
              "      </button>\n",
              "    </div>\n",
              "\n",
              "<style>\n",
              "  .colab-df-quickchart {\n",
              "    background-color: #E8F0FE;\n",
              "    border: none;\n",
              "    border-radius: 50%;\n",
              "    cursor: pointer;\n",
              "    display: none;\n",
              "    fill: #1967D2;\n",
              "    height: 32px;\n",
              "    padding: 0 0 0 0;\n",
              "    width: 32px;\n",
              "  }\n",
              "\n",
              "  .colab-df-quickchart:hover {\n",
              "    background-color: #E2EBFA;\n",
              "    box-shadow: 0px 1px 2px rgba(60, 64, 67, 0.3), 0px 1px 3px 1px rgba(60, 64, 67, 0.15);\n",
              "    fill: #174EA6;\n",
              "  }\n",
              "\n",
              "  [theme=dark] .colab-df-quickchart {\n",
              "    background-color: #3B4455;\n",
              "    fill: #D2E3FC;\n",
              "  }\n",
              "\n",
              "  [theme=dark] .colab-df-quickchart:hover {\n",
              "    background-color: #434B5C;\n",
              "    box-shadow: 0px 1px 3px 1px rgba(0, 0, 0, 0.15);\n",
              "    filter: drop-shadow(0px 1px 2px rgba(0, 0, 0, 0.3));\n",
              "    fill: #FFFFFF;\n",
              "  }\n",
              "</style>\n",
              "\n",
              "    <script>\n",
              "      async function quickchart(key) {\n",
              "        const containerElement = document.querySelector('#' + key);\n",
              "        const charts = await google.colab.kernel.invokeFunction(\n",
              "            'suggestCharts', [key], {});\n",
              "      }\n",
              "    </script>\n",
              "\n",
              "      <script>\n",
              "\n",
              "function displayQuickchartButton(domScope) {\n",
              "  let quickchartButtonEl =\n",
              "    domScope.querySelector('#df-3f9b98d7-cb5f-4eb4-829c-567747b7ad92 button.colab-df-quickchart');\n",
              "  quickchartButtonEl.style.display =\n",
              "    google.colab.kernel.accessAllowed ? 'block' : 'none';\n",
              "}\n",
              "\n",
              "        displayQuickchartButton(document);\n",
              "      </script>\n",
              "      <style>\n",
              "    .colab-df-container {\n",
              "      display:flex;\n",
              "      flex-wrap:wrap;\n",
              "      gap: 12px;\n",
              "    }\n",
              "\n",
              "    .colab-df-convert {\n",
              "      background-color: #E8F0FE;\n",
              "      border: none;\n",
              "      border-radius: 50%;\n",
              "      cursor: pointer;\n",
              "      display: none;\n",
              "      fill: #1967D2;\n",
              "      height: 32px;\n",
              "      padding: 0 0 0 0;\n",
              "      width: 32px;\n",
              "    }\n",
              "\n",
              "    .colab-df-convert:hover {\n",
              "      background-color: #E2EBFA;\n",
              "      box-shadow: 0px 1px 2px rgba(60, 64, 67, 0.3), 0px 1px 3px 1px rgba(60, 64, 67, 0.15);\n",
              "      fill: #174EA6;\n",
              "    }\n",
              "\n",
              "    [theme=dark] .colab-df-convert {\n",
              "      background-color: #3B4455;\n",
              "      fill: #D2E3FC;\n",
              "    }\n",
              "\n",
              "    [theme=dark] .colab-df-convert:hover {\n",
              "      background-color: #434B5C;\n",
              "      box-shadow: 0px 1px 3px 1px rgba(0, 0, 0, 0.15);\n",
              "      filter: drop-shadow(0px 1px 2px rgba(0, 0, 0, 0.3));\n",
              "      fill: #FFFFFF;\n",
              "    }\n",
              "  </style>\n",
              "\n",
              "      <script>\n",
              "        const buttonEl =\n",
              "          document.querySelector('#df-bdb6efab-457b-4dbc-bc6b-702fc1f5719f button.colab-df-convert');\n",
              "        buttonEl.style.display =\n",
              "          google.colab.kernel.accessAllowed ? 'block' : 'none';\n",
              "\n",
              "        async function convertToInteractive(key) {\n",
              "          const element = document.querySelector('#df-bdb6efab-457b-4dbc-bc6b-702fc1f5719f');\n",
              "          const dataTable =\n",
              "            await google.colab.kernel.invokeFunction('convertToInteractive',\n",
              "                                                     [key], {});\n",
              "          if (!dataTable) return;\n",
              "\n",
              "          const docLinkHtml = 'Like what you see? Visit the ' +\n",
              "            '<a target=\"_blank\" href=https://colab.research.google.com/notebooks/data_table.ipynb>data table notebook</a>'\n",
              "            + ' to learn more about interactive tables.';\n",
              "          element.innerHTML = '';\n",
              "          dataTable['output_type'] = 'display_data';\n",
              "          await google.colab.output.renderOutput(dataTable, element);\n",
              "          const docLink = document.createElement('div');\n",
              "          docLink.innerHTML = docLinkHtml;\n",
              "          element.appendChild(docLink);\n",
              "        }\n",
              "      </script>\n",
              "    </div>\n",
              "  </div>\n"
            ],
            "text/plain": [
              "       count  hate_speech  offensive_language  neither  class  \\\n",
              "0          3            0                   0        3      2   \n",
              "1          3            0                   3        0      1   \n",
              "2          3            0                   3        0      1   \n",
              "3          3            0                   2        1      1   \n",
              "4          6            0                   6        0      1   \n",
              "...      ...          ...                 ...      ...    ...   \n",
              "23083      3            0                   2        1      1   \n",
              "23084      3            0                   1        2      2   \n",
              "23085      3            0                   3        0      1   \n",
              "23086      6            0                   6        0      1   \n",
              "23087      3            0                   0        3      2   \n",
              "\n",
              "                                                   tweet  \\\n",
              "0      !!! RT @mayasolovely: As a woman you shouldn't...   \n",
              "1      !!!!! RT @mleew17: boy dats cold...tyga dwn ba...   \n",
              "2      !!!!!!! RT @UrKindOfBrand Dawg!!!! RT @80sbaby...   \n",
              "3      !!!!!!!!! RT @C_G_Anderson: @viva_based she lo...   \n",
              "4      !!!!!!!!!!!!! RT @ShenikaRoberts: The shit you...   \n",
              "...                                                  ...   \n",
              "23083  you's a muthaf***in lie &#8220;@LifeAsKing: @2...   \n",
              "23084  you've gone and broke the wrong heart baby, an...   \n",
              "23085  young buck wanna eat!!.. dat nigguh like I ain...   \n",
              "23086              youu got wild bitches tellin you lies   \n",
              "23087  ~~Ruffled | Ntac Eileen Dahlia - Beautiful col...   \n",
              "\n",
              "                                            Cleaned_text  \\\n",
              "0        woman complain cleaning house always take trash   \n",
              "1                            dats cold tyga cuffin place   \n",
              "2               dawg ever fuck bitch start confused shit   \n",
              "3                                       look like tranny   \n",
              "4            shit hear might true might faker bitch told   \n",
              "...                                                  ...   \n",
              "23083     muthaf right trash mine bible scriptures hymns   \n",
              "23084    gone broke wrong heart baby drove redneck crazy   \n",
              "23085           young buck wanna nigguh like aint fuckin   \n",
              "23086                      youu wild bitches tellin lies   \n",
              "23087  ruffled ntac eileen dahlia beautiful color com...   \n",
              "\n",
              "                                          tokenized_text  \n",
              "0      [woman, complain, cleaning, house, always, tak...  \n",
              "1                      [dats, cold, tyga, cuffin, place]  \n",
              "2       [dawg, ever, fuck, bitch, start, confused, shit]  \n",
              "3                                   [look, like, tranny]  \n",
              "4      [shit, hear, might, true, might, faker, bitch,...  \n",
              "...                                                  ...  \n",
              "23083  [muthaf, right, trash, mine, bible, scriptures...  \n",
              "23084  [gone, broke, wrong, heart, baby, drove, redne...  \n",
              "23085  [young, buck, wan, na, nigguh, like, aint, fuc...  \n",
              "23086                [youu, wild, bitches, tellin, lies]  \n",
              "23087  [ruffled, ntac, eileen, dahlia, beautiful, col...  \n",
              "\n",
              "[23088 rows x 8 columns]"
            ]
          },
          "execution_count": 17,
          "metadata": {},
          "output_type": "execute_result"
        }
      ],
      "source": [
        "dataset = dataset.reset_index()\n",
        "dataset = dataset.drop(columns = ['index' , 'Unnamed: 0'])\n",
        "dataset"
      ]
    },
    {
      "cell_type": "markdown",
      "id": "cmOPmEENb8H3",
      "metadata": {
        "id": "cmOPmEENb8H3"
      },
      "source": [
        "### *Word Frequency Analysis*"
      ]
    },
    {
      "cell_type": "code",
      "execution_count": 18,
      "id": "GgSIUK9Vb0N3",
      "metadata": {
        "colab": {
          "base_uri": "https://localhost:8080/"
        },
        "id": "GgSIUK9Vb0N3",
        "outputId": "460fca16-1587-407d-d2bb-b5c07b1a60fc"
      },
      "outputs": [
        {
          "name": "stdout",
          "output_type": "stream",
          "text": [
            "bitch: 7708\n",
            "bitches: 2959\n",
            "like: 2723\n",
            "hoes: 2210\n",
            "pussy: 1980\n",
            "fuck: 1342\n",
            "shit: 1258\n",
            "nigga: 1191\n",
            "trash: 1095\n",
            "know: 795\n"
          ]
        }
      ],
      "source": [
        "# Flatten the list of tweet into a single list\n",
        "articles = [word for sublist in dataset['tokenized_text'] for word in sublist]\n",
        "\n",
        "# Count the frequency of each word\n",
        "word_frequency = Counter(articles)\n",
        "\n",
        "# Get the top 10 most common words\n",
        "top_words = word_frequency.most_common(10)\n",
        "\n",
        "# Print the top 10 words and their frequencies\n",
        "for word, frequency in top_words:\n",
        "    print(f\"{word}: {frequency}\")"
      ]
    },
    {
      "cell_type": "code",
      "execution_count": 19,
      "id": "2Mjk6oIPcGyh",
      "metadata": {
        "colab": {
          "base_uri": "https://localhost:8080/",
          "height": 519
        },
        "id": "2Mjk6oIPcGyh",
        "outputId": "3c4cc0e6-0158-42ee-a0f6-234f9fb16391"
      },
      "outputs": [
        {
          "data": {
            "image/png": "[encoded data removed]",
            "text/plain": [
              "<Figure size 1000x500 with 1 Axes>"
            ]
          },
          "metadata": {},
          "output_type": "display_data"
        }
      ],
      "source": [
        "# Flatten the list of articles\n",
        "flattened_list = list(itertools.chain.from_iterable(dataset['tokenized_text']))\n",
        "\n",
        "# Calculate word frequency\n",
        "freq_dist = FreqDist(flattened_list)\n",
        "\n",
        "# Select top n words\n",
        "top_words = freq_dist.most_common(10)\n",
        "\n",
        "# Extract words and frequencies\n",
        "words, frequencies = zip(*top_words)\n",
        "\n",
        "# Plot bar chart\n",
        "plt.figure(figsize=(10, 5))\n",
        "plt.bar(words, frequencies)\n",
        "plt.xlabel('Words')\n",
        "plt.ylabel('Frequency')\n",
        "plt.title('Top 10 Most Common Words')\n",
        "plt.xticks(rotation=45)\n",
        "plt.show()\n"
      ]
    },
    {
      "cell_type": "markdown",
      "id": "JamODw6YfuXu",
      "metadata": {
        "id": "JamODw6YfuXu"
      },
      "source": [
        "### *Document length Analysis*"
      ]
    },
    {
      "cell_type": "code",
      "execution_count": 20,
      "id": "4si3OytCgcC_",
      "metadata": {
        "colab": {
          "base_uri": "https://localhost:8080/"
        },
        "id": "4si3OytCgcC_",
        "outputId": "26d8e579-943e-43e2-9c50-8b40078b46b0"
      },
      "outputs": [
        {
          "name": "stdout",
          "output_type": "stream",
          "text": [
            "count    23088.000000\n",
            "mean         6.193780\n",
            "std          3.063576\n",
            "min          0.000000\n",
            "25%          4.000000\n",
            "50%          6.000000\n",
            "75%          8.000000\n",
            "max         21.000000\n",
            "Name: tokenized_text, dtype: float64\n"
          ]
        }
      ],
      "source": [
        "# Compute the length of each document\n",
        "document_lengths = dataset['tokenized_text'].apply(len)\n",
        "\n",
        "# Get descriptive statistics of document lengths\n",
        "print(document_lengths.describe())\n"
      ]
    },
    {
      "cell_type": "code",
      "execution_count": 21,
      "id": "9ieDoLSrFJeC",
      "metadata": {
        "colab": {
          "base_uri": "https://localhost:8080/",
          "height": 501
        },
        "id": "9ieDoLSrFJeC",
        "outputId": "da5c8695-07e0-4a97-a153-2fe3acb0d1aa"
      },
      "outputs": [
        {
          "data": {
            "image/png": "[encoded data removed]",
            "text/plain": [
              "<Figure size 640x480 with 1 Axes>"
            ]
          },
          "metadata": {},
          "output_type": "display_data"
        },
        {
          "data": {
            "text/plain": [
              "<Figure size 800x600 with 0 Axes>"
            ]
          },
          "metadata": {},
          "output_type": "display_data"
        }
      ],
      "source": [
        "import seaborn as sns\n",
        "\n",
        "# Define a custom color palette\n",
        "custom_palette = [\"#1f77b4\", \"#ff7f0e\"]\n",
        "\n",
        "# Set the style of the plot\n",
        "sns.set(style=\"whitegrid\")\n",
        "\n",
        "# Create the countplot with the custom color palette\n",
        "sns.countplot(x='class', data=dataset, palette=custom_palette)\n",
        "\n",
        "# Add labels and title\n",
        "plt.xlabel(\"Class\")\n",
        "plt.ylabel(\"Count\")\n",
        "plt.title(\"Counts of Offensive and Non-offensive Classes\")\n",
        "\n",
        "# Rotate x-axis labels for better readability\n",
        "plt.xticks(rotation=45)\n",
        "\n",
        "# Set the figure size (width, height) in inches\n",
        "plt.figure(figsize=(8, 6))\n",
        "\n",
        "# Show the plot\n",
        "plt.show()\n"
      ]
    },
    {
      "cell_type": "markdown",
      "id": "8zU_WccZGk0t",
      "metadata": {
        "id": "8zU_WccZGk0t"
      },
      "source": [
        "### **Change the class label**"
      ]
    },
    {
      "cell_type": "code",
      "execution_count": 22,
      "id": "Q7eASN7TFJgo",
      "metadata": {
        "colab": {
          "base_uri": "https://localhost:8080/",
          "height": 641
        },
        "id": "Q7eASN7TFJgo",
        "outputId": "72074c0a-71fa-4348-ca34-4e23ac9a17e3"
      },
      "outputs": [
        {
          "data": {
            "text/html": [
              "\n",
              "\n",
              "  <div id=\"df-b9d98d5c-8ad4-4fee-a891-905812b299c1\">\n",
              "    <div class=\"colab-df-container\">\n",
              "      <div>\n",
              "<style scoped>\n",
              "    .dataframe tbody tr th:only-of-type {\n",
              "        vertical-align: middle;\n",
              "    }\n",
              "\n",
              "    .dataframe tbody tr th {\n",
              "        vertical-align: top;\n",
              "    }\n",
              "\n",
              "    .dataframe thead th {\n",
              "        text-align: right;\n",
              "    }\n",
              "</style>\n",
              "<table border=\"1\" class=\"dataframe\">\n",
              "  <thead>\n",
              "    <tr style=\"text-align: right;\">\n",
              "      <th></th>\n",
              "      <th>count</th>\n",
              "      <th>hate_speech</th>\n",
              "      <th>offensive_language</th>\n",
              "      <th>neither</th>\n",
              "      <th>class</th>\n",
              "      <th>tweet</th>\n",
              "      <th>Cleaned_text</th>\n",
              "      <th>tokenized_text</th>\n",
              "      <th>updated_class</th>\n",
              "    </tr>\n",
              "  </thead>\n",
              "  <tbody>\n",
              "    <tr>\n",
              "      <th>0</th>\n",
              "      <td>3</td>\n",
              "      <td>0</td>\n",
              "      <td>0</td>\n",
              "      <td>3</td>\n",
              "      <td>2</td>\n",
              "      <td>!!! RT @mayasolovely: As a woman you shouldn't...</td>\n",
              "      <td>woman complain cleaning house always take trash</td>\n",
              "      <td>[woman, complain, cleaning, house, always, tak...</td>\n",
              "      <td>2</td>\n",
              "    </tr>\n",
              "    <tr>\n",
              "      <th>1</th>\n",
              "      <td>3</td>\n",
              "      <td>0</td>\n",
              "      <td>3</td>\n",
              "      <td>0</td>\n",
              "      <td>1</td>\n",
              "      <td>!!!!! RT @mleew17: boy dats cold...tyga dwn ba...</td>\n",
              "      <td>dats cold tyga cuffin place</td>\n",
              "      <td>[dats, cold, tyga, cuffin, place]</td>\n",
              "      <td>1</td>\n",
              "    </tr>\n",
              "    <tr>\n",
              "      <th>2</th>\n",
              "      <td>3</td>\n",
              "      <td>0</td>\n",
              "      <td>3</td>\n",
              "      <td>0</td>\n",
              "      <td>1</td>\n",
              "      <td>!!!!!!! RT @UrKindOfBrand Dawg!!!! RT @80sbaby...</td>\n",
              "      <td>dawg ever fuck bitch start confused shit</td>\n",
              "      <td>[dawg, ever, fuck, bitch, start, confused, shit]</td>\n",
              "      <td>1</td>\n",
              "    </tr>\n",
              "    <tr>\n",
              "      <th>3</th>\n",
              "      <td>3</td>\n",
              "      <td>0</td>\n",
              "      <td>2</td>\n",
              "      <td>1</td>\n",
              "      <td>1</td>\n",
              "      <td>!!!!!!!!! RT @C_G_Anderson: @viva_based she lo...</td>\n",
              "      <td>look like tranny</td>\n",
              "      <td>[look, like, tranny]</td>\n",
              "      <td>1</td>\n",
              "    </tr>\n",
              "    <tr>\n",
              "      <th>4</th>\n",
              "      <td>6</td>\n",
              "      <td>0</td>\n",
              "      <td>6</td>\n",
              "      <td>0</td>\n",
              "      <td>1</td>\n",
              "      <td>!!!!!!!!!!!!! RT @ShenikaRoberts: The shit you...</td>\n",
              "      <td>shit hear might true might faker bitch told</td>\n",
              "      <td>[shit, hear, might, true, might, faker, bitch,...</td>\n",
              "      <td>1</td>\n",
              "    </tr>\n",
              "    <tr>\n",
              "      <th>...</th>\n",
              "      <td>...</td>\n",
              "      <td>...</td>\n",
              "      <td>...</td>\n",
              "      <td>...</td>\n",
              "      <td>...</td>\n",
              "      <td>...</td>\n",
              "      <td>...</td>\n",
              "      <td>...</td>\n",
              "      <td>...</td>\n",
              "    </tr>\n",
              "    <tr>\n",
              "      <th>23083</th>\n",
              "      <td>3</td>\n",
              "      <td>0</td>\n",
              "      <td>2</td>\n",
              "      <td>1</td>\n",
              "      <td>1</td>\n",
              "      <td>you's a muthaf***in lie &amp;#8220;@LifeAsKing: @2...</td>\n",
              "      <td>muthaf right trash mine bible scriptures hymns</td>\n",
              "      <td>[muthaf, right, trash, mine, bible, scriptures...</td>\n",
              "      <td>1</td>\n",
              "    </tr>\n",
              "    <tr>\n",
              "      <th>23084</th>\n",
              "      <td>3</td>\n",
              "      <td>0</td>\n",
              "      <td>1</td>\n",
              "      <td>2</td>\n",
              "      <td>2</td>\n",
              "      <td>you've gone and broke the wrong heart baby, an...</td>\n",
              "      <td>gone broke wrong heart baby drove redneck crazy</td>\n",
              "      <td>[gone, broke, wrong, heart, baby, drove, redne...</td>\n",
              "      <td>2</td>\n",
              "    </tr>\n",
              "    <tr>\n",
              "      <th>23085</th>\n",
              "      <td>3</td>\n",
              "      <td>0</td>\n",
              "      <td>3</td>\n",
              "      <td>0</td>\n",
              "      <td>1</td>\n",
              "      <td>young buck wanna eat!!.. dat nigguh like I ain...</td>\n",
              "      <td>young buck wanna nigguh like aint fuckin</td>\n",
              "      <td>[young, buck, wan, na, nigguh, like, aint, fuc...</td>\n",
              "      <td>1</td>\n",
              "    </tr>\n",
              "    <tr>\n",
              "      <th>23086</th>\n",
              "      <td>6</td>\n",
              "      <td>0</td>\n",
              "      <td>6</td>\n",
              "      <td>0</td>\n",
              "      <td>1</td>\n",
              "      <td>youu got wild bitches tellin you lies</td>\n",
              "      <td>youu wild bitches tellin lies</td>\n",
              "      <td>[youu, wild, bitches, tellin, lies]</td>\n",
              "      <td>1</td>\n",
              "    </tr>\n",
              "    <tr>\n",
              "      <th>23087</th>\n",
              "      <td>3</td>\n",
              "      <td>0</td>\n",
              "      <td>0</td>\n",
              "      <td>3</td>\n",
              "      <td>2</td>\n",
              "      <td>~~Ruffled | Ntac Eileen Dahlia - Beautiful col...</td>\n",
              "      <td>ruffled ntac eileen dahlia beautiful color com...</td>\n",
              "      <td>[ruffled, ntac, eileen, dahlia, beautiful, col...</td>\n",
              "      <td>2</td>\n",
              "    </tr>\n",
              "  </tbody>\n",
              "</table>\n",
              "<p>23088 rows × 9 columns</p>\n",
              "</div>\n",
              "      <button class=\"colab-df-convert\" onclick=\"convertToInteractive('df-b9d98d5c-8ad4-4fee-a891-905812b299c1')\"\n",
              "              title=\"Convert this dataframe to an interactive table.\"\n",
              "              style=\"display:none;\">\n",
              "\n",
              "  <svg xmlns=\"http://www.w3.org/2000/svg\" height=\"24px\"viewBox=\"0 0 24 24\"\n",
              "       width=\"24px\">\n",
              "    <path d=\"M0 0h24v24H0V0z\" fill=\"none\"/>\n",
              "    <path d=\"M18.56 5.44l.94 2.06.94-2.06 2.06-.94-2.06-.94-.94-2.06-.94 2.06-2.06.94zm-11 1L8.5 8.5l.94-2.06 2.06-.94-2.06-.94L8.5 2.5l-.94 2.06-2.06.94zm10 10l.94 2.06.94-2.06 2.06-.94-2.06-.94-.94-2.06-.94 2.06-2.06.94z\"/><path d=\"M17.41 7.96l-1.37-1.37c-.4-.4-.92-.59-1.43-.59-.52 0-1.04.2-1.43.59L10.3 9.45l-7.72 7.72c-.78.78-.78 2.05 0 2.83L4 21.41c.39.39.9.59 1.41.59.51 0 1.02-.2 1.41-.59l7.78-7.78 2.81-2.81c.8-.78.8-2.07 0-2.86zM5.41 20L4 18.59l7.72-7.72 1.47 1.35L5.41 20z\"/>\n",
              "  </svg>\n",
              "      </button>\n",
              "\n",
              "\n",
              "\n",
              "    <div id=\"df-43d93230-1a27-442d-86ba-e5b1abe9a9db\">\n",
              "      <button class=\"colab-df-quickchart\" onclick=\"quickchart('df-43d93230-1a27-442d-86ba-e5b1abe9a9db')\"\n",
              "              title=\"Suggest charts.\"\n",
              "              style=\"display:none;\">\n",
              "\n",
              "<svg xmlns=\"http://www.w3.org/2000/svg\" height=\"24px\"viewBox=\"0 0 24 24\"\n",
              "     width=\"24px\">\n",
              "    <g>\n",
              "        <path d=\"M19 3H5c-1.1 0-2 .9-2 2v14c0 1.1.9 2 2 2h14c1.1 0 2-.9 2-2V5c0-1.1-.9-2-2-2zM9 17H7v-7h2v7zm4 0h-2V7h2v10zm4 0h-2v-4h2v4z\"/>\n",
              "    </g>\n",
              "</svg>\n",
              "      </button>\n",
              "    </div>\n",
              "\n",
              "<style>\n",
              "  .colab-df-quickchart {\n",
              "    background-color: #E8F0FE;\n",
              "    border: none;\n",
              "    border-radius: 50%;\n",
              "    cursor: pointer;\n",
              "    display: none;\n",
              "    fill: #1967D2;\n",
              "    height: 32px;\n",
              "    padding: 0 0 0 0;\n",
              "    width: 32px;\n",
              "  }\n",
              "\n",
              "  .colab-df-quickchart:hover {\n",
              "    background-color: #E2EBFA;\n",
              "    box-shadow: 0px 1px 2px rgba(60, 64, 67, 0.3), 0px 1px 3px 1px rgba(60, 64, 67, 0.15);\n",
              "    fill: #174EA6;\n",
              "  }\n",
              "\n",
              "  [theme=dark] .colab-df-quickchart {\n",
              "    background-color: #3B4455;\n",
              "    fill: #D2E3FC;\n",
              "  }\n",
              "\n",
              "  [theme=dark] .colab-df-quickchart:hover {\n",
              "    background-color: #434B5C;\n",
              "    box-shadow: 0px 1px 3px 1px rgba(0, 0, 0, 0.15);\n",
              "    filter: drop-shadow(0px 1px 2px rgba(0, 0, 0, 0.3));\n",
              "    fill: #FFFFFF;\n",
              "  }\n",
              "</style>\n",
              "\n",
              "    <script>\n",
              "      async function quickchart(key) {\n",
              "        const containerElement = document.querySelector('#' + key);\n",
              "        const charts = await google.colab.kernel.invokeFunction(\n",
              "            'suggestCharts', [key], {});\n",
              "      }\n",
              "    </script>\n",
              "\n",
              "      <script>\n",
              "\n",
              "function displayQuickchartButton(domScope) {\n",
              "  let quickchartButtonEl =\n",
              "    domScope.querySelector('#df-43d93230-1a27-442d-86ba-e5b1abe9a9db button.colab-df-quickchart');\n",
              "  quickchartButtonEl.style.display =\n",
              "    google.colab.kernel.accessAllowed ? 'block' : 'none';\n",
              "}\n",
              "\n",
              "        displayQuickchartButton(document);\n",
              "      </script>\n",
              "      <style>\n",
              "    .colab-df-container {\n",
              "      display:flex;\n",
              "      flex-wrap:wrap;\n",
              "      gap: 12px;\n",
              "    }\n",
              "\n",
              "    .colab-df-convert {\n",
              "      background-color: #E8F0FE;\n",
              "      border: none;\n",
              "      border-radius: 50%;\n",
              "      cursor: pointer;\n",
              "      display: none;\n",
              "      fill: #1967D2;\n",
              "      height: 32px;\n",
              "      padding: 0 0 0 0;\n",
              "      width: 32px;\n",
              "    }\n",
              "\n",
              "    .colab-df-convert:hover {\n",
              "      background-color: #E2EBFA;\n",
              "      box-shadow: 0px 1px 2px rgba(60, 64, 67, 0.3), 0px 1px 3px 1px rgba(60, 64, 67, 0.15);\n",
              "      fill: #174EA6;\n",
              "    }\n",
              "\n",
              "    [theme=dark] .colab-df-convert {\n",
              "      background-color: #3B4455;\n",
              "      fill: #D2E3FC;\n",
              "    }\n",
              "\n",
              "    [theme=dark] .colab-df-convert:hover {\n",
              "      background-color: #434B5C;\n",
              "      box-shadow: 0px 1px 3px 1px rgba(0, 0, 0, 0.15);\n",
              "      filter: drop-shadow(0px 1px 2px rgba(0, 0, 0, 0.3));\n",
              "      fill: #FFFFFF;\n",
              "    }\n",
              "  </style>\n",
              "\n",
              "      <script>\n",
              "        const buttonEl =\n",
              "          document.querySelector('#df-b9d98d5c-8ad4-4fee-a891-905812b299c1 button.colab-df-convert');\n",
              "        buttonEl.style.display =\n",
              "          google.colab.kernel.accessAllowed ? 'block' : 'none';\n",
              "\n",
              "        async function convertToInteractive(key) {\n",
              "          const element = document.querySelector('#df-b9d98d5c-8ad4-4fee-a891-905812b299c1');\n",
              "          const dataTable =\n",
              "            await google.colab.kernel.invokeFunction('convertToInteractive',\n",
              "                                                     [key], {});\n",
              "          if (!dataTable) return;\n",
              "\n",
              "          const docLinkHtml = 'Like what you see? Visit the ' +\n",
              "            '<a target=\"_blank\" href=https://colab.research.google.com/notebooks/data_table.ipynb>data table notebook</a>'\n",
              "            + ' to learn more about interactive tables.';\n",
              "          element.innerHTML = '';\n",
              "          dataTable['output_type'] = 'display_data';\n",
              "          await google.colab.output.renderOutput(dataTable, element);\n",
              "          const docLink = document.createElement('div');\n",
              "          docLink.innerHTML = docLinkHtml;\n",
              "          element.appendChild(docLink);\n",
              "        }\n",
              "      </script>\n",
              "    </div>\n",
              "  </div>\n"
            ],
            "text/plain": [
              "       count  hate_speech  offensive_language  neither  class  \\\n",
              "0          3            0                   0        3      2   \n",
              "1          3            0                   3        0      1   \n",
              "2          3            0                   3        0      1   \n",
              "3          3            0                   2        1      1   \n",
              "4          6            0                   6        0      1   \n",
              "...      ...          ...                 ...      ...    ...   \n",
              "23083      3            0                   2        1      1   \n",
              "23084      3            0                   1        2      2   \n",
              "23085      3            0                   3        0      1   \n",
              "23086      6            0                   6        0      1   \n",
              "23087      3            0                   0        3      2   \n",
              "\n",
              "                                                   tweet  \\\n",
              "0      !!! RT @mayasolovely: As a woman you shouldn't...   \n",
              "1      !!!!! RT @mleew17: boy dats cold...tyga dwn ba...   \n",
              "2      !!!!!!! RT @UrKindOfBrand Dawg!!!! RT @80sbaby...   \n",
              "3      !!!!!!!!! RT @C_G_Anderson: @viva_based she lo...   \n",
              "4      !!!!!!!!!!!!! RT @ShenikaRoberts: The shit you...   \n",
              "...                                                  ...   \n",
              "23083  you's a muthaf***in lie &#8220;@LifeAsKing: @2...   \n",
              "23084  you've gone and broke the wrong heart baby, an...   \n",
              "23085  young buck wanna eat!!.. dat nigguh like I ain...   \n",
              "23086              youu got wild bitches tellin you lies   \n",
              "23087  ~~Ruffled | Ntac Eileen Dahlia - Beautiful col...   \n",
              "\n",
              "                                            Cleaned_text  \\\n",
              "0        woman complain cleaning house always take trash   \n",
              "1                            dats cold tyga cuffin place   \n",
              "2               dawg ever fuck bitch start confused shit   \n",
              "3                                       look like tranny   \n",
              "4            shit hear might true might faker bitch told   \n",
              "...                                                  ...   \n",
              "23083     muthaf right trash mine bible scriptures hymns   \n",
              "23084    gone broke wrong heart baby drove redneck crazy   \n",
              "23085           young buck wanna nigguh like aint fuckin   \n",
              "23086                      youu wild bitches tellin lies   \n",
              "23087  ruffled ntac eileen dahlia beautiful color com...   \n",
              "\n",
              "                                          tokenized_text  updated_class  \n",
              "0      [woman, complain, cleaning, house, always, tak...              2  \n",
              "1                      [dats, cold, tyga, cuffin, place]              1  \n",
              "2       [dawg, ever, fuck, bitch, start, confused, shit]              1  \n",
              "3                                   [look, like, tranny]              1  \n",
              "4      [shit, hear, might, true, might, faker, bitch,...              1  \n",
              "...                                                  ...            ...  \n",
              "23083  [muthaf, right, trash, mine, bible, scriptures...              1  \n",
              "23084  [gone, broke, wrong, heart, baby, drove, redne...              2  \n",
              "23085  [young, buck, wan, na, nigguh, like, aint, fuc...              1  \n",
              "23086                [youu, wild, bitches, tellin, lies]              1  \n",
              "23087  [ruffled, ntac, eileen, dahlia, beautiful, col...              2  \n",
              "\n",
              "[23088 rows x 9 columns]"
            ]
          },
          "execution_count": 22,
          "metadata": {},
          "output_type": "execute_result"
        }
      ],
      "source": [
        "dataset[\"updated_class\"] = dataset[\"class\"].replace({0: 1})\n",
        "dataset"
      ]
    },
    {
      "cell_type": "code",
      "execution_count": 23,
      "id": "JTgl8vYUGqsR",
      "metadata": {
        "colab": {
          "base_uri": "https://localhost:8080/",
          "height": 501
        },
        "id": "JTgl8vYUGqsR",
        "outputId": "902da1b2-26b8-455a-d419-b0c9a79f33d0"
      },
      "outputs": [
        {
          "data": {
            "image/png": "[encoded data removed]",
            "text/plain": [
              "<Figure size 640x480 with 1 Axes>"
            ]
          },
          "metadata": {},
          "output_type": "display_data"
        },
        {
          "data": {
            "text/plain": [
              "<Figure size 800x600 with 0 Axes>"
            ]
          },
          "metadata": {},
          "output_type": "display_data"
        }
      ],
      "source": [
        "# Define a custom color palette\n",
        "custom_palette = [\"#1f77b4\", \"#ff7f0e\"]\n",
        "\n",
        "# Set the style of the plot\n",
        "sns.set(style=\"whitegrid\")\n",
        "\n",
        "# Create the countplot with the custom color palette\n",
        "sns.countplot(x='updated_class', data=dataset, palette=custom_palette)\n",
        "\n",
        "# Add labels and title\n",
        "plt.xlabel(\"Class\")\n",
        "plt.ylabel(\"Count\")\n",
        "plt.title(\"Counts of Offensive and Non-offensive Classes\")\n",
        "\n",
        "# Rotate x-axis labels for better readability\n",
        "plt.xticks(rotation=45)\n",
        "\n",
        "# Set the figure size (width, height) in inches\n",
        "plt.figure(figsize=(8, 6))\n",
        "\n",
        "# Show the plot\n",
        "plt.show()"
      ]
    },
    {
      "cell_type": "markdown",
      "id": "1_gCjbSMgwvq",
      "metadata": {
        "id": "1_gCjbSMgwvq"
      },
      "source": [
        "**Get the unique tokens**"
      ]
    },
    {
      "cell_type": "code",
      "execution_count": 24,
      "id": "41ZFpSc41mlx",
      "metadata": {
        "colab": {
          "base_uri": "https://localhost:8080/"
        },
        "id": "41ZFpSc41mlx",
        "outputId": "9f09a8ac-7d1b-484d-caa2-7962abfca758"
      },
      "outputs": [
        {
          "name": "stdout",
          "output_type": "stream",
          "text": [
            "Dimensions of the Article Collection:\n",
            "Total Tokens: 142949\n",
            "Unique Tokens: 18230\n",
            "---\n"
          ]
        }
      ],
      "source": [
        "# Tokenize the dataset into words\n",
        "all_tokens = [token for article in dataset['tokenized_text'] for token in article]\n",
        "\n",
        "# Remove stopwords\n",
        "stop_words = set(nltk.corpus.stopwords.words('english'))\n",
        "\n",
        "# Filter tokens and count them\n",
        "filtered_tokens = [token for token in all_tokens if token.lower() not in stop_words]\n",
        "token_counter = Counter(filtered_tokens)\n",
        "\n",
        "# Calculate dimensions\n",
        "total_tokens = len(filtered_tokens)\n",
        "unique_tokens = len(token_counter)\n",
        "\n",
        "# Print the dimensions\n",
        "print(\"Dimensions of the Article Collection:\")\n",
        "print(f\"Total Tokens: {total_tokens}\")\n",
        "print(f\"Unique Tokens: {unique_tokens}\")\n",
        "print('---')\n"
      ]
    },
    {
      "cell_type": "markdown",
      "id": "SA1TEJ3DbHHr",
      "metadata": {
        "id": "SA1TEJ3DbHHr"
      },
      "source": [
        "### ***Training, Test Sets***"
      ]
    },
    {
      "cell_type": "code",
      "execution_count": 25,
      "id": "abc82f0b",
      "metadata": {
        "id": "abc82f0b"
      },
      "outputs": [],
      "source": [
        "# Divide the data into training and testing sets\n",
        "def prepare_datasets_train_test(corpus, labels, test_data_proportion=0.2):\n",
        "    train_X, test_X, train_Y, test_Y = train_test_split(corpus, labels,\n",
        "                                                        test_size=0.20, random_state=42)\n",
        "    return train_X, test_X, train_Y, test_Y"
      ]
    },
    {
      "cell_type": "code",
      "execution_count": 26,
      "id": "484d4072",
      "metadata": {
        "id": "484d4072"
      },
      "outputs": [],
      "source": [
        "# We also remove empty documents since they would just add noise\n",
        "def remove_empty_docs(corpus, labels):\n",
        "    filtered_corpus = []\n",
        "    filtered_labels = []\n",
        "    for doc, label in zip(corpus, labels):\n",
        "        if doc.strip():\n",
        "            filtered_corpus.append(doc)\n",
        "            filtered_labels.append(label)\n",
        "\n",
        "    return filtered_corpus, filtered_labels"
      ]
    },
    {
      "cell_type": "code",
      "execution_count": 27,
      "id": "a3bea492",
      "metadata": {
        "id": "a3bea492"
      },
      "outputs": [],
      "source": [
        "corpus, labels = dataset['Cleaned_text'], dataset['updated_class']\n",
        "corpus, labels = remove_empty_docs(corpus, labels)"
      ]
    },
    {
      "cell_type": "code",
      "execution_count": 28,
      "id": "aa3b8d7f",
      "metadata": {
        "colab": {
          "base_uri": "https://localhost:8080/"
        },
        "id": "aa3b8d7f",
        "outputId": "b9a5701a-8d8f-4e6b-bf64-6f5f43ddb2fe"
      },
      "outputs": [
        {
          "name": "stdout",
          "output_type": "stream",
          "text": [
            "Sample document: keeks bitch curves everyone walked conversation like\n",
            "Class label: 1\n"
          ]
        }
      ],
      "source": [
        "# Display an example tweet posting\n",
        "print('Sample document:', corpus[10])\n",
        "print('Class label:',labels[10])"
      ]
    },
    {
      "cell_type": "code",
      "execution_count": 29,
      "id": "7c84f503",
      "metadata": {
        "id": "7c84f503"
      },
      "outputs": [],
      "source": [
        "train_corpus, test_corpus, train_labels, test_labels = prepare_datasets_train_test(corpus,\n",
        "                                                                        labels,\n",
        "                                                                        test_data_proportion=0.2)"
      ]
    },
    {
      "cell_type": "code",
      "execution_count": 30,
      "id": "9e38e954",
      "metadata": {
        "id": "9e38e954"
      },
      "outputs": [],
      "source": [
        "norm_train_corpus = train_corpus\n",
        "norm_test_corpus = test_corpus"
      ]
    },
    {
      "cell_type": "code",
      "execution_count": 31,
      "id": "v-vamVHMkNda",
      "metadata": {
        "colab": {
          "base_uri": "https://localhost:8080/"
        },
        "id": "v-vamVHMkNda",
        "outputId": "5b368d66-5a8a-4517-95cf-8a5fa71813c4"
      },
      "outputs": [
        {
          "data": {
            "text/plain": [
              "18469"
            ]
          },
          "execution_count": 31,
          "metadata": {},
          "output_type": "execute_result"
        }
      ],
      "source": [
        "len(norm_train_corpus)"
      ]
    },
    {
      "cell_type": "code",
      "execution_count": 32,
      "id": "zbDWyuG6kFTj",
      "metadata": {
        "colab": {
          "base_uri": "https://localhost:8080/"
        },
        "id": "zbDWyuG6kFTj",
        "outputId": "8c6567bd-cfe8-4042-dc27-18c1ba0c9c47"
      },
      "outputs": [
        {
          "data": {
            "text/plain": [
              "4618"
            ]
          },
          "execution_count": 32,
          "metadata": {},
          "output_type": "execute_result"
        }
      ],
      "source": [
        "len(norm_test_corpus)"
      ]
    },
    {
      "cell_type": "markdown",
      "id": "iKZCqUG-NT1l",
      "metadata": {
        "id": "iKZCqUG-NT1l"
      },
      "source": [
        "### ***Sparse Vector Representation***"
      ]
    },
    {
      "cell_type": "markdown",
      "id": "Xes6Mx8BNwsK",
      "metadata": {
        "id": "Xes6Mx8BNwsK"
      },
      "source": [
        "*Sparse Vector (Bag of words) that converts text into fixed-length vectors by counting how many times each word appears.*"
      ]
    },
    {
      "cell_type": "code",
      "execution_count": 33,
      "id": "2e51b740",
      "metadata": {
        "id": "2e51b740"
      },
      "outputs": [],
      "source": [
        "# Bag of words (BoW) features\n",
        "bow_vectorizer, bow_train_features = bow_extractor(norm_train_corpus)\n",
        "bow_test_features = bow_vectorizer.transform(norm_test_corpus)"
      ]
    },
    {
      "cell_type": "code",
      "execution_count": 34,
      "id": "mxyKPZ3NOkMp",
      "metadata": {
        "colab": {
          "base_uri": "https://localhost:8080/"
        },
        "id": "mxyKPZ3NOkMp",
        "outputId": "d1a12202-1efe-492d-f1a4-fd08b44766b0"
      },
      "outputs": [
        {
          "name": "stdout",
          "output_type": "stream",
          "text": [
            "Number of documents: 18469\n",
            "Number of features: 16118\n"
          ]
        }
      ],
      "source": [
        "# Get the dimensions of the sparse vector\n",
        "num_documents, num_features = bow_train_features.shape\n",
        "\n",
        "print(\"Number of documents:\", num_documents)\n",
        "print(\"Number of features:\", num_features)"
      ]
    },
    {
      "cell_type": "markdown",
      "id": "LRAa-Traig4B",
      "metadata": {
        "id": "LRAa-Traig4B"
      },
      "source": [
        "### ***Dense Vector Representation***"
      ]
    },
    {
      "cell_type": "markdown",
      "id": "S6o9WLQwOMSg",
      "metadata": {
        "id": "S6o9WLQwOMSg"
      },
      "source": [
        "*Dense vector (Embedding) is a learned representation of text where words/sentences that have the same meaning have similar representations*"
      ]
    },
    {
      "cell_type": "code",
      "execution_count": 35,
      "id": "1c011373",
      "metadata": {
        "id": "1c011373"
      },
      "outputs": [],
      "source": [
        "# TFIDF features\n",
        "tfidf_vectorizer, tfidf_train_features = tfidf_extractor(norm_train_corpus)\n",
        "tfidf_test_features = tfidf_vectorizer.transform(norm_test_corpus)"
      ]
    },
    {
      "cell_type": "code",
      "execution_count": 36,
      "id": "_fyucRi4LKGj",
      "metadata": {
        "colab": {
          "base_uri": "https://localhost:8080/"
        },
        "id": "_fyucRi4LKGj",
        "outputId": "bdc5cd6a-7916-4cc2-f64e-bb78e3a42a14"
      },
      "outputs": [
        {
          "name": "stdout",
          "output_type": "stream",
          "text": [
            "Number of documents: 18469\n",
            "Number of features: 16118\n"
          ]
        }
      ],
      "source": [
        "# Get the dimensions of the dense vector\n",
        "num_documents, num_features = tfidf_train_features.shape\n",
        "\n",
        "print(\"Number of documents:\", num_documents)\n",
        "print(\"Number of features:\", num_features)"
      ]
    },
    {
      "cell_type": "markdown",
      "id": "DsU9Gb09u65Y",
      "metadata": {
        "id": "DsU9Gb09u65Y"
      },
      "source": [
        "**Dense Vector:** A dense vector is a data structure that stores all its elements explicitly. In other words, it contains values for almost all dimensions or features, and these values are typically non-zero. Dense vectors are suitable when most of the dimensions are expected to have meaningful values, and space efficiency is not a major concern.\n",
        "\n",
        "**Sparse Vector:** A sparse vector, on the other hand, is a data structure that primarily stores elements with non-zero values, omitting those elements that are zero. It is commonly used when dealing with high-dimensional data sets that are mostly filled with zeros. Sparse vectors save memory by only recording the non-zero values and their corresponding indices or keys.\n",
        "\n"
      ]
    },
    {
      "cell_type": "markdown",
      "id": "uq17UtyjuypT",
      "metadata": {
        "id": "uq17UtyjuypT"
      },
      "source": [
        "### ***Machine learning Models***"
      ]
    },
    {
      "cell_type": "code",
      "execution_count": 37,
      "id": "1ec4dab1",
      "metadata": {
        "id": "1ec4dab1"
      },
      "outputs": [],
      "source": [
        "# Define function to calculate the 4 common mertics\n",
        "def get_metrics(true_labels, predicted_labels):\n",
        "\n",
        "    print('Accuracy:', np.round(\n",
        "                        metrics.accuracy_score(true_labels,\n",
        "                                               predicted_labels),\n",
        "                        2))\n",
        "    print('Precision:', np.round(\n",
        "                        metrics.precision_score(true_labels,\n",
        "                                               predicted_labels,\n",
        "                                               average='weighted'),\n",
        "                        2))\n",
        "    print('Recall:', np.round(\n",
        "                        metrics.recall_score(true_labels,\n",
        "                                               predicted_labels,\n",
        "                                               average='weighted'),\n",
        "                        2))\n",
        "    print('F1 Score:', np.round(\n",
        "                        metrics.f1_score(true_labels,\n",
        "                                               predicted_labels,\n",
        "                                               average='weighted'),\n",
        "                        2))\n"
      ]
    },
    {
      "cell_type": "code",
      "execution_count": 38,
      "id": "cb90af9d",
      "metadata": {
        "id": "cb90af9d"
      },
      "outputs": [],
      "source": [
        "def train_predict_evaluate_model_test(classifier,\n",
        "                                 train_features, train_labels,\n",
        "                                 test_features, test_labels):\n",
        "    # build model\n",
        "    classifier.fit(train_features, train_labels)\n",
        "    # predict using model\n",
        "    predictions = classifier.predict(test_features)\n",
        "    # evaluate model prediction performance\n",
        "    get_metrics(true_labels=test_labels,\n",
        "                predicted_labels=predictions)\n",
        "    return predictions\n"
      ]
    },
    {
      "cell_type": "markdown",
      "id": "TiR36gyqjFJj",
      "metadata": {
        "id": "TiR36gyqjFJj"
      },
      "source": [
        "###### **01) Bernuli Naive Bayes Model**"
      ]
    },
    {
      "cell_type": "markdown",
      "id": "707nBgtKotHu",
      "metadata": {
        "id": "707nBgtKotHu"
      },
      "source": [
        "*Using Dense Vector*"
      ]
    },
    {
      "cell_type": "code",
      "execution_count": 39,
      "id": "90c44cf5",
      "metadata": {
        "id": "90c44cf5"
      },
      "outputs": [],
      "source": [
        "mnb = BernoulliNB()"
      ]
    },
    {
      "cell_type": "code",
      "execution_count": 40,
      "id": "d7f531e2",
      "metadata": {
        "colab": {
          "base_uri": "https://localhost:8080/"
        },
        "id": "d7f531e2",
        "outputId": "20387876-45d3-429f-ec4a-c7ae55f47e94"
      },
      "outputs": [
        {
          "name": "stdout",
          "output_type": "stream",
          "text": [
            "Accuracy: 0.89\n",
            "Precision: 0.89\n",
            "Recall: 0.89\n",
            "F1 Score: 0.87\n"
          ]
        }
      ],
      "source": [
        "# Bernuli Naive Bayes with tfidf features\n",
        "mnb_tfidf_predictions = train_predict_evaluate_model_test(classifier=mnb,\n",
        "                                           train_features=tfidf_train_features,\n",
        "                                           train_labels=train_labels,\n",
        "                                           test_features=tfidf_test_features,\n",
        "                                           test_labels=test_labels)"
      ]
    },
    {
      "cell_type": "code",
      "execution_count": 41,
      "id": "MtFw_XmMWhAF",
      "metadata": {
        "colab": {
          "base_uri": "https://localhost:8080/"
        },
        "id": "MtFw_XmMWhAF",
        "outputId": "91760295-241e-46af-c667-c4dcf98b60b4"
      },
      "outputs": [
        {
          "name": "stdout",
          "output_type": "stream",
          "text": [
            "Confusion Matrix: BNB Model\n",
            "[[3782   36]\n",
            " [ 490  310]]\n"
          ]
        }
      ],
      "source": [
        "# Compute the confusion matrix\n",
        "confusion_mat = confusion_matrix(test_labels, mnb_tfidf_predictions)\n",
        "\n",
        "# Display the confusion matrix\n",
        "print(\"Confusion Matrix: BNB Model\")\n",
        "print(confusion_mat)"
      ]
    },
    {
      "cell_type": "markdown",
      "id": "VjpUyYmLo2bx",
      "metadata": {
        "id": "VjpUyYmLo2bx"
      },
      "source": [
        "*Using Sparse Vector*"
      ]
    },
    {
      "cell_type": "code",
      "execution_count": 42,
      "id": "UmVZMJCwo11D",
      "metadata": {
        "colab": {
          "base_uri": "https://localhost:8080/"
        },
        "id": "UmVZMJCwo11D",
        "outputId": "da049f12-35ee-4467-a430-76cd66647fd9"
      },
      "outputs": [
        {
          "name": "stdout",
          "output_type": "stream",
          "text": [
            "Accuracy: 0.89\n",
            "Precision: 0.89\n",
            "Recall: 0.89\n",
            "F1 Score: 0.87\n"
          ]
        }
      ],
      "source": [
        "# Bernuli Naive Bayes with BOW features\n",
        "mnb_bow_predictions = train_predict_evaluate_model_test(classifier=mnb,\n",
        "                                           train_features=bow_train_features,\n",
        "                                           train_labels=train_labels,\n",
        "                                           test_features=bow_test_features,\n",
        "                                           test_labels=test_labels)"
      ]
    },
    {
      "cell_type": "code",
      "execution_count": 43,
      "id": "gEjvW8OFo14G",
      "metadata": {
        "colab": {
          "base_uri": "https://localhost:8080/"
        },
        "id": "gEjvW8OFo14G",
        "outputId": "deadcc92-4d1e-473f-9c81-12f46ddf884a"
      },
      "outputs": [
        {
          "name": "stdout",
          "output_type": "stream",
          "text": [
            "Confusion Matrix: BNB Model\n",
            "[[3782   36]\n",
            " [ 490  310]]\n"
          ]
        }
      ],
      "source": [
        "# Compute the confusion matrix\n",
        "confusion_mat = confusion_matrix(test_labels, mnb_bow_predictions)\n",
        "\n",
        "# Display the confusion matrix\n",
        "print(\"Confusion Matrix: BNB Model\")\n",
        "print(confusion_mat)"
      ]
    },
    {
      "cell_type": "markdown",
      "id": "6KtHclSdjQv-",
      "metadata": {
        "id": "6KtHclSdjQv-"
      },
      "source": [
        "###### **02) Ada Boost**"
      ]
    },
    {
      "cell_type": "markdown",
      "id": "nTrbDo9qptWW",
      "metadata": {
        "id": "nTrbDo9qptWW"
      },
      "source": [
        "*Using Dense Vector*"
      ]
    },
    {
      "cell_type": "code",
      "execution_count": 44,
      "id": "QZdhSmXvpwNI",
      "metadata": {
        "colab": {
          "base_uri": "https://localhost:8080/"
        },
        "id": "QZdhSmXvpwNI",
        "outputId": "5093b4db-275d-40f6-b459-e1ccdbc5a62d"
      },
      "outputs": [
        {
          "name": "stderr",
          "output_type": "stream",
          "text": [
            "/usr/local/lib/python3.10/dist-packages/sklearn/ensemble/_base.py:166: FutureWarning: `base_estimator` was renamed to `estimator` in version 1.2 and will be removed in 1.4.\n",
            "  warnings.warn(\n"
          ]
        },
        {
          "name": "stdout",
          "output_type": "stream",
          "text": [
            "Accuracy: 0.91\n",
            "Precision: 0.9\n",
            "Recall: 0.91\n",
            "F1 Score: 0.9\n"
          ]
        }
      ],
      "source": [
        "# Create a base decision tree classifier (weak learner)\n",
        "base_classifier = DecisionTreeClassifier(max_depth=1)\n",
        "\n",
        "# Create an AdaBoost classifier with the base classifier\n",
        "ada_boost_model = AdaBoostClassifier(base_estimator=base_classifier, n_estimators=50, random_state=42)\n",
        "\n",
        "# Train the AdaBoost model on the training data\n",
        "ada_boost_model.fit(tfidf_train_features, train_labels)\n",
        "\n",
        "# Make predictions on the test data\n",
        "y_pred = ada_boost_model.predict(tfidf_test_features)\n",
        "\n",
        "# Calculate accuracy of the model\n",
        "accuracy = accuracy_score(test_labels, y_pred)\n",
        "get_metrics(true_labels=test_labels,predicted_labels=y_pred)"
      ]
    },
    {
      "cell_type": "code",
      "execution_count": 45,
      "id": "dxUWT7tApwP7",
      "metadata": {
        "colab": {
          "base_uri": "https://localhost:8080/"
        },
        "id": "dxUWT7tApwP7",
        "outputId": "5487c80a-58f3-483a-cf84-f8b4a2dff28d"
      },
      "outputs": [
        {
          "name": "stdout",
          "output_type": "stream",
          "text": [
            "Confusion Matrix: XGB\n",
            "[[3747   71]\n",
            " [ 363  437]]\n"
          ]
        }
      ],
      "source": [
        "# Compute the confusion matrix\n",
        "confusion_mat = confusion_matrix(test_labels, y_pred)\n",
        "\n",
        "# Display the confusion matrix\n",
        "print(\"Confusion Matrix: XGB\")\n",
        "print(confusion_mat)"
      ]
    },
    {
      "cell_type": "markdown",
      "id": "xn8MTenzpwml",
      "metadata": {
        "id": "xn8MTenzpwml"
      },
      "source": [
        "*Using Sparse Vector*"
      ]
    },
    {
      "cell_type": "code",
      "execution_count": 46,
      "id": "3EHmhX-Zp0Qn",
      "metadata": {
        "colab": {
          "base_uri": "https://localhost:8080/"
        },
        "id": "3EHmhX-Zp0Qn",
        "outputId": "08b8fdf5-61f8-41b1-ac35-9522f985ff3a"
      },
      "outputs": [
        {
          "name": "stderr",
          "output_type": "stream",
          "text": [
            "/usr/local/lib/python3.10/dist-packages/sklearn/ensemble/_base.py:166: FutureWarning: `base_estimator` was renamed to `estimator` in version 1.2 and will be removed in 1.4.\n",
            "  warnings.warn(\n"
          ]
        },
        {
          "name": "stdout",
          "output_type": "stream",
          "text": [
            "Accuracy: 0.91\n",
            "Precision: 0.91\n",
            "Recall: 0.91\n",
            "F1 Score: 0.9\n"
          ]
        }
      ],
      "source": [
        "# Create a base decision tree classifier (weak learner)\n",
        "base_classifier = DecisionTreeClassifier(max_depth=1)\n",
        "\n",
        "# Create an AdaBoost classifier with the base classifier\n",
        "ada_boost_model = AdaBoostClassifier(base_estimator=base_classifier, n_estimators=50, random_state=42)\n",
        "\n",
        "# Train the AdaBoost model on the training data\n",
        "ada_boost_model.fit(bow_train_features, train_labels)\n",
        "\n",
        "# Make predictions on the test data\n",
        "y_pred = ada_boost_model.predict(bow_test_features)\n",
        "\n",
        "# Calculate accuracy of the model\n",
        "accuracy = accuracy_score(test_labels, y_pred)\n",
        "get_metrics(true_labels=test_labels,predicted_labels=y_pred)"
      ]
    },
    {
      "cell_type": "code",
      "execution_count": 47,
      "id": "VRFQowcRp0UD",
      "metadata": {
        "colab": {
          "base_uri": "https://localhost:8080/"
        },
        "id": "VRFQowcRp0UD",
        "outputId": "f29c4dca-0519-48e4-8c8e-cbfcd5831c19"
      },
      "outputs": [
        {
          "name": "stdout",
          "output_type": "stream",
          "text": [
            "Confusion Matrix: XGB\n",
            "[[3748   70]\n",
            " [ 351  449]]\n"
          ]
        }
      ],
      "source": [
        "# Compute the confusion matrix\n",
        "confusion_mat = confusion_matrix(test_labels, y_pred)\n",
        "\n",
        "# Display the confusion matrix\n",
        "print(\"Confusion Matrix: XGB\")\n",
        "print(confusion_mat)"
      ]
    },
    {
      "cell_type": "markdown",
      "id": "5J5CFefSjZnM",
      "metadata": {
        "id": "5J5CFefSjZnM"
      },
      "source": [
        "###### **03) Extreme Gradient Boost Model**"
      ]
    },
    {
      "cell_type": "markdown",
      "id": "FPzzeeMepSbo",
      "metadata": {
        "id": "FPzzeeMepSbo"
      },
      "source": [
        "*Using Dense Vector*"
      ]
    },
    {
      "cell_type": "code",
      "execution_count": 48,
      "id": "Zk6IdsoCUQK4",
      "metadata": {
        "colab": {
          "base_uri": "https://localhost:8080/"
        },
        "id": "Zk6IdsoCUQK4",
        "outputId": "de62f977-9f4a-449e-dce5-b6abcd1fe3a1"
      },
      "outputs": [
        {
          "name": "stdout",
          "output_type": "stream",
          "text": [
            "Accuracy: 0.93\n",
            "Precision: 0.92\n",
            "Recall: 0.93\n",
            "F1 Score: 0.92\n"
          ]
        }
      ],
      "source": [
        "# Convert boolean labels to numeric format\n",
        "label_encoder = LabelEncoder()\n",
        "train_labels_encoded = label_encoder.fit_transform(train_labels)\n",
        "val_labels_encoded = label_encoder.transform(test_labels)\n",
        "\n",
        "# Create the XGBoost classifier\n",
        "xgb_classifier = xgb.XGBClassifier()\n",
        "\n",
        "# Train the model\n",
        "xgb_classifier.fit(tfidf_train_features, train_labels_encoded)\n",
        "\n",
        "# Make predictions on the validation set\n",
        "xgb_predictions_encoded = xgb_classifier.predict(tfidf_test_features)\n",
        "\n",
        "# Convert numeric predictions back to original labels\n",
        "xgb_predictions = label_encoder.inverse_transform(xgb_predictions_encoded)\n",
        "\n",
        "# Evaluate the model\n",
        "accuracy = accuracy_score(test_labels, xgb_predictions)\n",
        "# print(\"Accuracy:\", accuracy)\n",
        "get_metrics(true_labels=test_labels,predicted_labels=xgb_predictions)\n"
      ]
    },
    {
      "cell_type": "code",
      "execution_count": 49,
      "id": "bbswjfYpWAvK",
      "metadata": {
        "colab": {
          "base_uri": "https://localhost:8080/"
        },
        "id": "bbswjfYpWAvK",
        "outputId": "156480ed-aebe-4542-84e6-7daf1094dc7e"
      },
      "outputs": [
        {
          "name": "stdout",
          "output_type": "stream",
          "text": [
            "Confusion Matrix: XGB\n",
            "[[3721   97]\n",
            " [ 240  560]]\n"
          ]
        }
      ],
      "source": [
        "# Compute the confusion matrix\n",
        "confusion_mat = confusion_matrix(test_labels, xgb_predictions)\n",
        "\n",
        "# Display the confusion matrix\n",
        "print(\"Confusion Matrix: XGB\")\n",
        "print(confusion_mat)"
      ]
    },
    {
      "cell_type": "markdown",
      "id": "c11Ueq3KpYfo",
      "metadata": {
        "id": "c11Ueq3KpYfo"
      },
      "source": [
        "*Using Sparse Vector*"
      ]
    },
    {
      "cell_type": "code",
      "execution_count": 50,
      "id": "nXXhcPJlpcDw",
      "metadata": {
        "colab": {
          "base_uri": "https://localhost:8080/"
        },
        "id": "nXXhcPJlpcDw",
        "outputId": "485d49ea-6397-455e-a09b-ed87e497a15a"
      },
      "outputs": [
        {
          "name": "stdout",
          "output_type": "stream",
          "text": [
            "Accuracy: 0.93\n",
            "Precision: 0.93\n",
            "Recall: 0.93\n",
            "F1 Score: 0.93\n"
          ]
        }
      ],
      "source": [
        "# Convert boolean labels to numeric format\n",
        "label_encoder = LabelEncoder()\n",
        "train_labels_encoded = label_encoder.fit_transform(train_labels)\n",
        "val_labels_encoded = label_encoder.transform(test_labels)\n",
        "\n",
        "# Create the XGBoost classifier\n",
        "xgb_classifier = xgb.XGBClassifier()\n",
        "\n",
        "# Train the model\n",
        "xgb_classifier.fit(bow_train_features, train_labels_encoded)\n",
        "\n",
        "# Make predictions on the validation set\n",
        "xgb_predictions_encoded = xgb_classifier.predict(bow_test_features)\n",
        "\n",
        "# Convert numeric predictions back to original labels\n",
        "xgb_predictions = label_encoder.inverse_transform(xgb_predictions_encoded)\n",
        "\n",
        "# Evaluate the model\n",
        "accuracy = accuracy_score(test_labels, xgb_predictions)\n",
        "# print(\"Accuracy:\", accuracy)\n",
        "get_metrics(true_labels=test_labels,predicted_labels=xgb_predictions)\n"
      ]
    },
    {
      "cell_type": "code",
      "execution_count": 51,
      "id": "eCK5BI0bpcGX",
      "metadata": {
        "colab": {
          "base_uri": "https://localhost:8080/"
        },
        "id": "eCK5BI0bpcGX",
        "outputId": "12233b3e-3a4f-442c-998c-7f1464a034fe"
      },
      "outputs": [
        {
          "name": "stdout",
          "output_type": "stream",
          "text": [
            "Confusion Matrix: XGB\n",
            "[[3725   93]\n",
            " [ 219  581]]\n"
          ]
        }
      ],
      "source": [
        "# Compute the confusion matrix\n",
        "confusion_mat = confusion_matrix(test_labels, xgb_predictions)\n",
        "\n",
        "# Display the confusion matrix\n",
        "print(\"Confusion Matrix: XGB\")\n",
        "print(confusion_mat)"
      ]
    },
    {
      "cell_type": "markdown",
      "id": "ePzAJSgRb0Vj",
      "metadata": {
        "id": "ePzAJSgRb0Vj"
      },
      "source": [
        "###### **04) Random Forest Model**"
      ]
    },
    {
      "cell_type": "markdown",
      "id": "T9FMVpmCb6P7",
      "metadata": {
        "id": "T9FMVpmCb6P7"
      },
      "source": [
        "*Using Dense Vector*"
      ]
    },
    {
      "cell_type": "code",
      "execution_count": 52,
      "id": "zJYhoEiKb9iP",
      "metadata": {
        "colab": {
          "base_uri": "https://localhost:8080/"
        },
        "id": "zJYhoEiKb9iP",
        "outputId": "44acb3a1-6e0d-4149-cfeb-8b5b7feee65c"
      },
      "outputs": [
        {
          "name": "stdout",
          "output_type": "stream",
          "text": [
            "Accuracy: 0.93\n",
            "Precision: 0.93\n",
            "Recall: 0.93\n",
            "F1 Score: 0.93\n"
          ]
        }
      ],
      "source": [
        "# Convert boolean labels to numeric format\n",
        "label_encoder = LabelEncoder()\n",
        "train_labels_encoded = label_encoder.fit_transform(train_labels)\n",
        "val_labels_encoded = label_encoder.transform(test_labels)\n",
        "\n",
        "# Create the RF classifier\n",
        "rf_classifier = RandomForestClassifier(n_estimators=100, random_state=42)\n",
        "\n",
        "# Train the model\n",
        "rf_classifier.fit(tfidf_train_features, train_labels_encoded)\n",
        "\n",
        "# Make predictions on the validation set\n",
        "rf_predictions_encoded = rf_classifier.predict(tfidf_test_features)\n",
        "\n",
        "# Convert numeric predictions back to original labels\n",
        "rf_predictions = label_encoder.inverse_transform(rf_predictions_encoded)\n",
        "\n",
        "# Evaluate the model\n",
        "accuracy = accuracy_score(test_labels, rf_predictions)\n",
        "# print(\"Accuracy:\", accuracy)\n",
        "get_metrics(true_labels=test_labels,predicted_labels=rf_predictions)\n"
      ]
    },
    {
      "cell_type": "code",
      "execution_count": 53,
      "id": "l19UpnXlb9p3",
      "metadata": {
        "colab": {
          "base_uri": "https://localhost:8080/"
        },
        "id": "l19UpnXlb9p3",
        "outputId": "39ed66b3-e11b-4919-e9ad-ee6f3e7089f9"
      },
      "outputs": [
        {
          "name": "stdout",
          "output_type": "stream",
          "text": [
            "Confusion Matrix: RF\n",
            "[[3697  121]\n",
            " [ 198  602]]\n"
          ]
        }
      ],
      "source": [
        "# Compute the confusion matrix\n",
        "confusion_mat = confusion_matrix(test_labels, rf_predictions)\n",
        "\n",
        "# Display the confusion matrix\n",
        "print(\"Confusion Matrix: RF\")\n",
        "print(confusion_mat)"
      ]
    },
    {
      "cell_type": "markdown",
      "id": "mTo7MpVAb8lY",
      "metadata": {
        "id": "mTo7MpVAb8lY"
      },
      "source": [
        "*Using Sparse Vector*"
      ]
    },
    {
      "cell_type": "code",
      "execution_count": 54,
      "id": "0v72dDLIbzrm",
      "metadata": {
        "colab": {
          "base_uri": "https://localhost:8080/"
        },
        "id": "0v72dDLIbzrm",
        "outputId": "b149fdd6-8b0e-419f-c997-afcdedc9d9db"
      },
      "outputs": [
        {
          "name": "stdout",
          "output_type": "stream",
          "text": [
            "Accuracy: 0.93\n",
            "Precision: 0.93\n",
            "Recall: 0.93\n",
            "F1 Score: 0.93\n"
          ]
        }
      ],
      "source": [
        "# Convert boolean labels to numeric format\n",
        "label_encoder = LabelEncoder()\n",
        "train_labels_encoded = label_encoder.fit_transform(train_labels)\n",
        "val_labels_encoded = label_encoder.transform(test_labels)\n",
        "\n",
        "# Create the RF classifier\n",
        "rf_classifier = xgb.XGBClassifier()\n",
        "\n",
        "# Train the model\n",
        "rf_classifier.fit(bow_train_features, train_labels_encoded)\n",
        "\n",
        "# Make predictions on the validation set\n",
        "rf_predictions_encoded = rf_classifier.predict(bow_test_features)\n",
        "\n",
        "# Convert numeric predictions back to original labels\n",
        "rf_predictions = label_encoder.inverse_transform(rf_predictions_encoded)\n",
        "\n",
        "# Evaluate the model\n",
        "accuracy = accuracy_score(test_labels, rf_predictions)\n",
        "# print(\"Accuracy:\", accuracy)\n",
        "get_metrics(true_labels=test_labels,predicted_labels=rf_predictions)\n"
      ]
    },
    {
      "cell_type": "code",
      "execution_count": 55,
      "id": "SDx_AQ-DbzuB",
      "metadata": {
        "colab": {
          "base_uri": "https://localhost:8080/"
        },
        "id": "SDx_AQ-DbzuB",
        "outputId": "4ce3dada-5dcd-47ea-a151-2063f4845378"
      },
      "outputs": [
        {
          "name": "stdout",
          "output_type": "stream",
          "text": [
            "Confusion Matrix: RF\n",
            "[[3725   93]\n",
            " [ 219  581]]\n"
          ]
        }
      ],
      "source": [
        "# Compute the confusion matrix\n",
        "confusion_mat = confusion_matrix(test_labels, rf_predictions)\n",
        "\n",
        "# Display the confusion matrix\n",
        "print(\"Confusion Matrix: RF\")\n",
        "print(confusion_mat)"
      ]
    },
    {
      "cell_type": "markdown",
      "id": "zGhAfD1ZcaH7",
      "metadata": {
        "id": "zGhAfD1ZcaH7"
      },
      "source": [
        "### **Best ML Model**"
      ]
    },
    {
      "cell_type": "markdown",
      "id": "xZkGsHuHRaKS",
      "metadata": {
        "id": "xZkGsHuHRaKS"
      },
      "source": [
        "Out of all these three ML models, we can see that the xgboost and random forest model works better than the others. By considering computational power, lets selecte xgboost as our best model"
      ]
    },
    {
      "cell_type": "code",
      "execution_count": 56,
      "id": "6jHpaGsaabc2",
      "metadata": {
        "colab": {
          "base_uri": "https://localhost:8080/",
          "height": 420
        },
        "id": "6jHpaGsaabc2",
        "outputId": "700a96d7-3140-47a2-9116-03bd3a74b151"
      },
      "outputs": [
        {
          "data": {
            "image/png": "[encoded data removed]",
            "text/plain": [
              "<Figure size 600x400 with 2 Axes>"
            ]
          },
          "metadata": {},
          "output_type": "display_data"
        }
      ],
      "source": [
        "# Define the labels for the rows and columns of the confusion matrix (class names)\n",
        "class_names = ['Hate Speech & OL', 'neither']\n",
        "\n",
        "# Create a heatmap using seaborn\n",
        "plt.figure(figsize=(6, 4))\n",
        "sns.heatmap(confusion_mat, annot=True, fmt=\"d\", cmap=\"Blues\", xticklabels=class_names, yticklabels=class_names)\n",
        "\n",
        "# Customizing the labels, title, and axes\n",
        "plt.xlabel('Predicted Label', fontsize=12)\n",
        "plt.ylabel('True Label', fontsize=12)\n",
        "plt.title('Confusion Matrix', fontsize=14, fontweight='bold')\n",
        "\n",
        "# Show the plot\n",
        "plt.show()"
      ]
    },
    {
      "cell_type": "code",
      "execution_count": 57,
      "id": "QhW1CKX_bEkd",
      "metadata": {
        "colab": {
          "base_uri": "https://localhost:8080/"
        },
        "id": "QhW1CKX_bEkd",
        "outputId": "e2e0c6b9-2c31-44ad-bfab-d03f90474f43"
      },
      "outputs": [
        {
          "name": "stdout",
          "output_type": "stream",
          "text": [
            "Classification Report:\n",
            "              precision    recall  f1-score   support\n",
            "\n",
            "           1       0.94      0.98      0.96      3818\n",
            "           2       0.86      0.73      0.79       800\n",
            "\n",
            "    accuracy                           0.93      4618\n",
            "   macro avg       0.90      0.85      0.87      4618\n",
            "weighted avg       0.93      0.93      0.93      4618\n",
            "\n"
          ]
        }
      ],
      "source": [
        "# Classification Report\n",
        "class_report = classification_report(test_labels, xgb_predictions)\n",
        "print(\"Classification Report:\")\n",
        "print(class_report)"
      ]
    },
    {
      "cell_type": "markdown",
      "id": "xxZuCkJAk9fF",
      "metadata": {
        "id": "xxZuCkJAk9fF"
      },
      "source": [
        "### ***Word2VEc model (Embedding Technique)***"
      ]
    },
    {
      "cell_type": "code",
      "execution_count": 58,
      "id": "FzNS7u3jgmEp",
      "metadata": {
        "colab": {
          "base_uri": "https://localhost:8080/"
        },
        "id": "FzNS7u3jgmEp",
        "outputId": "7965ec83-b8b9-49a3-844c-32bd1ba77c0a"
      },
      "outputs": [
        {
          "name": "stdout",
          "output_type": "stream",
          "text": [
            "Epoch 1/5\n",
            "578/578 [==============================] - 24s 32ms/step - loss: 0.2954 - accuracy: 0.8767 - val_loss: 0.1536 - val_accuracy: 0.9372\n",
            "Epoch 2/5\n",
            "578/578 [==============================] - 4s 6ms/step - loss: 0.1176 - accuracy: 0.9537 - val_loss: 0.1491 - val_accuracy: 0.9392\n",
            "Epoch 3/5\n",
            "578/578 [==============================] - 4s 7ms/step - loss: 0.0726 - accuracy: 0.9752 - val_loss: 0.1696 - val_accuracy: 0.9322\n",
            "Epoch 4/5\n",
            "578/578 [==============================] - 3s 6ms/step - loss: 0.0469 - accuracy: 0.9847 - val_loss: 0.1967 - val_accuracy: 0.9283\n",
            "Epoch 5/5\n",
            "578/578 [==============================] - 3s 6ms/step - loss: 0.0301 - accuracy: 0.9912 - val_loss: 0.2471 - val_accuracy: 0.9155\n",
            "145/145 [==============================] - 0s 2ms/step\n",
            "Accuracy: 91.55%\n",
            "Confusion Matrix:\n",
            "[[3587  255]\n",
            " [ 135  641]]\n",
            "Classification Report:\n",
            "              precision    recall  f1-score   support\n",
            "\n",
            "           0       0.96      0.93      0.95      3842\n",
            "           1       0.72      0.83      0.77       776\n",
            "\n",
            "    accuracy                           0.92      4618\n",
            "   macro avg       0.84      0.88      0.86      4618\n",
            "weighted avg       0.92      0.92      0.92      4618\n",
            "\n"
          ]
        }
      ],
      "source": [
        "df = dataset\n",
        "\n",
        "# Splitting data into features (text) and labels\n",
        "X = df['Cleaned_text']\n",
        "\n",
        "# Convert boolean labels to numeric format using LabelEncoder\n",
        "from sklearn.preprocessing import LabelEncoder\n",
        "label_encoder = LabelEncoder()\n",
        "y = label_encoder.fit_transform(df['updated_class'])\n",
        "\n",
        "# Convert the target variable to one-hot encoded format\n",
        "y_onehot = to_categorical(y, num_classes=2)\n",
        "\n",
        "# Train Word2Vec model on the text data\n",
        "word2vec_model = Word2Vec(sentences=X.apply(lambda x: x.split()), vector_size=2, window=5, min_count=1, sg=0)\n",
        "\n",
        "# Create an embedding matrix\n",
        "embedding_matrix = word2vec_model.wv.vectors\n",
        "embedding_dim = embedding_matrix.shape[1]\n",
        "\n",
        "# Tokenize text and convert to sequences\n",
        "# max_features = 1000\n",
        "# tokenizer = Tokenizer(num_words=max_features)\n",
        "tokenizer = Tokenizer()\n",
        "tokenizer.fit_on_texts(X)\n",
        "X_seq = tokenizer.texts_to_sequences(X)\n",
        "\n",
        "# Pad sequences to make them of equal length (optional, but necessary for neural networks)\n",
        "max_sequence_length = max(len(seq) for seq in X_seq)\n",
        "X_padded = pad_sequences(X_seq, maxlen=max_sequence_length)\n",
        "\n",
        "# Splitting the data into training and testing sets\n",
        "X_train, X_test, y_train, y_test = train_test_split(X_padded, y_onehot, test_size=0.2, random_state=42)\n",
        "\n",
        "# Building the neural network\n",
        "model = Sequential()\n",
        "model.add(Embedding(input_dim = len(tokenizer.word_index) + 1, output_dim=embedding_dim, input_length=max_sequence_length))\n",
        "model.add(Flatten())\n",
        "model.add(Dense(64, activation='relu'))\n",
        "model.add(Dense(2, activation='softmax'))\n",
        "\n",
        "# Compile the model\n",
        "model.compile(loss='categorical_crossentropy', optimizer='adam', metrics=['accuracy'])\n",
        "\n",
        "# Train the model\n",
        "model.fit(X_train, y_train, epochs=5, batch_size=32, validation_data=(X_test, y_test))\n",
        "\n",
        "# Evaluate the model on the test data\n",
        "y_pred_onehot = model.predict(X_test)\n",
        "y_pred = y_pred_onehot.argmax(axis=1)\n",
        "\n",
        "# Accuracy\n",
        "accuracy = accuracy_score(y_test.argmax(axis=1), y_pred)\n",
        "print(\"Accuracy: {:.2f}%\".format(accuracy * 100))\n",
        "\n",
        "# Confusion Matrix\n",
        "conf_matrix = confusion_matrix(y_test.argmax(axis=1), y_pred)\n",
        "print(\"Confusion Matrix:\")\n",
        "print(conf_matrix)\n",
        "\n",
        "# Classification Report\n",
        "class_report = classification_report(y_test.argmax(axis=1), y_pred)\n",
        "print(\"Classification Report:\")\n",
        "print(class_report)\n"
      ]
    },
    {
      "cell_type": "code",
      "execution_count": 59,
      "id": "64z9_Z8XrjxX",
      "metadata": {
        "colab": {
          "base_uri": "https://localhost:8080/",
          "height": 420
        },
        "id": "64z9_Z8XrjxX",
        "outputId": "925d4b7a-73b7-45ea-f680-970c066b2822"
      },
      "outputs": [
        {
          "data": {
            "image/png": "[encoded data removed]",
            "text/plain": [
              "<Figure size 600x400 with 2 Axes>"
            ]
          },
          "metadata": {},
          "output_type": "display_data"
        }
      ],
      "source": [
        "# Define the labels for the rows and columns of the confusion matrix (class names)\n",
        "class_names = ['Hate Speech & OL', 'neither']\n",
        "\n",
        "# Create a heatmap using seaborn\n",
        "plt.figure(figsize=(6, 4))\n",
        "sns.heatmap(conf_matrix, annot=True, fmt=\"d\", cmap=\"Blues\", xticklabels=class_names, yticklabels=class_names)\n",
        "\n",
        "# Customizing the labels, title, and axes\n",
        "plt.xlabel('Predicted Label', fontsize=12)\n",
        "plt.ylabel('True Label', fontsize=12)\n",
        "plt.title('Confusion Matrix', fontsize=14, fontweight='bold')\n",
        "\n",
        "# Show the plot\n",
        "plt.show()"
      ]
    },
    {
      "cell_type": "code",
      "execution_count": 59,
      "id": "t-nDf3m1UTcF",
      "metadata": {
        "id": "t-nDf3m1UTcF"
      },
      "outputs": [],
      "source": []
    }
  ],
  "metadata": {
    "accelerator": "GPU",
    "colab": {
      "gpuType": "T4",
      "provenance": []
    },
    "kernelspec": {
      "display_name": "Python 3",
      "name": "python3"
    },
    "language_info": {
      "codemirror_mode": {
        "name": "ipython",
        "version": 3
      },
      "file_extension": ".py",
      "mimetype": "text/x-python",
      "name": "python",
      "nbconvert_exporter": "python",
      "pygments_lexer": "ipython3",
      "version": "3.8.8"
    }
  },
  "nbformat": 4,
  "nbformat_minor": 5
}
